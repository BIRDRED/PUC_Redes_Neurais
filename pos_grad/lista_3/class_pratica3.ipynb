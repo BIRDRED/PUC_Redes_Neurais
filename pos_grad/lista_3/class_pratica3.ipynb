{
  "nbformat": 4,
  "nbformat_minor": 0,
  "metadata": {
    "colab": {
      "name": "class_pratica3.ipynb",
      "provenance": []
    },
    "kernelspec": {
      "name": "python3",
      "display_name": "Python 3"
    },
    "language_info": {
      "name": "python"
    }
  },
  "cells": [
    {
      "cell_type": "markdown",
      "source": [
        "# PUC-Rio \n",
        "## Departamento de Engenharia Elétrica\n",
        "## Trabalho 3 - Mapas de Kohonen\n",
        "\n",
        "Estudante:"
      ],
      "metadata": {
        "id": "URkPYAKXKDla"
      }
    },
    {
      "cell_type": "code",
      "execution_count": 1,
      "metadata": {
        "id": "oNLbCYUnYF24",
        "colab": {
          "base_uri": "https://localhost:8080/"
        },
        "outputId": "9b0d999a-2ea8-44b9-ed8b-c65847fc3a38"
      },
      "outputs": [
        {
          "output_type": "stream",
          "name": "stdout",
          "text": [
            "Cloning into 'minisom'...\n",
            "remote: Enumerating objects: 1656, done.\u001b[K\n",
            "remote: Counting objects: 100% (1179/1179), done.\u001b[K\n",
            "remote: Compressing objects: 100% (559/559), done.\u001b[K\n",
            "remote: Total 1656 (delta 643), reused 1143 (delta 619), pack-reused 477\u001b[K\n",
            "Receiving objects: 100% (1656/1656), 14.61 MiB | 18.16 MiB/s, done.\n",
            "Resolving deltas: 100% (900/900), done.\n"
          ]
        }
      ],
      "source": [
        "!git clone https://github.com/mdrs-thiago/minisom"
      ]
    },
    {
      "cell_type": "code",
      "source": [
        ""
      ],
      "metadata": {
        "id": "tXOHaoma9CHB"
      },
      "execution_count": 2,
      "outputs": []
    },
    {
      "cell_type": "code",
      "source": [
        "import numpy as np\n",
        "import pandas as pd\n",
        "\n",
        "from minisom.minisom import MiniSom"
      ],
      "metadata": {
        "id": "M4HwMJfKYKBV"
      },
      "execution_count": null,
      "outputs": []
    },
    {
      "cell_type": "code",
      "source": [
        ""
      ],
      "metadata": {
        "id": "wTiStTms-yMj"
      },
      "execution_count": null,
      "outputs": []
    },
    {
      "cell_type": "code",
      "source": [
        ""
      ],
      "metadata": {
        "id": "ezT37mZo-yJp"
      },
      "execution_count": null,
      "outputs": []
    },
    {
      "cell_type": "code",
      "source": [
        "dataset = pd.read_csv('class_thyroid.csv')"
      ],
      "metadata": {
        "id": "VMya6BRd-yHB"
      },
      "execution_count": null,
      "outputs": []
    },
    {
      "cell_type": "code",
      "source": [
        "values = dataset.values[:,:-1]"
      ],
      "metadata": {
        "id": "HN9T4Lf3-yAa"
      },
      "execution_count": null,
      "outputs": []
    },
    {
      "cell_type": "markdown",
      "source": [
        "## Parte 1 - Testando configurações"
      ],
      "metadata": {
        "id": "mASJCy9S-ymi"
      }
    },
    {
      "cell_type": "markdown",
      "source": [
        "Nesta primeira etapa, iremos investigar como a configuração do mapa pode mudar de acordo com a escolha de parâmetros. "
      ],
      "metadata": {
        "id": "LiRWrvX7_zNc"
      }
    },
    {
      "cell_type": "markdown",
      "source": [
        "##### 1. Escolha os parâmetros para o primeiro teste usando SOM. Para cada parâmetro, justifique sua escolha. Avalie o resultado."
      ],
      "metadata": {
        "id": "rDQsf1ceASYD"
      }
    },
    {
      "cell_type": "code",
      "source": [
        "#decay function \n",
        "\n",
        "def decay_fcn(lr,actual_t,max_t):\n",
        "    '''\n",
        "    Função para decaimento da taxa de aprendizado. \n",
        "    \n",
        "    ## INPUTS:\n",
        "    lr - Taxa de aprendizado inicial\n",
        "    actual_t - Tempo atual da iteração\n",
        "    max_t - Tempo máximo da iteração\n",
        "\n",
        "    ## OUTPUT:\n",
        "    - taxa de aprendizado atualizada.\n",
        "    '''\n",
        "\n",
        "    new_lr = lr/(1 + 2*actual_t/max_t)\n",
        "\n",
        "    return new_lr\n",
        "\n",
        "#@title Escolha de parâmetros\n",
        "\n",
        "m = 1 #@param {type:\"slider\", min:1, max:50, step:1}\n",
        "\n",
        "n = 1 #@param {type:\"slider\", min:1, max:50, step:1}\n",
        "variable_name = 0.0001 #@param {type:\"number\"}\n",
        "\n",
        "topology = \"hexagonal\" #@param [\"hexagonal\", \"rectangular\"]\n",
        "\n",
        "ordering_time = 0 #@param {type:\"integer\"}\n",
        "finetuning_time = 0 #@param {type:\"integer\"}\n",
        "decay_fun =  decay_fcn #@param {type:\"raw\"}\n",
        "\n",
        "\n",
        "\n",
        "#Dimensão do vetor de entrada\n",
        "input_len = values.shape[1]\n",
        "\n",
        "X = minmax_scale(values)\n",
        "\n",
        "\n",
        "\n"
      ],
      "metadata": {
        "cellView": "form",
        "id": "5q0tXEpAASF8"
      },
      "execution_count": null,
      "outputs": []
    },
    {
      "cell_type": "code",
      "source": [
        "som = MiniSom(m,n,input_len,learning_rate=lr,topology=topology,decay_function=decay_fcn)\n",
        "som.pca_weights_init(values)\n",
        "\n",
        "som.train_random(X, ordering_time, verbose=True)\n"
      ],
      "metadata": {
        "id": "YllYcS-q_yfk"
      },
      "execution_count": null,
      "outputs": []
    },
    {
      "cell_type": "markdown",
      "source": [
        "##### 2. Modifique a topologia da rede. Teste diferentes valores e avalie o resultado."
      ],
      "metadata": {
        "id": "oxe4_fkuBS4M"
      }
    },
    {
      "cell_type": "code",
      "source": [
        ""
      ],
      "metadata": {
        "id": "EFEycZ2uBn02"
      },
      "execution_count": null,
      "outputs": []
    },
    {
      "cell_type": "code",
      "source": [
        ""
      ],
      "metadata": {
        "id": "myes9A1nBv7k"
      },
      "execution_count": null,
      "outputs": []
    },
    {
      "cell_type": "markdown",
      "source": [
        "##### 3. Modifique a normalização dos dados de entrada e avalie o resultado obtido. Esta mudança tem algum efeito no mapa gerado?"
      ],
      "metadata": {
        "id": "F0Hw3MW-BwPb"
      }
    },
    {
      "cell_type": "code",
      "source": [
        ""
      ],
      "metadata": {
        "id": "CLOlNNn6CMex"
      },
      "execution_count": null,
      "outputs": []
    },
    {
      "cell_type": "code",
      "source": [
        ""
      ],
      "metadata": {
        "id": "klli8lSZCPlD"
      },
      "execution_count": null,
      "outputs": []
    },
    {
      "cell_type": "markdown",
      "source": [
        "##### 4. Modifique o processo de treinamento durante a fase de ordenação. Avalie o resultado gerado."
      ],
      "metadata": {
        "id": "OjkOYjgNCP0l"
      }
    },
    {
      "cell_type": "code",
      "source": [
        ""
      ],
      "metadata": {
        "id": "YDJVDGB5CYwV"
      },
      "execution_count": null,
      "outputs": []
    },
    {
      "cell_type": "code",
      "source": [
        ""
      ],
      "metadata": {
        "id": "dGNceoR2CbmJ"
      },
      "execution_count": null,
      "outputs": []
    },
    {
      "cell_type": "markdown",
      "source": [
        "##### 5. Modifique o processo de treinamento durante a fase de ajuste fino. Avalie o resultado gerado."
      ],
      "metadata": {
        "id": "tZ-b-a_dCb5p"
      }
    },
    {
      "cell_type": "code",
      "source": [
        ""
      ],
      "metadata": {
        "id": "n9BH6CwNCgTb"
      },
      "execution_count": null,
      "outputs": []
    },
    {
      "cell_type": "code",
      "source": [
        ""
      ],
      "metadata": {
        "id": "S5dYiExjCg3M"
      },
      "execution_count": null,
      "outputs": []
    },
    {
      "cell_type": "markdown",
      "source": [
        "##### 6. Modifique a função de decaimento da taxa de aprendizado. Esta mudança gera algum impacto no mapa gerado? Justifique"
      ],
      "metadata": {
        "id": "3w7DF0rGChMz"
      }
    },
    {
      "cell_type": "code",
      "source": [
        ""
      ],
      "metadata": {
        "id": "dv9N0gvSCwWp"
      },
      "execution_count": null,
      "outputs": []
    },
    {
      "cell_type": "code",
      "source": [
        ""
      ],
      "metadata": {
        "id": "KqIoyTn8Cw3F"
      },
      "execution_count": null,
      "outputs": []
    },
    {
      "cell_type": "markdown",
      "source": [
        "##### 7. Altere a função de vizinhança. Avalie o resultado."
      ],
      "metadata": {
        "id": "5MD9OgOZCxCb"
      }
    },
    {
      "cell_type": "code",
      "source": [
        ""
      ],
      "metadata": {
        "id": "5U_qiCP5C_by"
      },
      "execution_count": null,
      "outputs": []
    },
    {
      "cell_type": "code",
      "source": [
        ""
      ],
      "metadata": {
        "id": "oZ_Izm0DDAKU"
      },
      "execution_count": null,
      "outputs": []
    },
    {
      "cell_type": "markdown",
      "source": [
        "## Parte 2 - Análise dos mapas"
      ],
      "metadata": {
        "id": "fs6k_aMkDAYT"
      }
    },
    {
      "cell_type": "markdown",
      "source": [
        "##### 1. Teste novas configurações para o modelo SOM para obter um melhor resultado. Justifique a escolha dos parâmetros do modelo selecionado."
      ],
      "metadata": {
        "id": "qRRbjux4DMHC"
      }
    },
    {
      "cell_type": "code",
      "source": [
        ""
      ],
      "metadata": {
        "id": "lo8dRckEDC0e"
      },
      "execution_count": null,
      "outputs": []
    },
    {
      "cell_type": "markdown",
      "source": [
        "##### 2. Utilizando a melhor configuração do item anterior, analise os diferentes mapas fornecidos e caracterize os grupos de pacientes obtidos."
      ],
      "metadata": {
        "id": "6VE-F0VXEXOI"
      }
    },
    {
      "cell_type": "code",
      "source": [
        ""
      ],
      "metadata": {
        "id": "cyWcQLuLEb0A"
      },
      "execution_count": null,
      "outputs": []
    }
  ]
}