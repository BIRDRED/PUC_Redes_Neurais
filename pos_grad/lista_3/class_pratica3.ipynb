{
  "cells": [
    {
      "cell_type": "markdown",
      "metadata": {
        "id": "URkPYAKXKDla"
      },
      "source": [
        "# PUC-Rio \n",
        "## Departamento de Engenharia Elétrica\n",
        "## Trabalho 3 - Mapas de Kohonen\n",
        "\n",
        "Estudante:"
      ]
    },
    {
      "cell_type": "code",
      "execution_count": 1,
      "metadata": {
        "colab": {
          "base_uri": "https://localhost:8080/"
        },
        "id": "oNLbCYUnYF24",
        "outputId": "9b0d999a-2ea8-44b9-ed8b-c65847fc3a38"
      },
      "outputs": [
        {
          "name": "stdout",
          "output_type": "stream",
          "text": [
            "Cloning into 'minisom'...\n",
            "remote: Enumerating objects: 1656, done.\u001b[K\n",
            "remote: Counting objects: 100% (1179/1179), done.\u001b[K\n",
            "remote: Compressing objects: 100% (559/559), done.\u001b[K\n",
            "remote: Total 1656 (delta 643), reused 1143 (delta 619), pack-reused 477\u001b[K\n",
            "Receiving objects: 100% (1656/1656), 14.61 MiB | 18.16 MiB/s, done.\n",
            "Resolving deltas: 100% (900/900), done.\n"
          ]
        }
      ],
      "source": [
        "!git clone https://github.com/mdrs-thiago/minisom"
      ]
    },
    {
      "cell_type": "code",
      "execution_count": 2,
      "metadata": {
        "id": "tXOHaoma9CHB"
      },
      "outputs": [],
      "source": []
    },
    {
      "cell_type": "code",
      "execution_count": null,
      "metadata": {
        "id": "M4HwMJfKYKBV"
      },
      "outputs": [],
      "source": [
        "import numpy as np\n",
        "import pandas as pd\n",
        "\n",
        "from minisom.minisom import MiniSom"
      ]
    },
    {
      "cell_type": "code",
      "execution_count": null,
      "metadata": {
        "id": "VMya6BRd-yHB"
      },
      "outputs": [],
      "source": [
        "dataset = pd.read_csv('class_thyroid.csv')"
      ]
    },
    {
      "cell_type": "code",
      "execution_count": null,
      "metadata": {
        "id": "HN9T4Lf3-yAa"
      },
      "outputs": [],
      "source": [
        "values = dataset.values[:,:-1]"
      ]
    },
    {
      "cell_type": "markdown",
      "metadata": {
        "id": "mASJCy9S-ymi"
      },
      "source": [
        "## Parte 1 - Testando configurações"
      ]
    },
    {
      "cell_type": "markdown",
      "metadata": {
        "id": "LiRWrvX7_zNc"
      },
      "source": [
        "Nesta primeira etapa, iremos investigar como a configuração do mapa pode mudar de acordo com a escolha de parâmetros. "
      ]
    },
    {
      "cell_type": "markdown",
      "metadata": {
        "id": "rDQsf1ceASYD"
      },
      "source": [
        "##### 1. Escolha os parâmetros para o primeiro teste usando SOM. Para cada parâmetro, justifique sua escolha. Avalie o resultado."
      ]
    },
    {
      "cell_type": "code",
      "execution_count": null,
      "metadata": {
        "cellView": "form",
        "id": "5q0tXEpAASF8"
      },
      "outputs": [],
      "source": [
        "#decay function \n",
        "\n",
        "def decay_fcn(lr,actual_t,max_t):\n",
        "    '''\n",
        "    Função para decaimento da taxa de aprendizado. \n",
        "    \n",
        "    ## INPUTS:\n",
        "    lr - Taxa de aprendizado inicial\n",
        "    actual_t - Tempo atual da iteração\n",
        "    max_t - Tempo máximo da iteração\n",
        "\n",
        "    ## OUTPUT:\n",
        "    - taxa de aprendizado atualizada.\n",
        "    '''\n",
        "\n",
        "    new_lr = lr/(1 + 2*actual_t/max_t)\n",
        "\n",
        "    return new_lr\n",
        "\n",
        "#@title Escolha de parâmetros\n",
        "\n",
        "m = 1 #@param {type:\"slider\", min:1, max:50, step:1}\n",
        "\n",
        "n = 1 #@param {type:\"slider\", min:1, max:50, step:1}\n",
        "variable_name = 0.0001 #@param {type:\"number\"}\n",
        "\n",
        "topology = \"hexagonal\" #@param [\"hexagonal\", \"rectangular\"]\n",
        "\n",
        "ordering_time = 0 #@param {type:\"integer\"}\n",
        "finetuning_time = 0 #@param {type:\"integer\"}\n",
        "decay_fun =  decay_fcn #@param {type:\"raw\"}\n",
        "\n",
        "\n",
        "\n",
        "#Dimensão do vetor de entrada\n",
        "input_len = values.shape[1]\n",
        "\n",
        "X = minmax_scale(values)\n",
        "\n",
        "\n",
        "\n"
      ]
    },
    {
      "cell_type": "code",
      "execution_count": null,
      "metadata": {
        "id": "YllYcS-q_yfk"
      },
      "outputs": [],
      "source": [
        "som = MiniSom(m,n,input_len,learning_rate=lr,topology=topology,decay_function=decay_fcn)\n",
        "som.pca_weights_init(values)\n",
        "\n",
        "som.train_random(X, ordering_time, verbose=True)\n"
      ]
    },
    {
      "cell_type": "markdown",
      "metadata": {
        "id": "oxe4_fkuBS4M"
      },
      "source": [
        "##### 2. Modifique a topologia da rede. Teste diferentes valores e avalie o resultado."
      ]
    },
    {
      "cell_type": "code",
      "execution_count": null,
      "metadata": {
        "id": "EFEycZ2uBn02"
      },
      "outputs": [],
      "source": []
    },
    {
      "cell_type": "code",
      "execution_count": null,
      "metadata": {
        "id": "myes9A1nBv7k"
      },
      "outputs": [],
      "source": []
    },
    {
      "cell_type": "markdown",
      "metadata": {
        "id": "F0Hw3MW-BwPb"
      },
      "source": [
        "##### 3. Modifique a normalização dos dados de entrada e avalie o resultado obtido. Esta mudança tem algum efeito no mapa gerado?"
      ]
    },
    {
      "cell_type": "code",
      "execution_count": null,
      "metadata": {
        "id": "CLOlNNn6CMex"
      },
      "outputs": [],
      "source": []
    },
    {
      "cell_type": "code",
      "execution_count": null,
      "metadata": {
        "id": "klli8lSZCPlD"
      },
      "outputs": [],
      "source": []
    },
    {
      "cell_type": "markdown",
      "metadata": {
        "id": "OjkOYjgNCP0l"
      },
      "source": [
        "##### 4. Modifique o processo de treinamento durante a fase de ordenação. Avalie o resultado gerado."
      ]
    },
    {
      "cell_type": "code",
      "execution_count": null,
      "metadata": {
        "id": "YDJVDGB5CYwV"
      },
      "outputs": [],
      "source": []
    },
    {
      "cell_type": "code",
      "execution_count": null,
      "metadata": {
        "id": "dGNceoR2CbmJ"
      },
      "outputs": [],
      "source": []
    },
    {
      "cell_type": "markdown",
      "metadata": {
        "id": "tZ-b-a_dCb5p"
      },
      "source": [
        "##### 5. Modifique o processo de treinamento durante a fase de ajuste fino. Avalie o resultado gerado."
      ]
    },
    {
      "cell_type": "code",
      "execution_count": null,
      "metadata": {
        "id": "n9BH6CwNCgTb"
      },
      "outputs": [],
      "source": []
    },
    {
      "cell_type": "code",
      "execution_count": null,
      "metadata": {
        "id": "S5dYiExjCg3M"
      },
      "outputs": [],
      "source": []
    },
    {
      "cell_type": "markdown",
      "metadata": {
        "id": "3w7DF0rGChMz"
      },
      "source": [
        "##### 6. Modifique a função de decaimento da taxa de aprendizado. Esta mudança gera algum impacto no mapa gerado? Justifique"
      ]
    },
    {
      "cell_type": "code",
      "execution_count": null,
      "metadata": {
        "id": "dv9N0gvSCwWp"
      },
      "outputs": [],
      "source": []
    },
    {
      "cell_type": "code",
      "execution_count": null,
      "metadata": {
        "id": "KqIoyTn8Cw3F"
      },
      "outputs": [],
      "source": []
    },
    {
      "cell_type": "markdown",
      "metadata": {
        "id": "5MD9OgOZCxCb"
      },
      "source": [
        "##### 7. Altere a função de vizinhança. Avalie o resultado."
      ]
    },
    {
      "cell_type": "code",
      "execution_count": null,
      "metadata": {
        "id": "5U_qiCP5C_by"
      },
      "outputs": [],
      "source": []
    },
    {
      "cell_type": "code",
      "execution_count": null,
      "metadata": {
        "id": "oZ_Izm0DDAKU"
      },
      "outputs": [],
      "source": []
    },
    {
      "cell_type": "markdown",
      "metadata": {
        "id": "fs6k_aMkDAYT"
      },
      "source": [
        "## Parte 2 - Análise dos mapas"
      ]
    },
    {
      "cell_type": "markdown",
      "metadata": {
        "id": "qRRbjux4DMHC"
      },
      "source": [
        "##### 1. Teste novas configurações para o modelo SOM para obter um melhor resultado. Justifique a escolha dos parâmetros do modelo selecionado."
      ]
    },
    {
      "cell_type": "code",
      "execution_count": null,
      "metadata": {
        "id": "lo8dRckEDC0e"
      },
      "outputs": [],
      "source": []
    },
    {
      "cell_type": "markdown",
      "metadata": {
        "id": "6VE-F0VXEXOI"
      },
      "source": [
        "##### 2. Utilizando a melhor configuração do item anterior, analise os diferentes mapas fornecidos e caracterize os grupos de pacientes obtidos."
      ]
    },
    {
      "cell_type": "code",
      "execution_count": null,
      "metadata": {
        "id": "cyWcQLuLEb0A"
      },
      "outputs": [],
      "source": []
    }
  ],
  "metadata": {
    "colab": {
      "name": "class_pratica3.ipynb",
      "provenance": []
    },
    "kernelspec": {
      "display_name": "Python 3",
      "name": "python3"
    },
    "language_info": {
      "name": "python"
    }
  },
  "nbformat": 4,
  "nbformat_minor": 0
}
