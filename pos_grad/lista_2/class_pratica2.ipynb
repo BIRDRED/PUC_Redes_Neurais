{
  "cells": [
    {
      "cell_type": "markdown",
      "metadata": {
        "id": "_d3ZnDn5Rbll"
      },
      "source": [
        "# PUC-Rio \n",
        "## Departamento de Engenharia Elétrica\n",
        "## Trabalho 2 - Previsão de séries temporais\n",
        "\n",
        "Estudante:\n",
        "\n",
        "Base de dados:"
      ]
    },
    {
      "cell_type": "code",
      "execution_count": 1,
      "metadata": {
        "id": "EHYb1u2lRblo"
      },
      "outputs": [],
      "source": [
        "import numpy as np \n",
        "import pandas as pd \n",
        "import matplotlib.pyplot as plt \n",
        "\n",
        "import torch \n",
        "import torch.nn as nn\n",
        "from torch.utils.data import WeightedRandomSampler, Dataset, DataLoader \n",
        "import torch.nn.functional as F\n",
        "\n",
        "from sklearn.metrics import mean_squared_error, mean_absolute_error\n",
        "import os\n",
        "\n",
        "from tqdm.notebook import tqdm\n"
      ]
    },
    {
      "cell_type": "markdown",
      "metadata": {},
      "source": [
        "## Preparação para a lista"
      ]
    },
    {
      "cell_type": "code",
      "execution_count": 3,
      "metadata": {
        "id": "2W79BR_qDfKI"
      },
      "outputs": [],
      "source": [
        "class CustomDataset(Dataset):\n",
        "    \n",
        "    def __init__(self, X_data, y_data):\n",
        "        self.X_data = X_data\n",
        "        self.y_data = y_data\n",
        "        \n",
        "    def __getitem__(self, index):\n",
        "        return self.X_data[index], self.y_data[index]\n",
        "        \n",
        "    def __len__ (self):\n",
        "        return len(self.X_data)\n"
      ]
    },
    {
      "cell_type": "code",
      "execution_count": 4,
      "metadata": {
        "id": "luN5IAD7DquQ"
      },
      "outputs": [],
      "source": [
        "class NeuralNetwork(torch.nn.Module):\n",
        "  '''\n",
        "  Objeto criado para facilitar o desenvolvimento dos scripts das aulas práticas.\n",
        "  Opção alternativa à criação externa fdo modelo. Basicamente serve como um \n",
        "  'agregador'  de trechos comuns para a criação do modelo. Por exemplo, ao invés\n",
        "  de gastar n+1 linhas para a criação de um modelo com n camadas, podemos criar \n",
        "  o mesmo modelo com apenas uma linha.\n",
        "  \n",
        "  Parâmetros de entrada: \n",
        "  - hidden_neurons: Lista com a quantidade de neurônios na camada escondida. \n",
        "  - hidden_activation: Função de ativação para cada camada escondida. Aceita \n",
        "  como parâmetro string ou lista. Caso o parâmetro receba string, então a mesma\n",
        "  função de ativação é utilizada para todas as camadas escondidas. Caso seja uma \n",
        "  lista, cada camada terá sua propria função de ativação definida pela lista.\n",
        "  - output_activation: Função de ativação para a camada de saída.\n",
        "  - lr: Taxa de aprendizado\n",
        "  - n_input: Tamanho do vetor de entrada.\n",
        "  - n_output: Saída do modelo.\n",
        "  '''\n",
        "  def __init__(self,hidden_neurons = 4, hidden_activation = 'relu', output_activation='softmax', lr = 0.05, n_input = 1, n_output = 1):\n",
        "    # create model\n",
        "    super(NeuralNetwork, self).__init__()\n",
        "\n",
        "    self.activations = {'relu': nn.ReLU(), 'sigmoid':nn.Sigmoid(), 'softmax':nn.Softmax()}\n",
        "\n",
        "    self.fc1 = nn.Linear(n_input, hidden_neurons)\n",
        "    self.ha = self.activations[hidden_activation]\n",
        "    self.fc2 = nn.Linear(hidden_neurons, n_output)\n",
        "    #self.out = self.activations[output_activation]\n",
        "    \n",
        "    #self.out = nn.Sigmoid() #Para o caso binário\n",
        "  def forward(self,x):\n",
        "    h = self.fc1(x)\n",
        "    h1 = self.ha(h) \n",
        "    y = self.fc2(h1) \n",
        "    #y = self.out(h2)\n",
        "    return y\n"
      ]
    },
    {
      "cell_type": "code",
      "execution_count": 5,
      "metadata": {
        "id": "ZH4nTjcwRblp"
      },
      "outputs": [],
      "source": [
        "def transform_data(data, lag = 1, test_split = 0.1, normalize = True, category = 'binary'):\n",
        "    \n",
        "    '''\n",
        "    Função para transformação de dados para a 2ª Lista de exercícios.\n",
        "    A transformação de dados nesta etapa tem duas funções principais: a transformação da série em uma forma tabular para \n",
        "    o aprendizado de Redes Neurais e normalização dos dados.\n",
        "    Parâmetros de entrada:\n",
        "    - data: base de dados a ser ajeitado.\n",
        "    - test_split: propoporção da base de dados para teste. Caso seja um float entre 0 e 1, o valor é interpretado como proporção. \n",
        "    Caso seja um valor inteiro, é compreendido como o tempo reservado para generalização (e.g. lag = 12 reserva os 12 últimos \n",
        "    registros para o teste).\n",
        "    - normalize: normalização da série. Default True\n",
        "    - categ: string contendo a codificação a ser realizada para a variável exógena (no caso, o mês).\n",
        "\n",
        "    A função retorna dois dataframes, sendo o primeiro para treinamento e o segundo para generalização.\n",
        "    '''\n",
        "\n",
        "    global _min\n",
        "    global _max\n",
        "    \n",
        "    \n",
        "    data_values = data.values\n",
        "    \n",
        "    if 0 < test_split < 1.0:\n",
        "        l = data_values.shape[0]\n",
        "        train_values = data_values[:-int(test_split*l),0].reshape(-1,1)\n",
        "        test_values = data_values[-int(test_split*l):,0].reshape(-1,1)\n",
        "        train_idx = data_values[:-int(test_split*l),1].reshape(-1,1)\n",
        "        test_idx = data_values[-int(test_split*l):,1].reshape(-1,1)\n",
        "        \n",
        "    elif test_split > 1 and type(test_split) is int:\n",
        "\n",
        "        train_values = data_values[:-test_split,0].reshape(-1,1)\n",
        "        test_values = data_values[-test_split:,0].reshape(-1,1)\n",
        "        train_idx = data_values[:-test_split,1].reshape(-1,1)\n",
        "        test_idx = data_values[-test_split:,1].reshape(-1,1)\n",
        "        \n",
        "    else:\n",
        "        print('Test split not understood. Test split should be float between 0 and 1 or integer for index')\n",
        "    \n",
        "    assert test_values.shape[0] >= (lag)\n",
        "    \n",
        "    _min = np.min(train_values)\n",
        "    _max = np.max(train_values)\n",
        "    \n",
        "    if normalize:\n",
        "        \n",
        "        test_values = (test_values - _min)/(_max - _min)\n",
        "        train_values = (train_values - _min)/(_max - _min)\n",
        "        \n",
        "    train_data = np.zeros((train_values.shape[0] - (lag + 1), lag + 2))\n",
        "    test_data = np.zeros((test_values.shape[0], lag + 2))\n",
        "    \n",
        "    \n",
        "    all_data = np.vstack((train_values,test_values))\n",
        "    all_idx = np.vstack((train_idx,test_idx))\n",
        "\n",
        "    new_data = np.zeros((train_values.shape[0] - (lag + 1) + test_values.shape[0],lag + 2))\n",
        "    \n",
        "    \n",
        "    \n",
        "    for i in range(lag + 2):\n",
        "        new_data[:,i] = all_data[i:new_data.shape[0]+i,0]\n",
        "        \n",
        "\n",
        "    \n",
        "    if category == 'binary':\n",
        "        binary_rep = [np.binary_repr(z,width=4) for z in all_idx.astype('int').reshape(-1,)]\n",
        "        t0 = np.array([int(v) for s in binary_rep for v in s[0]])\n",
        "        t1 = np.array([int(v) for s in binary_rep for v in s[1]])\n",
        "        t2 = np.array([int(v) for s in binary_rep for v in s[2]])\n",
        "        t3 = np.array([int(v) for s in binary_rep for v in s[3]])\n",
        "        t = np.vstack((t0,t1,t2,t3)).T\n",
        "        t = t[-new_data.shape[0]:,:]\n",
        "        temp_idx = [f'month_{i}' for i in range(4)]\n",
        "        \n",
        "    elif category == '1toN':\n",
        "        pass\n",
        "    \n",
        "    else:\n",
        "        t = (all_idx - np.min(train_idx))/(np.max(train_idx) - np.min(train_idx))\n",
        "        t = t.reshape(-1,1)\n",
        "        t = t[-new_data.shape[0]:,:]\n",
        "        temp_idx = ['month']\n",
        "    \n",
        "    \n",
        "    new_data = np.hstack((t,new_data))\n",
        "    \n",
        "    train_data = new_data[:-test_values.shape[0],:]\n",
        "    test_data = new_data[-test_values.shape[0]:,:]\n",
        "    \n",
        "    \n",
        "    data_columns = [f'y(t{i})' if i < 0 else 'y(t)' if i == 0 else f'y(t+{i})' for i in range(-lag,2)] \n",
        "    temp_idx.extend(data_columns)\n",
        "    new_train_df = pd.DataFrame(train_data, columns=temp_idx)\n",
        "    new_test_df = pd.DataFrame(test_data, columns=temp_idx)\n",
        "    \n",
        "    \n",
        "    \n",
        "    \n",
        "    return new_train_df, new_test_df\n",
        "        \n",
        "    \n",
        "    \n",
        "    "
      ]
    },
    {
      "cell_type": "code",
      "execution_count": 6,
      "metadata": {},
      "outputs": [],
      "source": [
        "!git clone https://github.com/mdrs-thiago/PUC_Redes_Neurais\n",
        "os.chdir('/content/PUC_Redes_Neurais/pos_grad/lista_2')"
      ]
    },
    {
      "cell_type": "code",
      "execution_count": 7,
      "metadata": {
        "id": "jGxNjbU_Rblr"
      },
      "outputs": [],
      "source": [
        "path = 'datasets/microclima6/microclima6.csv'\n",
        "raw_data = pd.read_csv(path)\n"
      ]
    },
    {
      "cell_type": "markdown",
      "metadata": {
        "id": "KCKBkpmqTjfU"
      },
      "source": [
        "## Parte 1 - Compreensão do problema"
      ]
    },
    {
      "cell_type": "markdown",
      "metadata": {
        "id": "BP54d77HTnG0"
      },
      "source": [
        "#### 1.\tVisualize, em forma de gráfico, a dinâmica temporal da série escolhida. A série é adequada para a modelagem usando Redes Neurais? Caso não seja, que técnicas podem ser aplicadas para ajustar o comportamento da série?"
      ]
    },
    {
      "cell_type": "code",
      "execution_count": 8,
      "metadata": {
        "colab": {
          "base_uri": "https://localhost:8080/",
          "height": 424
        },
        "id": "ndyb6iejTr1L",
        "outputId": "e73afdc3-022b-4068-f937-abd70796ba52"
      },
      "outputs": [
        {
          "data": {
            "text/html": [
              "<div>\n",
              "<style scoped>\n",
              "    .dataframe tbody tr th:only-of-type {\n",
              "        vertical-align: middle;\n",
              "    }\n",
              "\n",
              "    .dataframe tbody tr th {\n",
              "        vertical-align: top;\n",
              "    }\n",
              "\n",
              "    .dataframe thead th {\n",
              "        text-align: right;\n",
              "    }\n",
              "</style>\n",
              "<table border=\"1\" class=\"dataframe\">\n",
              "  <thead>\n",
              "    <tr style=\"text-align: right;\">\n",
              "      <th></th>\n",
              "      <th>value</th>\n",
              "      <th>time</th>\n",
              "    </tr>\n",
              "  </thead>\n",
              "  <tbody>\n",
              "    <tr>\n",
              "      <th>0</th>\n",
              "      <td>33.720968</td>\n",
              "      <td>1.0</td>\n",
              "    </tr>\n",
              "    <tr>\n",
              "      <th>1</th>\n",
              "      <td>34.723214</td>\n",
              "      <td>2.0</td>\n",
              "    </tr>\n",
              "    <tr>\n",
              "      <th>2</th>\n",
              "      <td>33.084274</td>\n",
              "      <td>3.0</td>\n",
              "    </tr>\n",
              "    <tr>\n",
              "      <th>3</th>\n",
              "      <td>30.005000</td>\n",
              "      <td>4.0</td>\n",
              "    </tr>\n",
              "    <tr>\n",
              "      <th>4</th>\n",
              "      <td>25.253629</td>\n",
              "      <td>5.0</td>\n",
              "    </tr>\n",
              "    <tr>\n",
              "      <th>...</th>\n",
              "      <td>...</td>\n",
              "      <td>...</td>\n",
              "    </tr>\n",
              "    <tr>\n",
              "      <th>139</th>\n",
              "      <td>23.990323</td>\n",
              "      <td>8.0</td>\n",
              "    </tr>\n",
              "    <tr>\n",
              "      <th>140</th>\n",
              "      <td>25.755417</td>\n",
              "      <td>9.0</td>\n",
              "    </tr>\n",
              "    <tr>\n",
              "      <th>141</th>\n",
              "      <td>23.843145</td>\n",
              "      <td>10.0</td>\n",
              "    </tr>\n",
              "    <tr>\n",
              "      <th>142</th>\n",
              "      <td>31.638750</td>\n",
              "      <td>11.0</td>\n",
              "    </tr>\n",
              "    <tr>\n",
              "      <th>143</th>\n",
              "      <td>30.219758</td>\n",
              "      <td>12.0</td>\n",
              "    </tr>\n",
              "  </tbody>\n",
              "</table>\n",
              "<p>144 rows × 2 columns</p>\n",
              "</div>"
            ],
            "text/plain": [
              "         value  time\n",
              "0    33.720968   1.0\n",
              "1    34.723214   2.0\n",
              "2    33.084274   3.0\n",
              "3    30.005000   4.0\n",
              "4    25.253629   5.0\n",
              "..         ...   ...\n",
              "139  23.990323   8.0\n",
              "140  25.755417   9.0\n",
              "141  23.843145  10.0\n",
              "142  31.638750  11.0\n",
              "143  30.219758  12.0\n",
              "\n",
              "[144 rows x 2 columns]"
            ]
          },
          "execution_count": 8,
          "metadata": {},
          "output_type": "execute_result"
        }
      ],
      "source": [
        "raw_data"
      ]
    },
    {
      "cell_type": "code",
      "execution_count": null,
      "metadata": {
        "id": "-tyzdEUsTroC"
      },
      "outputs": [],
      "source": []
    },
    {
      "cell_type": "markdown",
      "metadata": {
        "id": "n5PLA6UnTm-o"
      },
      "source": [
        "#### 2.\tNesta 2ª lista de exercícios, usaremos uma variável exógena que representa o mês de previsão (i.e. no instante t+1). De que forma esta variável pode auxiliar na previsão da série temporal?"
      ]
    },
    {
      "cell_type": "code",
      "execution_count": null,
      "metadata": {
        "id": "9k8ls62OUHFC"
      },
      "outputs": [],
      "source": []
    },
    {
      "cell_type": "code",
      "execution_count": null,
      "metadata": {
        "id": "qan7fXx1Rblt"
      },
      "outputs": [],
      "source": []
    },
    {
      "cell_type": "markdown",
      "metadata": {},
      "source": [
        "#### 3. Observe que a base de dados não está em um formato adequado para o uso imediato de um modelo de Rede Neural para previsão de séries temporais. Descreva as etapas necessárias de transformação desta base de dados para que possamos utilizá-la no treinamento de uma MLP. Considere que os padrões de entrada (e saída) devem ser normalizados."
      ]
    },
    {
      "cell_type": "code",
      "execution_count": null,
      "metadata": {},
      "outputs": [],
      "source": []
    },
    {
      "cell_type": "markdown",
      "metadata": {
        "id": "XNlVnXbmUNmF"
      },
      "source": [
        "## Parte 2 - Previsão one-step"
      ]
    },
    {
      "cell_type": "markdown",
      "metadata": {},
      "source": [
        "<b> IMPORTANTE! </b> Este processo não é a previsão multi-step, conforme ensinado em sala de aula. \n",
        "Esta parte da lista é importante para evitar erros de avaliação para a previsão de séries temporais com um horizonte de previsão maior que 1."
      ]
    },
    {
      "cell_type": "markdown",
      "metadata": {
        "id": "k6zqvC40URCh"
      },
      "source": [
        "#### 1.\tExecute o script para a previsão one-step. Avalie o resultado (conjunto de treinamento e teste) usando métricas apropriadas, como RMSE e MAE."
      ]
    },
    {
      "cell_type": "code",
      "execution_count": 9,
      "metadata": {
        "id": "Tp8MWFhSbrCS"
      },
      "outputs": [],
      "source": [
        "prev = 12\n",
        "train_val ,test_val = transform_data(raw_data,lag=12,test_split = prev,normalize=True,category='binary')\n",
        "\n",
        "\n"
      ]
    },
    {
      "cell_type": "code",
      "execution_count": 10,
      "metadata": {
        "colab": {
          "base_uri": "https://localhost:8080/",
          "height": 488
        },
        "id": "QWasfnhDbxfM",
        "outputId": "a97fc6ff-1104-4ea1-b674-e11c2dfab9fe"
      },
      "outputs": [
        {
          "data": {
            "text/html": [
              "<div>\n",
              "<style scoped>\n",
              "    .dataframe tbody tr th:only-of-type {\n",
              "        vertical-align: middle;\n",
              "    }\n",
              "\n",
              "    .dataframe tbody tr th {\n",
              "        vertical-align: top;\n",
              "    }\n",
              "\n",
              "    .dataframe thead th {\n",
              "        text-align: right;\n",
              "    }\n",
              "</style>\n",
              "<table border=\"1\" class=\"dataframe\">\n",
              "  <thead>\n",
              "    <tr style=\"text-align: right;\">\n",
              "      <th></th>\n",
              "      <th>month</th>\n",
              "      <th>y(t-12)</th>\n",
              "      <th>y(t-11)</th>\n",
              "      <th>y(t-10)</th>\n",
              "      <th>y(t-9)</th>\n",
              "      <th>y(t-8)</th>\n",
              "      <th>y(t-7)</th>\n",
              "      <th>y(t-6)</th>\n",
              "      <th>y(t-5)</th>\n",
              "      <th>y(t-4)</th>\n",
              "      <th>y(t-3)</th>\n",
              "      <th>y(t-2)</th>\n",
              "      <th>y(t-1)</th>\n",
              "      <th>y(t)</th>\n",
              "      <th>y(t+1)</th>\n",
              "    </tr>\n",
              "  </thead>\n",
              "  <tbody>\n",
              "    <tr>\n",
              "      <th>0</th>\n",
              "      <td>0.090909</td>\n",
              "      <td>0.915141</td>\n",
              "      <td>1.000000</td>\n",
              "      <td>0.861233</td>\n",
              "      <td>0.600514</td>\n",
              "      <td>0.198221</td>\n",
              "      <td>0.146195</td>\n",
              "      <td>0.075622</td>\n",
              "      <td>0.175722</td>\n",
              "      <td>0.208744</td>\n",
              "      <td>0.150629</td>\n",
              "      <td>0.184755</td>\n",
              "      <td>0.680731</td>\n",
              "      <td>0.844436</td>\n",
              "      <td>0.935629</td>\n",
              "    </tr>\n",
              "    <tr>\n",
              "      <th>1</th>\n",
              "      <td>0.181818</td>\n",
              "      <td>1.000000</td>\n",
              "      <td>0.861233</td>\n",
              "      <td>0.600514</td>\n",
              "      <td>0.198221</td>\n",
              "      <td>0.146195</td>\n",
              "      <td>0.075622</td>\n",
              "      <td>0.175722</td>\n",
              "      <td>0.208744</td>\n",
              "      <td>0.150629</td>\n",
              "      <td>0.184755</td>\n",
              "      <td>0.680731</td>\n",
              "      <td>0.844436</td>\n",
              "      <td>0.935629</td>\n",
              "      <td>0.704766</td>\n",
              "    </tr>\n",
              "    <tr>\n",
              "      <th>2</th>\n",
              "      <td>0.272727</td>\n",
              "      <td>0.861233</td>\n",
              "      <td>0.600514</td>\n",
              "      <td>0.198221</td>\n",
              "      <td>0.146195</td>\n",
              "      <td>0.075622</td>\n",
              "      <td>0.175722</td>\n",
              "      <td>0.208744</td>\n",
              "      <td>0.150629</td>\n",
              "      <td>0.184755</td>\n",
              "      <td>0.680731</td>\n",
              "      <td>0.844436</td>\n",
              "      <td>0.935629</td>\n",
              "      <td>0.704766</td>\n",
              "      <td>0.369827</td>\n",
              "    </tr>\n",
              "    <tr>\n",
              "      <th>3</th>\n",
              "      <td>0.363636</td>\n",
              "      <td>0.600514</td>\n",
              "      <td>0.198221</td>\n",
              "      <td>0.146195</td>\n",
              "      <td>0.075622</td>\n",
              "      <td>0.175722</td>\n",
              "      <td>0.208744</td>\n",
              "      <td>0.150629</td>\n",
              "      <td>0.184755</td>\n",
              "      <td>0.680731</td>\n",
              "      <td>0.844436</td>\n",
              "      <td>0.935629</td>\n",
              "      <td>0.704766</td>\n",
              "      <td>0.369827</td>\n",
              "      <td>0.188627</td>\n",
              "    </tr>\n",
              "    <tr>\n",
              "      <th>4</th>\n",
              "      <td>0.454545</td>\n",
              "      <td>0.198221</td>\n",
              "      <td>0.146195</td>\n",
              "      <td>0.075622</td>\n",
              "      <td>0.175722</td>\n",
              "      <td>0.208744</td>\n",
              "      <td>0.150629</td>\n",
              "      <td>0.184755</td>\n",
              "      <td>0.680731</td>\n",
              "      <td>0.844436</td>\n",
              "      <td>0.935629</td>\n",
              "      <td>0.704766</td>\n",
              "      <td>0.369827</td>\n",
              "      <td>0.188627</td>\n",
              "      <td>0.000000</td>\n",
              "    </tr>\n",
              "    <tr>\n",
              "      <th>...</th>\n",
              "      <td>...</td>\n",
              "      <td>...</td>\n",
              "      <td>...</td>\n",
              "      <td>...</td>\n",
              "      <td>...</td>\n",
              "      <td>...</td>\n",
              "      <td>...</td>\n",
              "      <td>...</td>\n",
              "      <td>...</td>\n",
              "      <td>...</td>\n",
              "      <td>...</td>\n",
              "      <td>...</td>\n",
              "      <td>...</td>\n",
              "      <td>...</td>\n",
              "      <td>...</td>\n",
              "    </tr>\n",
              "    <tr>\n",
              "      <th>114</th>\n",
              "      <td>0.636364</td>\n",
              "      <td>0.201020</td>\n",
              "      <td>0.159915</td>\n",
              "      <td>0.245787</td>\n",
              "      <td>0.313582</td>\n",
              "      <td>0.341427</td>\n",
              "      <td>0.490977</td>\n",
              "      <td>0.545705</td>\n",
              "      <td>0.595857</td>\n",
              "      <td>0.577933</td>\n",
              "      <td>0.485329</td>\n",
              "      <td>0.231815</td>\n",
              "      <td>0.136529</td>\n",
              "      <td>0.113245</td>\n",
              "      <td>0.093341</td>\n",
              "    </tr>\n",
              "    <tr>\n",
              "      <th>115</th>\n",
              "      <td>0.727273</td>\n",
              "      <td>0.159915</td>\n",
              "      <td>0.245787</td>\n",
              "      <td>0.313582</td>\n",
              "      <td>0.341427</td>\n",
              "      <td>0.490977</td>\n",
              "      <td>0.545705</td>\n",
              "      <td>0.595857</td>\n",
              "      <td>0.577933</td>\n",
              "      <td>0.485329</td>\n",
              "      <td>0.231815</td>\n",
              "      <td>0.136529</td>\n",
              "      <td>0.113245</td>\n",
              "      <td>0.093341</td>\n",
              "      <td>0.075814</td>\n",
              "    </tr>\n",
              "    <tr>\n",
              "      <th>116</th>\n",
              "      <td>0.818182</td>\n",
              "      <td>0.245787</td>\n",
              "      <td>0.313582</td>\n",
              "      <td>0.341427</td>\n",
              "      <td>0.490977</td>\n",
              "      <td>0.545705</td>\n",
              "      <td>0.595857</td>\n",
              "      <td>0.577933</td>\n",
              "      <td>0.485329</td>\n",
              "      <td>0.231815</td>\n",
              "      <td>0.136529</td>\n",
              "      <td>0.113245</td>\n",
              "      <td>0.093341</td>\n",
              "      <td>0.075814</td>\n",
              "      <td>0.210989</td>\n",
              "    </tr>\n",
              "    <tr>\n",
              "      <th>117</th>\n",
              "      <td>0.909091</td>\n",
              "      <td>0.313582</td>\n",
              "      <td>0.341427</td>\n",
              "      <td>0.490977</td>\n",
              "      <td>0.545705</td>\n",
              "      <td>0.595857</td>\n",
              "      <td>0.577933</td>\n",
              "      <td>0.485329</td>\n",
              "      <td>0.231815</td>\n",
              "      <td>0.136529</td>\n",
              "      <td>0.113245</td>\n",
              "      <td>0.093341</td>\n",
              "      <td>0.075814</td>\n",
              "      <td>0.210989</td>\n",
              "      <td>0.092324</td>\n",
              "    </tr>\n",
              "    <tr>\n",
              "      <th>118</th>\n",
              "      <td>1.000000</td>\n",
              "      <td>0.341427</td>\n",
              "      <td>0.490977</td>\n",
              "      <td>0.545705</td>\n",
              "      <td>0.595857</td>\n",
              "      <td>0.577933</td>\n",
              "      <td>0.485329</td>\n",
              "      <td>0.231815</td>\n",
              "      <td>0.136529</td>\n",
              "      <td>0.113245</td>\n",
              "      <td>0.093341</td>\n",
              "      <td>0.075814</td>\n",
              "      <td>0.210989</td>\n",
              "      <td>0.092324</td>\n",
              "      <td>0.260050</td>\n",
              "    </tr>\n",
              "  </tbody>\n",
              "</table>\n",
              "<p>119 rows × 15 columns</p>\n",
              "</div>"
            ],
            "text/plain": [
              "        month   y(t-12)   y(t-11)   y(t-10)    y(t-9)    y(t-8)    y(t-7)  \\\n",
              "0    0.090909  0.915141  1.000000  0.861233  0.600514  0.198221  0.146195   \n",
              "1    0.181818  1.000000  0.861233  0.600514  0.198221  0.146195  0.075622   \n",
              "2    0.272727  0.861233  0.600514  0.198221  0.146195  0.075622  0.175722   \n",
              "3    0.363636  0.600514  0.198221  0.146195  0.075622  0.175722  0.208744   \n",
              "4    0.454545  0.198221  0.146195  0.075622  0.175722  0.208744  0.150629   \n",
              "..        ...       ...       ...       ...       ...       ...       ...   \n",
              "114  0.636364  0.201020  0.159915  0.245787  0.313582  0.341427  0.490977   \n",
              "115  0.727273  0.159915  0.245787  0.313582  0.341427  0.490977  0.545705   \n",
              "116  0.818182  0.245787  0.313582  0.341427  0.490977  0.545705  0.595857   \n",
              "117  0.909091  0.313582  0.341427  0.490977  0.545705  0.595857  0.577933   \n",
              "118  1.000000  0.341427  0.490977  0.545705  0.595857  0.577933  0.485329   \n",
              "\n",
              "       y(t-6)    y(t-5)    y(t-4)    y(t-3)    y(t-2)    y(t-1)      y(t)  \\\n",
              "0    0.075622  0.175722  0.208744  0.150629  0.184755  0.680731  0.844436   \n",
              "1    0.175722  0.208744  0.150629  0.184755  0.680731  0.844436  0.935629   \n",
              "2    0.208744  0.150629  0.184755  0.680731  0.844436  0.935629  0.704766   \n",
              "3    0.150629  0.184755  0.680731  0.844436  0.935629  0.704766  0.369827   \n",
              "4    0.184755  0.680731  0.844436  0.935629  0.704766  0.369827  0.188627   \n",
              "..        ...       ...       ...       ...       ...       ...       ...   \n",
              "114  0.545705  0.595857  0.577933  0.485329  0.231815  0.136529  0.113245   \n",
              "115  0.595857  0.577933  0.485329  0.231815  0.136529  0.113245  0.093341   \n",
              "116  0.577933  0.485329  0.231815  0.136529  0.113245  0.093341  0.075814   \n",
              "117  0.485329  0.231815  0.136529  0.113245  0.093341  0.075814  0.210989   \n",
              "118  0.231815  0.136529  0.113245  0.093341  0.075814  0.210989  0.092324   \n",
              "\n",
              "       y(t+1)  \n",
              "0    0.935629  \n",
              "1    0.704766  \n",
              "2    0.369827  \n",
              "3    0.188627  \n",
              "4    0.000000  \n",
              "..        ...  \n",
              "114  0.093341  \n",
              "115  0.075814  \n",
              "116  0.210989  \n",
              "117  0.092324  \n",
              "118  0.260050  \n",
              "\n",
              "[119 rows x 15 columns]"
            ]
          },
          "execution_count": 10,
          "metadata": {},
          "output_type": "execute_result"
        }
      ],
      "source": [
        "train_val"
      ]
    },
    {
      "cell_type": "code",
      "execution_count": 11,
      "metadata": {
        "colab": {
          "base_uri": "https://localhost:8080/",
          "height": 490
        },
        "id": "mqharkqDbxUk",
        "outputId": "e045afaf-5867-4da9-85a2-7cf46dc1db26"
      },
      "outputs": [
        {
          "data": {
            "text/html": [
              "<div>\n",
              "<style scoped>\n",
              "    .dataframe tbody tr th:only-of-type {\n",
              "        vertical-align: middle;\n",
              "    }\n",
              "\n",
              "    .dataframe tbody tr th {\n",
              "        vertical-align: top;\n",
              "    }\n",
              "\n",
              "    .dataframe thead th {\n",
              "        text-align: right;\n",
              "    }\n",
              "</style>\n",
              "<table border=\"1\" class=\"dataframe\">\n",
              "  <thead>\n",
              "    <tr style=\"text-align: right;\">\n",
              "      <th></th>\n",
              "      <th>month</th>\n",
              "      <th>y(t-12)</th>\n",
              "      <th>y(t-11)</th>\n",
              "      <th>y(t-10)</th>\n",
              "      <th>y(t-9)</th>\n",
              "      <th>y(t-8)</th>\n",
              "      <th>y(t-7)</th>\n",
              "      <th>y(t-6)</th>\n",
              "      <th>y(t-5)</th>\n",
              "      <th>y(t-4)</th>\n",
              "      <th>y(t-3)</th>\n",
              "      <th>y(t-2)</th>\n",
              "      <th>y(t-1)</th>\n",
              "      <th>y(t)</th>\n",
              "      <th>y(t+1)</th>\n",
              "    </tr>\n",
              "  </thead>\n",
              "  <tbody>\n",
              "    <tr>\n",
              "      <th>0</th>\n",
              "      <td>0.000000</td>\n",
              "      <td>0.490977</td>\n",
              "      <td>0.545705</td>\n",
              "      <td>0.595857</td>\n",
              "      <td>0.577933</td>\n",
              "      <td>0.485329</td>\n",
              "      <td>0.231815</td>\n",
              "      <td>0.136529</td>\n",
              "      <td>0.113245</td>\n",
              "      <td>0.093341</td>\n",
              "      <td>0.075814</td>\n",
              "      <td>0.210989</td>\n",
              "      <td>0.092324</td>\n",
              "      <td>0.260050</td>\n",
              "      <td>0.626345</td>\n",
              "    </tr>\n",
              "    <tr>\n",
              "      <th>1</th>\n",
              "      <td>0.090909</td>\n",
              "      <td>0.545705</td>\n",
              "      <td>0.595857</td>\n",
              "      <td>0.577933</td>\n",
              "      <td>0.485329</td>\n",
              "      <td>0.231815</td>\n",
              "      <td>0.136529</td>\n",
              "      <td>0.113245</td>\n",
              "      <td>0.093341</td>\n",
              "      <td>0.075814</td>\n",
              "      <td>0.210989</td>\n",
              "      <td>0.092324</td>\n",
              "      <td>0.260050</td>\n",
              "      <td>0.626345</td>\n",
              "      <td>0.779483</td>\n",
              "    </tr>\n",
              "    <tr>\n",
              "      <th>2</th>\n",
              "      <td>0.181818</td>\n",
              "      <td>0.595857</td>\n",
              "      <td>0.577933</td>\n",
              "      <td>0.485329</td>\n",
              "      <td>0.231815</td>\n",
              "      <td>0.136529</td>\n",
              "      <td>0.113245</td>\n",
              "      <td>0.093341</td>\n",
              "      <td>0.075814</td>\n",
              "      <td>0.210989</td>\n",
              "      <td>0.092324</td>\n",
              "      <td>0.260050</td>\n",
              "      <td>0.626345</td>\n",
              "      <td>0.779483</td>\n",
              "      <td>0.606236</td>\n",
              "    </tr>\n",
              "    <tr>\n",
              "      <th>3</th>\n",
              "      <td>0.272727</td>\n",
              "      <td>0.577933</td>\n",
              "      <td>0.485329</td>\n",
              "      <td>0.231815</td>\n",
              "      <td>0.136529</td>\n",
              "      <td>0.113245</td>\n",
              "      <td>0.093341</td>\n",
              "      <td>0.075814</td>\n",
              "      <td>0.210989</td>\n",
              "      <td>0.092324</td>\n",
              "      <td>0.260050</td>\n",
              "      <td>0.626345</td>\n",
              "      <td>0.779483</td>\n",
              "      <td>0.606236</td>\n",
              "      <td>0.331302</td>\n",
              "    </tr>\n",
              "    <tr>\n",
              "      <th>4</th>\n",
              "      <td>0.363636</td>\n",
              "      <td>0.485329</td>\n",
              "      <td>0.231815</td>\n",
              "      <td>0.136529</td>\n",
              "      <td>0.113245</td>\n",
              "      <td>0.093341</td>\n",
              "      <td>0.075814</td>\n",
              "      <td>0.210989</td>\n",
              "      <td>0.092324</td>\n",
              "      <td>0.260050</td>\n",
              "      <td>0.626345</td>\n",
              "      <td>0.779483</td>\n",
              "      <td>0.606236</td>\n",
              "      <td>0.331302</td>\n",
              "      <td>0.303818</td>\n",
              "    </tr>\n",
              "    <tr>\n",
              "      <th>5</th>\n",
              "      <td>0.454545</td>\n",
              "      <td>0.231815</td>\n",
              "      <td>0.136529</td>\n",
              "      <td>0.113245</td>\n",
              "      <td>0.093341</td>\n",
              "      <td>0.075814</td>\n",
              "      <td>0.210989</td>\n",
              "      <td>0.092324</td>\n",
              "      <td>0.260050</td>\n",
              "      <td>0.626345</td>\n",
              "      <td>0.779483</td>\n",
              "      <td>0.606236</td>\n",
              "      <td>0.331302</td>\n",
              "      <td>0.303818</td>\n",
              "      <td>0.081635</td>\n",
              "    </tr>\n",
              "    <tr>\n",
              "      <th>6</th>\n",
              "      <td>0.545455</td>\n",
              "      <td>0.136529</td>\n",
              "      <td>0.113245</td>\n",
              "      <td>0.093341</td>\n",
              "      <td>0.075814</td>\n",
              "      <td>0.210989</td>\n",
              "      <td>0.092324</td>\n",
              "      <td>0.260050</td>\n",
              "      <td>0.626345</td>\n",
              "      <td>0.779483</td>\n",
              "      <td>0.606236</td>\n",
              "      <td>0.331302</td>\n",
              "      <td>0.303818</td>\n",
              "      <td>0.081635</td>\n",
              "      <td>0.020928</td>\n",
              "    </tr>\n",
              "    <tr>\n",
              "      <th>7</th>\n",
              "      <td>0.636364</td>\n",
              "      <td>0.113245</td>\n",
              "      <td>0.093341</td>\n",
              "      <td>0.075814</td>\n",
              "      <td>0.210989</td>\n",
              "      <td>0.092324</td>\n",
              "      <td>0.260050</td>\n",
              "      <td>0.626345</td>\n",
              "      <td>0.779483</td>\n",
              "      <td>0.606236</td>\n",
              "      <td>0.331302</td>\n",
              "      <td>0.303818</td>\n",
              "      <td>0.081635</td>\n",
              "      <td>0.020928</td>\n",
              "      <td>0.091258</td>\n",
              "    </tr>\n",
              "    <tr>\n",
              "      <th>8</th>\n",
              "      <td>0.727273</td>\n",
              "      <td>0.093341</td>\n",
              "      <td>0.075814</td>\n",
              "      <td>0.210989</td>\n",
              "      <td>0.092324</td>\n",
              "      <td>0.260050</td>\n",
              "      <td>0.626345</td>\n",
              "      <td>0.779483</td>\n",
              "      <td>0.606236</td>\n",
              "      <td>0.331302</td>\n",
              "      <td>0.303818</td>\n",
              "      <td>0.081635</td>\n",
              "      <td>0.020928</td>\n",
              "      <td>0.091258</td>\n",
              "      <td>0.240707</td>\n",
              "    </tr>\n",
              "    <tr>\n",
              "      <th>9</th>\n",
              "      <td>0.818182</td>\n",
              "      <td>0.075814</td>\n",
              "      <td>0.210989</td>\n",
              "      <td>0.092324</td>\n",
              "      <td>0.260050</td>\n",
              "      <td>0.626345</td>\n",
              "      <td>0.779483</td>\n",
              "      <td>0.606236</td>\n",
              "      <td>0.331302</td>\n",
              "      <td>0.303818</td>\n",
              "      <td>0.081635</td>\n",
              "      <td>0.020928</td>\n",
              "      <td>0.091258</td>\n",
              "      <td>0.240707</td>\n",
              "      <td>0.078797</td>\n",
              "    </tr>\n",
              "    <tr>\n",
              "      <th>10</th>\n",
              "      <td>0.909091</td>\n",
              "      <td>0.210989</td>\n",
              "      <td>0.092324</td>\n",
              "      <td>0.260050</td>\n",
              "      <td>0.626345</td>\n",
              "      <td>0.779483</td>\n",
              "      <td>0.606236</td>\n",
              "      <td>0.331302</td>\n",
              "      <td>0.303818</td>\n",
              "      <td>0.081635</td>\n",
              "      <td>0.020928</td>\n",
              "      <td>0.091258</td>\n",
              "      <td>0.240707</td>\n",
              "      <td>0.078797</td>\n",
              "      <td>0.738842</td>\n",
              "    </tr>\n",
              "    <tr>\n",
              "      <th>11</th>\n",
              "      <td>1.000000</td>\n",
              "      <td>0.092324</td>\n",
              "      <td>0.260050</td>\n",
              "      <td>0.626345</td>\n",
              "      <td>0.779483</td>\n",
              "      <td>0.606236</td>\n",
              "      <td>0.331302</td>\n",
              "      <td>0.303818</td>\n",
              "      <td>0.081635</td>\n",
              "      <td>0.020928</td>\n",
              "      <td>0.091258</td>\n",
              "      <td>0.240707</td>\n",
              "      <td>0.078797</td>\n",
              "      <td>0.738842</td>\n",
              "      <td>0.618697</td>\n",
              "    </tr>\n",
              "  </tbody>\n",
              "</table>\n",
              "</div>"
            ],
            "text/plain": [
              "       month   y(t-12)   y(t-11)   y(t-10)    y(t-9)    y(t-8)    y(t-7)  \\\n",
              "0   0.000000  0.490977  0.545705  0.595857  0.577933  0.485329  0.231815   \n",
              "1   0.090909  0.545705  0.595857  0.577933  0.485329  0.231815  0.136529   \n",
              "2   0.181818  0.595857  0.577933  0.485329  0.231815  0.136529  0.113245   \n",
              "3   0.272727  0.577933  0.485329  0.231815  0.136529  0.113245  0.093341   \n",
              "4   0.363636  0.485329  0.231815  0.136529  0.113245  0.093341  0.075814   \n",
              "5   0.454545  0.231815  0.136529  0.113245  0.093341  0.075814  0.210989   \n",
              "6   0.545455  0.136529  0.113245  0.093341  0.075814  0.210989  0.092324   \n",
              "7   0.636364  0.113245  0.093341  0.075814  0.210989  0.092324  0.260050   \n",
              "8   0.727273  0.093341  0.075814  0.210989  0.092324  0.260050  0.626345   \n",
              "9   0.818182  0.075814  0.210989  0.092324  0.260050  0.626345  0.779483   \n",
              "10  0.909091  0.210989  0.092324  0.260050  0.626345  0.779483  0.606236   \n",
              "11  1.000000  0.092324  0.260050  0.626345  0.779483  0.606236  0.331302   \n",
              "\n",
              "      y(t-6)    y(t-5)    y(t-4)    y(t-3)    y(t-2)    y(t-1)      y(t)  \\\n",
              "0   0.136529  0.113245  0.093341  0.075814  0.210989  0.092324  0.260050   \n",
              "1   0.113245  0.093341  0.075814  0.210989  0.092324  0.260050  0.626345   \n",
              "2   0.093341  0.075814  0.210989  0.092324  0.260050  0.626345  0.779483   \n",
              "3   0.075814  0.210989  0.092324  0.260050  0.626345  0.779483  0.606236   \n",
              "4   0.210989  0.092324  0.260050  0.626345  0.779483  0.606236  0.331302   \n",
              "5   0.092324  0.260050  0.626345  0.779483  0.606236  0.331302  0.303818   \n",
              "6   0.260050  0.626345  0.779483  0.606236  0.331302  0.303818  0.081635   \n",
              "7   0.626345  0.779483  0.606236  0.331302  0.303818  0.081635  0.020928   \n",
              "8   0.779483  0.606236  0.331302  0.303818  0.081635  0.020928  0.091258   \n",
              "9   0.606236  0.331302  0.303818  0.081635  0.020928  0.091258  0.240707   \n",
              "10  0.331302  0.303818  0.081635  0.020928  0.091258  0.240707  0.078797   \n",
              "11  0.303818  0.081635  0.020928  0.091258  0.240707  0.078797  0.738842   \n",
              "\n",
              "      y(t+1)  \n",
              "0   0.626345  \n",
              "1   0.779483  \n",
              "2   0.606236  \n",
              "3   0.331302  \n",
              "4   0.303818  \n",
              "5   0.081635  \n",
              "6   0.020928  \n",
              "7   0.091258  \n",
              "8   0.240707  \n",
              "9   0.078797  \n",
              "10  0.738842  \n",
              "11  0.618697  "
            ]
          },
          "execution_count": 11,
          "metadata": {},
          "output_type": "execute_result"
        }
      ],
      "source": [
        "test_val"
      ]
    },
    {
      "cell_type": "code",
      "execution_count": 12,
      "metadata": {
        "id": "gQsASJIfbqvz"
      },
      "outputs": [],
      "source": [
        "train_values = train_val.values\n",
        "\n",
        "X_train = train_values[:,:-1]\n",
        "y_train = train_values[:,-1]\n",
        "\n",
        "test_values = test_val.values\n",
        "X_test = test_values[:,:-1]\n",
        "y_test = test_values[:,-1]"
      ]
    },
    {
      "cell_type": "code",
      "execution_count": 13,
      "metadata": {
        "id": "0_PHvaeoLTmk"
      },
      "outputs": [],
      "source": [
        "train_dataset = CustomDataset(torch.from_numpy(X_train).float(), torch.from_numpy(y_train).float().unsqueeze(1))\n",
        "\n",
        "test_dataset = CustomDataset(torch.from_numpy(X_test).float(), torch.from_numpy(y_test).float().unsqueeze(1))"
      ]
    },
    {
      "cell_type": "code",
      "execution_count": 14,
      "metadata": {
        "id": "-zqOrtEZLTg1"
      },
      "outputs": [],
      "source": [
        "batch_size = 32\n",
        "\n",
        "train_loader = DataLoader(dataset=train_dataset,batch_size=batch_size)\n",
        "\n",
        "test_loader = DataLoader(dataset=test_dataset, batch_size=1)"
      ]
    },
    {
      "cell_type": "code",
      "execution_count": 15,
      "metadata": {
        "id": "znvwxbUdcNze"
      },
      "outputs": [],
      "source": [
        "n_input = X_train.shape[1]\n",
        "n_output = 1\n",
        "hidden_neurons = 20"
      ]
    },
    {
      "cell_type": "code",
      "execution_count": null,
      "metadata": {
        "id": "repc4M4ScNwB"
      },
      "outputs": [],
      "source": []
    },
    {
      "cell_type": "code",
      "execution_count": 16,
      "metadata": {
        "id": "Y5Vg2c4KG0gO"
      },
      "outputs": [],
      "source": [
        "def train(model, train_loader, epochs, device, lr, skip=50):\n",
        "\n",
        "  criterion = nn.MSELoss()\n",
        "  optimizer = torch.optim.SGD(model.parameters(), lr=lr)\n",
        "\n",
        "  history = {'loss_train': []}\n",
        "\n",
        "  for e in tqdm(range(1, epochs+1)):\n",
        "    \n",
        "    y_hat = np.array([])\n",
        "\n",
        "    train_epoch_loss = 0\n",
        "    train_epoch_acc = 0\n",
        "    model.train()\n",
        "    for X_train_batch, y_train_batch in train_loader:\n",
        "        X, y = X_train_batch.to(device), y_train_batch.to(device)\n",
        "        optimizer.zero_grad()\n",
        "        \n",
        "        y_pred = model(X)\n",
        "        \n",
        "        loss = criterion(y_pred, y)\n",
        "        \n",
        "        loss.backward()\n",
        "        optimizer.step()\n",
        "        \n",
        "        train_epoch_loss += loss.item()\n",
        "        \n",
        "        y_p = torch.argmax(y_pred, dim=1)\n",
        "        y_hat = np.concatenate((y_hat, y_p))\n",
        "    \n",
        "    #_, val_loss, val_acc = evaluate(model, val_loader, criterion, device, binary=binary)\n",
        "\n",
        "    history['loss_train'].append(train_epoch_loss)\n",
        "    \n",
        "    if e % skip == 0:\n",
        "      print(f'Epoch {e+0:03} | Train Loss: {train_epoch_loss/len(train_loader):.3f}')\n",
        "    #print(f'Epoch {e+0:03}: | Train Loss: {train_epoch_loss/len(train_loader):.3f} | Val Loss: {val_loss/len(val_loader):.4f} | Train Acc: {train_epoch_acc/len(train_loader):.4f}| Val Acc: {val_acc/len(val_loader):.4f}')\n",
        "  return history, y_hat\n"
      ]
    },
    {
      "cell_type": "code",
      "execution_count": 17,
      "metadata": {
        "colab": {
          "base_uri": "https://localhost:8080/",
          "height": 1000,
          "referenced_widgets": [
            "205c95d2c4514daf9bb625dbd8d8b90d",
            "5885dd2f223d496e922f2307456c3089",
            "7442bffb6eb84fc3abbf0a068c27bf7f",
            "29c00442e8fc442f942ba4d47ef88bb4",
            "ebe7941aa6e541029bf9fd2b656ef2e6",
            "2b993121246043db8d11f037eb005d6a",
            "f5b4195c7dfd4a16ac3d5f333a8dd561",
            "213aeafef243450c91e846f60daec0e2",
            "7ef292e1bed745e0a786035a63a736d0",
            "2249c9f23e5b4cbfb978f1f42c169a2d",
            "ae2a33d32d8a4dc3ba33fa28ad63b508"
          ]
        },
        "id": "Ju6gL6bVKJtL",
        "outputId": "c915efc1-ecb8-4a6b-8550-92e649f3064b"
      },
      "outputs": [
        {
          "data": {
            "application/vnd.jupyter.widget-view+json": {
              "model_id": "2c613579b6d64eaf9e2cbb1a837e3ccb",
              "version_major": 2,
              "version_minor": 0
            },
            "text/plain": [
              "HBox(children=(HTML(value=''), FloatProgress(value=0.0, max=1000.0), HTML(value='')))"
            ]
          },
          "metadata": {},
          "output_type": "display_data"
        },
        {
          "name": "stdout",
          "output_type": "stream",
          "text": [
            "Epoch 050 | Train Loss: 0.034\n",
            "Epoch 100 | Train Loss: 0.021\n",
            "Epoch 150 | Train Loss: 0.015\n",
            "Epoch 200 | Train Loss: 0.013\n",
            "Epoch 250 | Train Loss: 0.012\n",
            "Epoch 300 | Train Loss: 0.012\n",
            "Epoch 350 | Train Loss: 0.012\n",
            "Epoch 400 | Train Loss: 0.012\n",
            "Epoch 450 | Train Loss: 0.012\n",
            "Epoch 500 | Train Loss: 0.012\n",
            "Epoch 550 | Train Loss: 0.011\n",
            "Epoch 600 | Train Loss: 0.011\n",
            "Epoch 650 | Train Loss: 0.011\n",
            "Epoch 700 | Train Loss: 0.011\n",
            "Epoch 750 | Train Loss: 0.011\n",
            "Epoch 800 | Train Loss: 0.011\n",
            "Epoch 850 | Train Loss: 0.011\n",
            "Epoch 900 | Train Loss: 0.011\n",
            "Epoch 950 | Train Loss: 0.011\n",
            "Epoch 1000 | Train Loss: 0.011\n",
            "\n"
          ]
        }
      ],
      "source": [
        "model = NeuralNetwork(n_input = n_input, n_output=n_output, hidden_neurons = hidden_neurons, hidden_activation='sigmoid')\n",
        "device = torch.device('cuda' if torch.cuda.is_available() else 'cpu')\n",
        "\n",
        "lr = 0.05\n",
        "epochs = 1000\n",
        "\n",
        "history, y_hat = train(model, train_loader, epochs, device, lr)"
      ]
    },
    {
      "cell_type": "code",
      "execution_count": 18,
      "metadata": {
        "id": "2X7TyC8EL033"
      },
      "outputs": [],
      "source": [
        "y_pred = model(torch.from_numpy(X_test).float())\n",
        "y_hat = y_pred.detach().numpy()\n"
      ]
    },
    {
      "cell_type": "code",
      "execution_count": 19,
      "metadata": {
        "colab": {
          "base_uri": "https://localhost:8080/",
          "height": 302
        },
        "id": "_NciXnnNcNuF",
        "outputId": "d427bd87-b767-4954-deab-8198a5d4c522"
      },
      "outputs": [
        {
          "name": "stdout",
          "output_type": "stream",
          "text": [
            "Erro MSE = 4.464 \n",
            "Erro MAE = 1.582\n"
          ]
        },
        {
          "data": {
            "image/png": "[encoded data removed]",
            "text/plain": [
              "<Figure size 432x288 with 1 Axes>"
            ]
          },
          "metadata": {
            "needs_background": "light"
          },
          "output_type": "display_data"
        }
      ],
      "source": [
        "orig_y_eval = y_test*(_max-_min) + _min\n",
        "orig_y_hat = y_hat*(_max-_min) + _min\n",
        "mae_error = mean_absolute_error(orig_y_eval, orig_y_hat)\n",
        "mse_error = mean_squared_error(orig_y_eval, orig_y_hat)\n",
        "\n",
        "plt.plot(orig_y_eval)\n",
        "plt.plot(orig_y_hat)\n",
        "plt.legend(['Original','Predicted'])\n",
        "\n",
        "print(f'Erro MSE = {round(mse_error,3)} \\nErro MAE = {round(mae_error,3)}')\n"
      ]
    },
    {
      "cell_type": "code",
      "execution_count": null,
      "metadata": {},
      "outputs": [],
      "source": []
    },
    {
      "cell_type": "markdown",
      "metadata": {
        "id": "jhTKjzt1UQ_l"
      },
      "source": [
        "#### 2.\tModifique a técnica de codificação mensal de ‘binário’ para ‘numérico’. Qual a mudança existente na arquitetura da Rede Neural? Analise o resultado (conjunto de treinamento e teste), usando as métricas adequadas."
      ]
    },
    {
      "cell_type": "code",
      "execution_count": null,
      "metadata": {
        "id": "peNfXlv1Rbl0"
      },
      "outputs": [],
      "source": [
        "\n"
      ]
    },
    {
      "cell_type": "markdown",
      "metadata": {
        "id": "Q_bSRsmjRbl2"
      },
      "source": [
        "## Parte 3 - Previsão multi-step"
      ]
    },
    {
      "cell_type": "markdown",
      "metadata": {
        "id": "nVaiSKqLUtCd"
      },
      "source": [
        "#### 1.\tEsquematize como você implementaria o processo de previsão multi-step. Descreva todos os passos necessários, e em seguida compare com o código fornecido para a previsão. "
      ]
    },
    {
      "cell_type": "code",
      "execution_count": null,
      "metadata": {},
      "outputs": [],
      "source": []
    },
    {
      "cell_type": "code",
      "execution_count": 21,
      "metadata": {
        "id": "cD9-D2qDRbl3"
      },
      "outputs": [],
      "source": [
        "def multi_step(model, X_test, cod='numeric'):\n",
        "  y_result = []\n",
        "  X_t = np.copy(X_test[0])\n",
        "  for i in range(prev):\n",
        "      y_hat = model(torch.from_numpy(X_t).float())\n",
        "      \n",
        "      if cod == 'numeric':\n",
        "\n",
        "        #Ajeitando a codificação. Transformamos para o valor do mês e somamos 1 (para o próximo passo) e \n",
        "        #depois pegamos o resto da divisão por 12 (para que o mês fique sempre entre 0 e 11)\n",
        "        tmp = int(X_t[0] * 12 + 1) % 12\n",
        "        \n",
        "        #Alterando a variável mês\n",
        "        X_t[0] = tmp/12\n",
        "        \n",
        "        #Movendo todos os registros, 'deslizando a janela'\n",
        "        X_t[1:X_t.shape[0]-1] = X_t[2:]\n",
        "\n",
        "      elif cod == 'binary':\n",
        "        pass\n",
        "\n",
        "      else:\n",
        "        print('Erro de codificação.')\n",
        "        break\n",
        "      \n",
        "\n",
        "      X_t[-1] = y_hat\n",
        "      \n",
        "      y_result.append(y_hat[0].detach().numpy())\n",
        "\n",
        "\n",
        "  return np.array(y_result)"
      ]
    },
    {
      "cell_type": "code",
      "execution_count": null,
      "metadata": {
        "colab": {
          "base_uri": "https://localhost:8080/",
          "height": 302
        },
        "id": "M24dE6gbRbl3",
        "outputId": "ff88b23f-3c40-45ff-e4cd-b6be6c2d3f55"
      },
      "outputs": [],
      "source": []
    },
    {
      "cell_type": "markdown",
      "metadata": {
        "id": "lICkYvstVqm0"
      },
      "source": [
        "#### 2.\tFaça a previsão multi-step para o horizonte de previsão igual a 12. Perceba que o resultado da métrica é, geralmente, pior do que o apresentado para a previsão one-step. Por quê? É justo comparar o resultado deste item com o que foi apresentado anteriormente? Discuta. "
      ]
    },
    {
      "cell_type": "code",
      "execution_count": 22,
      "metadata": {},
      "outputs": [],
      "source": [
        "y_result = multi_step(model, X_test, cod='numeric')"
      ]
    },
    {
      "cell_type": "code",
      "execution_count": 23,
      "metadata": {
        "id": "-dIUX5-5WGhj"
      },
      "outputs": [
        {
          "name": "stdout",
          "output_type": "stream",
          "text": [
            "Erro MSE = 5.868 \n",
            "Erro MAE = 1.818\n"
          ]
        },
        {
          "data": {
            "image/png": "[encoded data removed]",
            "text/plain": [
              "<Figure size 432x288 with 1 Axes>"
            ]
          },
          "metadata": {
            "needs_background": "light"
          },
          "output_type": "display_data"
        }
      ],
      "source": [
        "orig_y_eval = y_test*(_max-_min) + _min\n",
        "orig_y_hat = y_result*(_max-_min) + _min\n",
        "mae_error = mean_absolute_error(orig_y_eval, orig_y_hat)\n",
        "mse_error = mean_squared_error(orig_y_eval, orig_y_hat)\n",
        "\n",
        "plt.plot(orig_y_eval)\n",
        "plt.plot(orig_y_hat)\n",
        "plt.legend(['Original','Predicted'])\n",
        "\n",
        "print(f'Erro MSE = {round(mse_error,3)} \\nErro MAE = {round(mae_error,3)}')"
      ]
    },
    {
      "cell_type": "markdown",
      "metadata": {
        "id": "h3h5tr49WJaL"
      },
      "source": [
        "#### 3.\tModifique o tamanho da janela de entrada do modelo. Analise os resultados, utilizando as métricas adequadas. "
      ]
    },
    {
      "cell_type": "code",
      "execution_count": null,
      "metadata": {
        "id": "tQBpyQrQWW-W"
      },
      "outputs": [],
      "source": []
    },
    {
      "cell_type": "markdown",
      "metadata": {
        "id": "xDJa_TZyWZym"
      },
      "source": [
        "#### 4.\tModifique a topologia da rede para obter um melhor desempenho. Altere seus parâmetros (e.g. número de processadores na camada escondida, tipo de função na camada de saída) e avalie o desempenho."
      ]
    },
    {
      "cell_type": "code",
      "execution_count": null,
      "metadata": {
        "id": "Bmp9ehcoWrJ8"
      },
      "outputs": [],
      "source": []
    },
    {
      "cell_type": "markdown",
      "metadata": {},
      "source": [
        "#### 5. Modifique a função de previsão multi-step para permitir a codificação binária da variável mês. Em seguida, treine um modelo MLP usando a codificação binária para a variável exógena e faça a previsão multi-step e analise o resultado. \n",
        "\n",
        "OBS: Para este item, basta alterar a atualização da variável exógena na condição desejada (no caso, cod = 'binary')"
      ]
    },
    {
      "cell_type": "code",
      "execution_count": null,
      "metadata": {},
      "outputs": [],
      "source": []
    }
  ],
  "metadata": {
    "colab": {
      "collapsed_sections": [],
      "name": "class_pratica2.ipynb",
      "provenance": []
    },
    "interpreter": {
      "hash": "2db524e06e9f5f4ffedc911c917cb75e12dbc923643829bf417064a77eb14d37"
    },
    "kernelspec": {
      "display_name": "nnpuc",
      "language": "python",
      "name": "python3"
    },
    "language_info": {
      "codemirror_mode": {
        "name": "ipython",
        "version": 3
      },
      "file_extension": ".py",
      "mimetype": "text/x-python",
      "name": "python",
      "nbconvert_exporter": "python",
      "pygments_lexer": "ipython3",
      "version": "3.8.2"
    },
    "widgets": {
      "application/vnd.jupyter.widget-state+json": {
        "205c95d2c4514daf9bb625dbd8d8b90d": {
          "model_module": "@jupyter-widgets/controls",
          "model_module_version": "1.5.0",
          "model_name": "HBoxModel",
          "state": {
            "_dom_classes": [],
            "_model_module": "@jupyter-widgets/controls",
            "_model_module_version": "1.5.0",
            "_model_name": "HBoxModel",
            "_view_count": null,
            "_view_module": "@jupyter-widgets/controls",
            "_view_module_version": "1.5.0",
            "_view_name": "HBoxView",
            "box_style": "",
            "children": [
              "IPY_MODEL_5885dd2f223d496e922f2307456c3089",
              "IPY_MODEL_7442bffb6eb84fc3abbf0a068c27bf7f",
              "IPY_MODEL_29c00442e8fc442f942ba4d47ef88bb4"
            ],
            "layout": "IPY_MODEL_ebe7941aa6e541029bf9fd2b656ef2e6"
          }
        },
        "213aeafef243450c91e846f60daec0e2": {
          "model_module": "@jupyter-widgets/base",
          "model_module_version": "1.2.0",
          "model_name": "LayoutModel",
          "state": {
            "_model_module": "@jupyter-widgets/base",
            "_model_module_version": "1.2.0",
            "_model_name": "LayoutModel",
            "_view_count": null,
            "_view_module": "@jupyter-widgets/base",
            "_view_module_version": "1.2.0",
            "_view_name": "LayoutView",
            "align_content": null,
            "align_items": null,
            "align_self": null,
            "border": null,
            "bottom": null,
            "display": null,
            "flex": null,
            "flex_flow": null,
            "grid_area": null,
            "grid_auto_columns": null,
            "grid_auto_flow": null,
            "grid_auto_rows": null,
            "grid_column": null,
            "grid_gap": null,
            "grid_row": null,
            "grid_template_areas": null,
            "grid_template_columns": null,
            "grid_template_rows": null,
            "height": null,
            "justify_content": null,
            "justify_items": null,
            "left": null,
            "margin": null,
            "max_height": null,
            "max_width": null,
            "min_height": null,
            "min_width": null,
            "object_fit": null,
            "object_position": null,
            "order": null,
            "overflow": null,
            "overflow_x": null,
            "overflow_y": null,
            "padding": null,
            "right": null,
            "top": null,
            "visibility": null,
            "width": null
          }
        },
        "2249c9f23e5b4cbfb978f1f42c169a2d": {
          "model_module": "@jupyter-widgets/base",
          "model_module_version": "1.2.0",
          "model_name": "LayoutModel",
          "state": {
            "_model_module": "@jupyter-widgets/base",
            "_model_module_version": "1.2.0",
            "_model_name": "LayoutModel",
            "_view_count": null,
            "_view_module": "@jupyter-widgets/base",
            "_view_module_version": "1.2.0",
            "_view_name": "LayoutView",
            "align_content": null,
            "align_items": null,
            "align_self": null,
            "border": null,
            "bottom": null,
            "display": null,
            "flex": null,
            "flex_flow": null,
            "grid_area": null,
            "grid_auto_columns": null,
            "grid_auto_flow": null,
            "grid_auto_rows": null,
            "grid_column": null,
            "grid_gap": null,
            "grid_row": null,
            "grid_template_areas": null,
            "grid_template_columns": null,
            "grid_template_rows": null,
            "height": null,
            "justify_content": null,
            "justify_items": null,
            "left": null,
            "margin": null,
            "max_height": null,
            "max_width": null,
            "min_height": null,
            "min_width": null,
            "object_fit": null,
            "object_position": null,
            "order": null,
            "overflow": null,
            "overflow_x": null,
            "overflow_y": null,
            "padding": null,
            "right": null,
            "top": null,
            "visibility": null,
            "width": null
          }
        },
        "29c00442e8fc442f942ba4d47ef88bb4": {
          "model_module": "@jupyter-widgets/controls",
          "model_module_version": "1.5.0",
          "model_name": "HTMLModel",
          "state": {
            "_dom_classes": [],
            "_model_module": "@jupyter-widgets/controls",
            "_model_module_version": "1.5.0",
            "_model_name": "HTMLModel",
            "_view_count": null,
            "_view_module": "@jupyter-widgets/controls",
            "_view_module_version": "1.5.0",
            "_view_name": "HTMLView",
            "description": "",
            "description_tooltip": null,
            "layout": "IPY_MODEL_2249c9f23e5b4cbfb978f1f42c169a2d",
            "placeholder": "​",
            "style": "IPY_MODEL_ae2a33d32d8a4dc3ba33fa28ad63b508",
            "value": " 1500/1500 [00:05&lt;00:00, 267.85it/s]"
          }
        },
        "2b993121246043db8d11f037eb005d6a": {
          "model_module": "@jupyter-widgets/base",
          "model_module_version": "1.2.0",
          "model_name": "LayoutModel",
          "state": {
            "_model_module": "@jupyter-widgets/base",
            "_model_module_version": "1.2.0",
            "_model_name": "LayoutModel",
            "_view_count": null,
            "_view_module": "@jupyter-widgets/base",
            "_view_module_version": "1.2.0",
            "_view_name": "LayoutView",
            "align_content": null,
            "align_items": null,
            "align_self": null,
            "border": null,
            "bottom": null,
            "display": null,
            "flex": null,
            "flex_flow": null,
            "grid_area": null,
            "grid_auto_columns": null,
            "grid_auto_flow": null,
            "grid_auto_rows": null,
            "grid_column": null,
            "grid_gap": null,
            "grid_row": null,
            "grid_template_areas": null,
            "grid_template_columns": null,
            "grid_template_rows": null,
            "height": null,
            "justify_content": null,
            "justify_items": null,
            "left": null,
            "margin": null,
            "max_height": null,
            "max_width": null,
            "min_height": null,
            "min_width": null,
            "object_fit": null,
            "object_position": null,
            "order": null,
            "overflow": null,
            "overflow_x": null,
            "overflow_y": null,
            "padding": null,
            "right": null,
            "top": null,
            "visibility": null,
            "width": null
          }
        },
        "5885dd2f223d496e922f2307456c3089": {
          "model_module": "@jupyter-widgets/controls",
          "model_module_version": "1.5.0",
          "model_name": "HTMLModel",
          "state": {
            "_dom_classes": [],
            "_model_module": "@jupyter-widgets/controls",
            "_model_module_version": "1.5.0",
            "_model_name": "HTMLModel",
            "_view_count": null,
            "_view_module": "@jupyter-widgets/controls",
            "_view_module_version": "1.5.0",
            "_view_name": "HTMLView",
            "description": "",
            "description_tooltip": null,
            "layout": "IPY_MODEL_2b993121246043db8d11f037eb005d6a",
            "placeholder": "​",
            "style": "IPY_MODEL_f5b4195c7dfd4a16ac3d5f333a8dd561",
            "value": "100%"
          }
        },
        "7442bffb6eb84fc3abbf0a068c27bf7f": {
          "model_module": "@jupyter-widgets/controls",
          "model_module_version": "1.5.0",
          "model_name": "FloatProgressModel",
          "state": {
            "_dom_classes": [],
            "_model_module": "@jupyter-widgets/controls",
            "_model_module_version": "1.5.0",
            "_model_name": "FloatProgressModel",
            "_view_count": null,
            "_view_module": "@jupyter-widgets/controls",
            "_view_module_version": "1.5.0",
            "_view_name": "ProgressView",
            "bar_style": "success",
            "description": "",
            "description_tooltip": null,
            "layout": "IPY_MODEL_213aeafef243450c91e846f60daec0e2",
            "max": 1500,
            "min": 0,
            "orientation": "horizontal",
            "style": "IPY_MODEL_7ef292e1bed745e0a786035a63a736d0",
            "value": 1500
          }
        },
        "7ef292e1bed745e0a786035a63a736d0": {
          "model_module": "@jupyter-widgets/controls",
          "model_module_version": "1.5.0",
          "model_name": "ProgressStyleModel",
          "state": {
            "_model_module": "@jupyter-widgets/controls",
            "_model_module_version": "1.5.0",
            "_model_name": "ProgressStyleModel",
            "_view_count": null,
            "_view_module": "@jupyter-widgets/base",
            "_view_module_version": "1.2.0",
            "_view_name": "StyleView",
            "bar_color": null,
            "description_width": ""
          }
        },
        "ae2a33d32d8a4dc3ba33fa28ad63b508": {
          "model_module": "@jupyter-widgets/controls",
          "model_module_version": "1.5.0",
          "model_name": "DescriptionStyleModel",
          "state": {
            "_model_module": "@jupyter-widgets/controls",
            "_model_module_version": "1.5.0",
            "_model_name": "DescriptionStyleModel",
            "_view_count": null,
            "_view_module": "@jupyter-widgets/base",
            "_view_module_version": "1.2.0",
            "_view_name": "StyleView",
            "description_width": ""
          }
        },
        "ebe7941aa6e541029bf9fd2b656ef2e6": {
          "model_module": "@jupyter-widgets/base",
          "model_module_version": "1.2.0",
          "model_name": "LayoutModel",
          "state": {
            "_model_module": "@jupyter-widgets/base",
            "_model_module_version": "1.2.0",
            "_model_name": "LayoutModel",
            "_view_count": null,
            "_view_module": "@jupyter-widgets/base",
            "_view_module_version": "1.2.0",
            "_view_name": "LayoutView",
            "align_content": null,
            "align_items": null,
            "align_self": null,
            "border": null,
            "bottom": null,
            "display": null,
            "flex": null,
            "flex_flow": null,
            "grid_area": null,
            "grid_auto_columns": null,
            "grid_auto_flow": null,
            "grid_auto_rows": null,
            "grid_column": null,
            "grid_gap": null,
            "grid_row": null,
            "grid_template_areas": null,
            "grid_template_columns": null,
            "grid_template_rows": null,
            "height": null,
            "justify_content": null,
            "justify_items": null,
            "left": null,
            "margin": null,
            "max_height": null,
            "max_width": null,
            "min_height": null,
            "min_width": null,
            "object_fit": null,
            "object_position": null,
            "order": null,
            "overflow": null,
            "overflow_x": null,
            "overflow_y": null,
            "padding": null,
            "right": null,
            "top": null,
            "visibility": null,
            "width": null
          }
        },
        "f5b4195c7dfd4a16ac3d5f333a8dd561": {
          "model_module": "@jupyter-widgets/controls",
          "model_module_version": "1.5.0",
          "model_name": "DescriptionStyleModel",
          "state": {
            "_model_module": "@jupyter-widgets/controls",
            "_model_module_version": "1.5.0",
            "_model_name": "DescriptionStyleModel",
            "_view_count": null,
            "_view_module": "@jupyter-widgets/base",
            "_view_module_version": "1.2.0",
            "_view_name": "StyleView",
            "description_width": ""
          }
        }
      }
    }
  },
  "nbformat": 4,
  "nbformat_minor": 0
}
