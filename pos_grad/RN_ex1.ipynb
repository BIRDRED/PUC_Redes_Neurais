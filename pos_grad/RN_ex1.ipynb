{
  "cells": [
    {
      "cell_type": "markdown",
      "metadata": {
        "id": "NnLFFG6e5sug"
      },
      "source": [
        "# Prática I - Redes Neurais usando Python"
      ]
    },
    {
      "cell_type": "markdown",
      "metadata": {
        "id": "Un2nHgZG5suj"
      },
      "source": [
        "# Parte 1 - Construindo uma rede do zero\n",
        "\n",
        "Redes Neurais constituem uma das técnicas mais populares de Inteligência Computacional. Por mais que esta técnica tenha um potencial para mapeamento de diversos problemas, o conceito básico sobre o seu funcionamento não é impossível de ser entendido.\n",
        "\n",
        "Nesta primeira parte prática, iremos construir uma Rede Neural do zero. Para uma forma didática, a primeira etapa vai abordar os principais aspectos de Redes Neurais. \n",
        "\n",
        "Resolva primeiro a parte teórica do item para resolver em seguida a parte prática.\n"
      ]
    },
    {
      "cell_type": "markdown",
      "metadata": {
        "id": "IFEJ7kRv5suk"
      },
      "source": [
        "O esqueleto do modelo de Rede Neural já está pronto. Para uma melhor comodidade, o script já possui os métodos essenciais para o funcionamento, mas os códigos ainda não estão implementados. O objetivo deste trabalho é desenvolver o conhecimento teórico e prático sobre redes neurais, entendendo mais a fundo as suas operações."
      ]
    },
    {
      "cell_type": "code",
      "execution_count": null,
      "metadata": {
        "colab": {
          "base_uri": "https://localhost:8080/"
        },
        "id": "QMysUk-rhPAI",
        "outputId": "3f708d83-fdb8-4a4f-d8d4-992d85118d10"
      },
      "outputs": [
        {
          "name": "stdout",
          "output_type": "stream",
          "text": [
            "Mounted at /content/drive\n"
          ]
        }
      ],
      "source": [
        "from google.colab import drive \n",
        "import os \n",
        "drive.mount('/content/drive')"
      ]
    },
    {
      "cell_type": "code",
      "execution_count": null,
      "metadata": {
        "colab": {
          "base_uri": "https://localhost:8080/"
        },
        "id": "Nc17N5BDiFOV",
        "outputId": "5cea8491-5423-4dd2-ea25-da0a15aa9354"
      },
      "outputs": [
        {
          "name": "stdout",
          "output_type": "stream",
          "text": [
            "Cloning into 'PUC_Redes_Neurais'...\n",
            "remote: Enumerating objects: 131, done.\u001b[K\n",
            "remote: Counting objects: 100% (131/131), done.\u001b[K\n",
            "remote: Compressing objects: 100% (105/105), done.\u001b[K\n",
            "remote: Total 131 (delta 16), reused 125 (delta 10), pack-reused 0\u001b[K\n",
            "Receiving objects: 100% (131/131), 2.00 MiB | 11.13 MiB/s, done.\n",
            "Resolving deltas: 100% (16/16), done.\n"
          ]
        }
      ],
      "source": [
        "!git clone https://github.com/mdrs-thiago/PUC_Redes_Neurais"
      ]
    },
    {
      "cell_type": "code",
      "execution_count": null,
      "metadata": {
        "id": "ZAxlSona5sul"
      },
      "outputs": [],
      "source": [
        "import numpy as np\n",
        "import matplotlib.pyplot as plt"
      ]
    },
    {
      "cell_type": "code",
      "execution_count": null,
      "metadata": {
        "id": "q6Zm0gi05sum"
      },
      "outputs": [],
      "source": [
        "class NeuralNetwork():\n",
        "    def __init__(self,nin,nout,hidden_neurons=[2],hidden_layers=1,activation=['relu']):\n",
        "        '''\n",
        "        Classe para a implementação do algoritmo de Redes Neurais para a atividade prática da disciplina Inteligência Computacional Aplicada - PUC-Rio\n",
        "        \n",
        "        Variáveis de entrada:\n",
        "        nin - Quantidade de entradas da Rede (int)\n",
        "        nout - Quantidade de neurônios na saída da Rede (int)\n",
        "        hidden_neurons - Quantidade de neurônios na camada escondida. Deve ser uma lista de inteiros positivos.\n",
        "        hidden_layers - Quantidade de camadas escondidas. (int)\n",
        "        activation - Função de ativação para cada uma das camadas. Deve ser uma lista de strings.\n",
        "        \n",
        "        '''\n",
        "        \n",
        "        #Entrada do modelo\n",
        "        self.input = nin \n",
        "        #Saída do modelo\n",
        "        self.output = nout \n",
        "        #Lista de neurônios. Começa a contagem da entrada do modelo.\n",
        "        self.hn = [nin] + hidden_neurons \n",
        "        \n",
        "        self.hl = hidden_layers\n",
        "\n",
        "        #Dicionário com todas as possíveis funções de ativação. Caso construa alguma outra, adicione a esta lista.\n",
        "        self.possible_activations = {'relu':self.relu, 'tanh':np.tanh, 'sigmoid':self.sigmoid}\n",
        "\n",
        "        #Inicialização dos pesos ao criar o novo objeto\n",
        "        self.initialize_weights(activation)\n",
        "\n",
        "\n",
        "\n",
        "\n",
        "    def initialize_weights(self,activation):\n",
        "\n",
        "        #Matriz de pesos \n",
        "        self.weights = dict()\n",
        "        #Vetor de bias\n",
        "        self.bias = dict()\n",
        "\n",
        "        #Erros\n",
        "        self.weights_error = dict()\n",
        "        self.bias_error = dict()\n",
        "\n",
        "        #Ativacao do neuronio\n",
        "        self.neuron_out = dict()\n",
        "        \n",
        "        \n",
        "        self.neuron_net = dict()\n",
        "\n",
        "        self.activation = dict()\n",
        "\n",
        "\n",
        "\n",
        "\n",
        "        for i in range(self.hl):\n",
        "            name = f'hidden{i}'\n",
        "\n",
        "            self.weights[name] = np.random.rand(self.hn[i+1], self.hn[i])*2 - 1.0\n",
        "            self.bias[name] = np.zeros((self.hn[i+1],1))\n",
        "\n",
        "            self.weights_error[name] = np.zeros((self.hn[i+1], self.hn[i]))\n",
        "            self.bias_error[name] = np.zeros((self.hn[i+1],1))\n",
        "\n",
        "            self.activation[name] = self.possible_activations[activation[i]]\n",
        "\n",
        "            self.neuron_out[name] = np.zeros((self.hn[i+1],1))\n",
        "            self.neuron_net[name] = np.zeros((self.hn[i], 1))\n",
        "\n",
        "\n",
        "        self.weights['output'] = np.random.rand(self.output, self.hn[-1])*2 - 1.0\n",
        "        self.bias['output'] = np.zeros((self.output, 1))\n",
        "\n",
        "        self.weights_error['output'] = np.zeros((self.output, self.hn[-1]))\n",
        "        self.bias_error['output'] = np.zeros((self.output,1))\n",
        "\n",
        "        self.activation['output'] = self.possible_activations[activation[-1]]\n",
        "\n",
        "        self.neuron_out['output'] = np.zeros((self.output,1))\n",
        "\n",
        "        self.neuron_net['output'] = np.zeros((self.hn[-1],1))\n",
        "\n",
        "    def insert_layers(self,weights=[],bias=[]):\n",
        "        '''\n",
        "        Função para inserção manual dos pesos. \n",
        "        '''\n",
        "        self.weights = weights\n",
        "        self.bias = bias \n",
        "\n",
        "    def neuron_process(self,x=[],weights=[],bias=[]):\n",
        "        '''\n",
        "        Função para regra de propagação\n",
        "        '''\n",
        "        return np.dot(weights,x) + bias\n",
        "\n",
        "\n",
        "    def forward(self,x):\n",
        "        '''\n",
        "        Função para etapa feedforward\n",
        "        '''\n",
        "        input_values = x\n",
        "        for layer in self.weights:\n",
        "\n",
        "            self.neuron_net[layer] = np.copy(input_values)\n",
        "\n",
        "            A = self.neuron_process(x=input_values,weights=self.weights[layer],bias=self.bias[layer])\n",
        "            self.neuron_out[layer] = self.activation[layer](A)\n",
        "            \n",
        "            input_values = self.activation[layer](A)\n",
        "\n",
        "        return self.activation['output'](A)\n",
        "\n",
        "\n",
        "    def backward(self,lr,y):\n",
        "        '''\n",
        "        Função para a etapa feedback\n",
        "        '''\n",
        "        for layer in reversed(self.weights):\n",
        "\n",
        "            if layer == 'output':\n",
        "                # (sj - tj)\n",
        "                dZ2 = y - self.neuron_out[layer]\n",
        "                #Atualizacao de W \n",
        "                dW2 = np.dot(dZ2, self.neuron_net[layer].T)\n",
        "                #Atualizacao de bias\n",
        "                db2 = np.sum(dZ2, axis=1, keepdims=True)\n",
        "                \n",
        "                \n",
        "                self.weights_error[layer] = lr * dW2 \n",
        "                self.bias_error[layer] = lr * db2 \n",
        "                prev_weights = self.weights[layer]\n",
        "            else:\n",
        "                #Erro na camada intermediaria                        F'(net) -> função tanh\n",
        "                dZ1 = np.multiply(np.dot(prev_weights.T, dZ2), 1-np.power(self.neuron_out[layer], 2))\n",
        "                \n",
        "                \n",
        "                dW1 = np.dot(dZ1, self.neuron_net[layer].T)\n",
        "                \n",
        "                db1 = np.sum(dZ1, axis=1, keepdims=True)\n",
        "                self.weights_error[layer] = lr * dW1 \n",
        "                self.bias_error[layer] = lr * db1 \n",
        "\n",
        "                prev_weights = self.weights[layer]\n",
        "                dZ2 = np.copy(dZ1)\n",
        "            \n",
        "\n",
        "    def update_weights(self):\n",
        "        '''\n",
        "        Função para atualização dos pesos\n",
        "        '''\n",
        "        for layer in self.weights:\n",
        "\n",
        "            assert(self.weights[layer].shape == self.weights_error[layer].shape), f\"Dimension mismatch: {self.weights[layer].shape} and {self.weights_error[layer].shape}\"\n",
        "            self.weights[layer] = self.weights[layer] + self.weights_error[layer]\n",
        "\n",
        "            assert(self.bias[layer].shape == self.bias_error[layer].shape), f\"Dimension mismatch: {self.bias[layer].shape} and {self.bias_error[layer].shape}\"\n",
        "            self.bias[layer] = self.bias[layer] + self.bias_error[layer]\n",
        "            self.weights_error[layer] = np.zeros(self.weights_error[layer].shape)\n",
        "            self.bias_error[layer] = np.zeros(self.bias_error[layer].shape)\n",
        "\n",
        "    def train(self,x,y,epochs=100,lr=0.5):\n",
        "        '''\n",
        "        Função para treinamento da rede\n",
        "        '''\n",
        "        for epoch in range(epochs):\n",
        "            out = self.forward(x)\n",
        "\n",
        "            self.backward(lr,y)\n",
        "            \n",
        "            self.update_weights()\n",
        "\n",
        "\n",
        "\n",
        "    @staticmethod\n",
        "    def sigmoid(x):\n",
        "        '''\n",
        "        Definição da função sigmoide. Retorna o valor 1/(1 + e^(-x))\n",
        "        '''\n",
        "        sigm = 1/(1 + np.exp(-x))\n",
        "        return sigm\n",
        "\n",
        "    \n",
        "    def sigmoid_derivative(self,value):\n",
        "        '''\n",
        "        ???\n",
        "        '''\n",
        "        return self.sigmoid(value)*(1-self.sigmoid(value))\n",
        "\n",
        "    @staticmethod\n",
        "    def relu(x):\n",
        "        return np.maximum(np.zeros(x.shape),x)\n",
        "\n",
        "    @staticmethod \n",
        "    def relu_derivative(x):\n",
        "        return np.ones(x.shape)"
      ]
    },
    {
      "cell_type": "markdown",
      "metadata": {
        "id": "PUfLSc545suq"
      },
      "source": [
        "### Questão 1\n",
        "O neurônio é a unidade básica de uma Rede Neural. Na primeira etapa, desenvolva dentro da função **neuron_process** para o cálculo de processamento do neurônio. Não esqueça que a função recebe como argumento a matriz de pesos **weights**, a entrada **x** e o bias **bias**.\n",
        "\n",
        "Ao terminar de implementar a função, valide seu código com os testes abaixo. **Não** prossiga para o próximo item enquanto houver erro no resultado."
      ]
    },
    {
      "cell_type": "code",
      "execution_count": null,
      "metadata": {
        "id": "NX3FhUYJ5suq"
      },
      "outputs": [],
      "source": [
        "nn_test = NeuralNetwork(2,1,hidden_layers=1,hidden_neurons=[4],activation=['tanh','sigmoid'])"
      ]
    },
    {
      "cell_type": "code",
      "execution_count": null,
      "metadata": {
        "id": "TVaE4OlV5sur",
        "outputId": "61e9cf40-bbd1-4b0b-98c0-bcb6d78e46f1"
      },
      "outputs": [
        {
          "data": {
            "text/plain": [
              "array([[1.43813902],\n",
              "       [1.67767442]])"
            ]
          },
          "execution_count": 4,
          "metadata": {},
          "output_type": "execute_result"
        }
      ],
      "source": [
        "x = np.array([[0],[0]])\n",
        "weights = np.array([[ 3.14708825, -3.02515284],[-3.48236268,  3.60001384]])\n",
        "bias = np.array([[1.43813902],[1.67767442]])\n",
        "\n",
        "nn_test.neuron_process(x=x,weights=weights,bias=bias)"
      ]
    },
    {
      "cell_type": "markdown",
      "metadata": {
        "id": "EIm47W9D5sus"
      },
      "source": [
        "### Questão 2\n",
        "Com a código de processamento do neurônio já criado, é preciso desenvolver um método para a função de ativação não-linear. \n",
        "Desenvolva a equação que representa a ativação sigmoide e sua respectiva derivada. Para validar o funcionamento, além de realizar os testes padrões estipulados abaixo, verifique graficamente se as funções estão de acordo com o esperado."
      ]
    },
    {
      "cell_type": "code",
      "execution_count": null,
      "metadata": {
        "id": "BL2GrXHT5sus"
      },
      "outputs": [],
      "source": []
    },
    {
      "cell_type": "code",
      "execution_count": null,
      "metadata": {
        "id": "wuq9S2nj5sus"
      },
      "outputs": [],
      "source": [
        "t = np.linspace(-10,10,100)"
      ]
    },
    {
      "cell_type": "code",
      "execution_count": null,
      "metadata": {
        "id": "J1ANRlFL5sut",
        "outputId": "fd096c2a-df2b-4039-edbe-5c87169fa2cf"
      },
      "outputs": [
        {
          "data": {
            "text/plain": [
              "Text(0, 0.5, 'sigm(x)')"
            ]
          },
          "execution_count": 6,
          "metadata": {},
          "output_type": "execute_result"
        },
        {
          "data": {
            "image/png": "[encoded data removed]",
            "text/plain": [
              "<Figure size 432x288 with 1 Axes>"
            ]
          },
          "metadata": {
            "needs_background": "light"
          },
          "output_type": "display_data"
        }
      ],
      "source": [
        "plt.plot(t,nn_test.sigmoid(t),linewidth=2,color='g')\n",
        "plt.title('Função sigmoide')\n",
        "plt.xlabel('x')\n",
        "plt.ylabel('sigm(x)')"
      ]
    },
    {
      "cell_type": "markdown",
      "metadata": {
        "id": "0oNsrgxg5sut"
      },
      "source": [
        "### Etapa III - Feedforward"
      ]
    },
    {
      "cell_type": "code",
      "execution_count": null,
      "metadata": {
        "id": "5nGNMG6n5sut"
      },
      "outputs": [],
      "source": []
    },
    {
      "cell_type": "markdown",
      "metadata": {
        "id": "grlTbW5b5suu"
      },
      "source": [
        "### Etapa IV - Retropropagação dos erros"
      ]
    },
    {
      "cell_type": "code",
      "execution_count": null,
      "metadata": {
        "id": "z0P65uwz5suu"
      },
      "outputs": [],
      "source": []
    },
    {
      "cell_type": "markdown",
      "metadata": {
        "id": "lP7XingR5suu"
      },
      "source": [
        "### Etapa V - Atualização dos pesos"
      ]
    },
    {
      "cell_type": "code",
      "execution_count": null,
      "metadata": {
        "id": "ePmWAvtg5suu"
      },
      "outputs": [],
      "source": []
    },
    {
      "cell_type": "markdown",
      "metadata": {
        "id": "RihDEX6I5suu"
      },
      "source": [
        "### Etapa VI - Treinamento do modelo"
      ]
    },
    {
      "cell_type": "code",
      "execution_count": null,
      "metadata": {
        "id": "M5VVuALN5suu"
      },
      "outputs": [],
      "source": [
        "X = np.array([[0, 0, 1, 1], [0, 1, 0, 1]])\n",
        "Y = np.array([[0, 1, 1, 0]])\n",
        "\n",
        "#X = np.array([[0,0],[0,1],[1,0],[1,1]])\n",
        "#Y = np.array([[0],[1],[1],[0]])\n",
        "\n",
        "nn_test.train(X,Y,epochs=1500,lr=0.2)"
      ]
    },
    {
      "cell_type": "markdown",
      "metadata": {
        "id": "r4ZXFxAF5suv"
      },
      "source": [
        "### Etapa VII - Generalização"
      ]
    },
    {
      "cell_type": "code",
      "execution_count": null,
      "metadata": {
        "id": "sNjND9Ux5suv",
        "outputId": "7573874d-77d4-44ed-f1a8-990f5a493f24"
      },
      "outputs": [
        {
          "name": "stdout",
          "output_type": "stream",
          "text": [
            "[[0.00030853]]\n",
            "[[0.99744658]]\n",
            "[[0.99772362]]\n",
            "[[0.0030284]]\n"
          ]
        }
      ],
      "source": [
        "X_test = np.array([[0],[0]])\n",
        "print(nn_test.forward(X_test))\n",
        "\n",
        "X_test = np.array([[0],[1]])\n",
        "print(nn_test.forward(X_test))\n",
        "\n",
        "X_test = np.array([[1],[0]])\n",
        "print(nn_test.forward(X_test))\n",
        "\n",
        "X_test = np.array([[1],[1]])\n",
        "print(nn_test.forward(X_test))"
      ]
    },
    {
      "cell_type": "code",
      "execution_count": null,
      "metadata": {
        "id": "e_a1fGH85suv",
        "outputId": "51324d15-f096-4712-fbb0-fcf55f4ddf1f"
      },
      "outputs": [
        {
          "data": {
            "text/plain": [
              "{'hidden0': array([[-0.93541997],\n",
              "        [-0.30522097],\n",
              "        [ 1.12782389],\n",
              "        [-0.32628317]]),\n",
              " 'output': array([[2.37573173]])}"
            ]
          },
          "execution_count": 9,
          "metadata": {},
          "output_type": "execute_result"
        }
      ],
      "source": [
        "nn_test.bias"
      ]
    },
    {
      "cell_type": "code",
      "execution_count": null,
      "metadata": {
        "id": "awuPHspA5suv"
      },
      "outputs": [],
      "source": [
        "manual_weights = dict()\n",
        "manual_bias = dict()\n",
        "manual_weights['hidden0'] = np.array([[ 3.14708825, -3.02515284],\n",
        "        [-3.48236268,  3.60001384]])\n",
        "manual_weights['output'] = np.array([[-5.07678577, -5.01607987]])\n",
        "\n",
        "manual_bias['hidden0'] = np.array([[1.43813902],\n",
        "        [1.67767442]])\n",
        "manual_bias['output'] = np.array([[4.49745273]])\n",
        "\n",
        "nn_test.insert_layers(weights=manual_weights,bias=manual_bias)"
      ]
    },
    {
      "cell_type": "code",
      "execution_count": null,
      "metadata": {
        "id": "8RdQccp75suv",
        "outputId": "c16bdaca-b087-4a9f-a217-bfb6d3af5ac1"
      },
      "outputs": [
        {
          "data": {
            "text/plain": [
              "{'hidden0': array([[ 3.14708825, -3.02515284],\n",
              "        [-3.48236268,  3.60001384]]),\n",
              " 'output': array([[-5.07678577, -5.01607987]])}"
            ]
          },
          "execution_count": 11,
          "metadata": {},
          "output_type": "execute_result"
        }
      ],
      "source": [
        "nn_test.weights"
      ]
    },
    {
      "cell_type": "code",
      "execution_count": null,
      "metadata": {
        "id": "7LWm3rcY5suw",
        "outputId": "8e924936-2a50-4637-cebe-e4b55e8f5573"
      },
      "outputs": [
        {
          "data": {
            "text/plain": [
              "{'hidden0': array([[-0.97217686],\n",
              "        [ 0.99980005],\n",
              "        [ 0.97393905],\n",
              "        [ 0.53319081]]),\n",
              " 'output': array([[0.0030284]])}"
            ]
          },
          "execution_count": 12,
          "metadata": {},
          "output_type": "execute_result"
        }
      ],
      "source": [
        "nn_test.neuron_out"
      ]
    },
    {
      "cell_type": "code",
      "execution_count": null,
      "metadata": {
        "id": "JDjKcTtO5suw"
      },
      "outputs": [],
      "source": []
    },
    {
      "cell_type": "markdown",
      "metadata": {
        "id": "BZjqxmJh5suw"
      },
      "source": [
        "# Parte 2 - Framework para Redes Neurais\n"
      ]
    },
    {
      "cell_type": "code",
      "execution_count": null,
      "metadata": {
        "id": "c8K8SUhN56bB"
      },
      "outputs": [],
      "source": [
        "import torch\n",
        "import torch.nn as nn   #Definicao da rede neural\n",
        "from torch.utils.data import Dataset, DataLoader  #utilidade para dataset\n",
        "\n",
        "from tqdm.notebook import tqdm\n",
        "\n",
        "from sklearn.model_selection import cross_val_score, KFold, train_test_split\n",
        "\n",
        "from sklearn.preprocessing import LabelEncoder, MinMaxScaler\n",
        "from sklearn.metrics import classification_report, confusion_matrix\n",
        "from sklearn.datasets import load_iris"
      ]
    },
    {
      "cell_type": "code",
      "execution_count": null,
      "metadata": {
        "id": "TPr7WcxP56C8"
      },
      "outputs": [],
      "source": [
        "#Função necessária para criar um custom dataset no Pytorch\n",
        "class CustomDataset(Dataset):\n",
        "    def __init__(self, X_data, y_data):\n",
        "        self.X_data = X_data\n",
        "        self.y_data = y_data\n",
        "        \n",
        "    def __getitem__(self, index):\n",
        "        return self.X_data[index], self.y_data[index]\n",
        "        \n",
        "    def __len__ (self):\n",
        "        return len(self.X_data)\n"
      ]
    },
    {
      "cell_type": "code",
      "execution_count": null,
      "metadata": {
        "id": "b9b6sYXp56Ad"
      },
      "outputs": [],
      "source": []
    },
    {
      "cell_type": "code",
      "execution_count": null,
      "metadata": {
        "id": "P8yNXGSl559W"
      },
      "outputs": [],
      "source": []
    },
    {
      "cell_type": "markdown",
      "metadata": {
        "id": "AX80vODVsO6J"
      },
      "source": [
        "## Dataset e pré-processamento"
      ]
    },
    {
      "cell_type": "markdown",
      "metadata": {
        "id": "cb135lqosRC6"
      },
      "source": [
        "Neste exemplo, iremos usar o dataset Iris. É um problema bastante conhecido na área de Ciência de Dados.\n",
        "A base de dados possui 150 registros e 4 atributos, com informações de comprimento e largura de suas pétalas e sépalas. No total, temos 50 amostras para cada uma das três classes: Iris-Setosa, Iris-Verginica e Iris-Versicolor"
      ]
    },
    {
      "cell_type": "code",
      "execution_count": null,
      "metadata": {
        "id": "TxsmymsR8Jcb"
      },
      "outputs": [],
      "source": [
        "data = load_iris()"
      ]
    },
    {
      "cell_type": "code",
      "execution_count": null,
      "metadata": {
        "id": "yd_HA1QL8JVW"
      },
      "outputs": [],
      "source": [
        "X = data.data\n",
        "target = data.target"
      ]
    },
    {
      "cell_type": "code",
      "execution_count": null,
      "metadata": {
        "colab": {
          "base_uri": "https://localhost:8080/"
        },
        "id": "U831MSe__cqG",
        "outputId": "ad4298c4-9f91-4bca-dddc-11037086aa79"
      },
      "outputs": [
        {
          "data": {
            "text/plain": [
              "array([0, 0, 0, 0, 0, 0, 0, 0, 0, 0, 0, 0, 0, 0, 0, 0, 0, 0, 0, 0, 0, 0,\n",
              "       0, 0, 0, 0, 0, 0, 0, 0, 0, 0, 0, 0, 0, 0, 0, 0, 0, 0, 0, 0, 0, 0,\n",
              "       0, 0, 0, 0, 0, 0, 1, 1, 1, 1, 1, 1, 1, 1, 1, 1, 1, 1, 1, 1, 1, 1,\n",
              "       1, 1, 1, 1, 1, 1, 1, 1, 1, 1, 1, 1, 1, 1, 1, 1, 1, 1, 1, 1, 1, 1,\n",
              "       1, 1, 1, 1, 1, 1, 1, 1, 1, 1, 1, 1, 2, 2, 2, 2, 2, 2, 2, 2, 2, 2,\n",
              "       2, 2, 2, 2, 2, 2, 2, 2, 2, 2, 2, 2, 2, 2, 2, 2, 2, 2, 2, 2, 2, 2,\n",
              "       2, 2, 2, 2, 2, 2, 2, 2, 2, 2, 2, 2, 2, 2, 2, 2, 2, 2])"
            ]
          },
          "execution_count": 17,
          "metadata": {},
          "output_type": "execute_result"
        }
      ],
      "source": [
        "#['bad','good'] -> [0, 1]\n",
        "\n",
        "#[1, 2, 3, 4, 5] -> [0, 1, 2, 3, 4]"
      ]
    },
    {
      "cell_type": "code",
      "execution_count": null,
      "metadata": {
        "id": "_Oxzac5g_dBV"
      },
      "outputs": [],
      "source": [
        "encoder = LabelEncoder()\n",
        "y = encoder.fit_transform(target)"
      ]
    },
    {
      "cell_type": "code",
      "execution_count": null,
      "metadata": {
        "id": "CPZAs0VU8JST"
      },
      "outputs": [],
      "source": [
        "#Definindo o conjunto de teste\n",
        "X_train, X_test, y_train, y_test = train_test_split(X,y,test_size=0.2,random_state=42)\n",
        "\n",
        "X_train, X_val, y_train, y_val = train_test_split(X_train,y_train,test_size=0.5,random_state=42)"
      ]
    },
    {
      "cell_type": "code",
      "execution_count": null,
      "metadata": {
        "id": "fox8ajPwR8i-"
      },
      "outputs": [],
      "source": [
        "#Normalização dos dados\n",
        "scaler = MinMaxScaler()                   #(x - x_min)/(x_max - x_min) ~ [0,1] \n",
        "\n",
        "X_train = scaler.fit_transform(X_train)   # x_min_train, x_max_train.\n",
        "X_val = scaler.transform(X_val)\n",
        "X_test = scaler.transform(X_test)"
      ]
    },
    {
      "cell_type": "markdown",
      "metadata": {
        "id": "NNUFGBq0ryej"
      },
      "source": [
        "## Ajustando o dataset e definindo o DataLoader para o treinamento do modelo."
      ]
    },
    {
      "cell_type": "markdown",
      "metadata": {
        "id": "LGa1gLkmr6KO"
      },
      "source": [
        "Lembrete: Dependendo do tipo de problema, devemos adequar o tipo das variáveis. No exemplo abaixo, estamos adequando as variáveis X_train, X_val e X_test do tipo double para float. Em alguns casos (especialmente em problemas com múltiplas classes), temos que adequar as saídas desejadas para o tipo long."
      ]
    },
    {
      "cell_type": "code",
      "execution_count": null,
      "metadata": {
        "id": "JWwBFaJKr5u-"
      },
      "outputs": [],
      "source": [
        "train_dataset = CustomDataset(torch.from_numpy(X_train).float(), torch.from_numpy(y_train))\n",
        "val_dataset = CustomDataset(torch.from_numpy(X_val).float(), torch.from_numpy(y_val))\n",
        "test_dataset = CustomDataset(torch.from_numpy(X_test).float(), torch.from_numpy(y_test))"
      ]
    },
    {
      "cell_type": "code",
      "execution_count": null,
      "metadata": {
        "id": "uuZxUNKl82Fq"
      },
      "outputs": [],
      "source": [
        "#@title Definindo dataloader\n",
        "batch_size = 16 \n",
        "#Gerando um dataloader\n",
        "train_loader = DataLoader(dataset=train_dataset,batch_size=batch_size)\n",
        "val_loader = DataLoader(dataset=val_dataset, batch_size=1)\n",
        "test_loader = DataLoader(dataset=test_dataset, batch_size=1)"
      ]
    },
    {
      "cell_type": "code",
      "execution_count": null,
      "metadata": {
        "id": "vFd4UWMip6-9"
      },
      "outputs": [],
      "source": []
    },
    {
      "cell_type": "markdown",
      "metadata": {
        "id": "wGcMQpul6bOV"
      },
      "source": [
        "Temos algumas formas para criar um modelo de Redes Neurais em Pytorch."
      ]
    },
    {
      "cell_type": "code",
      "execution_count": null,
      "metadata": {
        "id": "sXucmYFY553k"
      },
      "outputs": [],
      "source": [
        "#device = torch.device('cuda' if torch.cuda.is_available() else 'cpu')"
      ]
    },
    {
      "cell_type": "code",
      "execution_count": null,
      "metadata": {
        "id": "sU2rn4Ak55xl"
      },
      "outputs": [],
      "source": [
        "#Criar usando classe. \n",
        "\n",
        "class NeuralNetwork(torch.nn.Module):\n",
        "\n",
        "  def __init__(self,hidden_neurons = 4, hidden_activation = 'relu', output_activation='softmax', n_input = 1, n_output = 1):\n",
        "    # create model\n",
        "    super(NeuralNetwork, self).__init__()\n",
        "\n",
        "    self.activations = {'relu': nn.ReLU(), 'sigmoid':nn.Sigmoid(), 'softmax':nn.Softmax()}\n",
        "\n",
        "    self.fc1 = nn.Linear(n_input, hidden_neurons)\n",
        "    #self.ha = self.activations[hidden_activation]\n",
        "    self.ha = nn.Sigmoid()\n",
        "    self.fc2 = nn.Linear(hidden_neurons, n_output)\n",
        "    #self.out = self.activations[output_activation]\n",
        "\n",
        "  def forward(self,x):\n",
        "    net = self.fc1(x)\n",
        "    h1 = self.ha(net)\n",
        "    y = self.fc2(h1) \n",
        "    #y = self.out(h2)\n",
        "    return y"
      ]
    },
    {
      "cell_type": "code",
      "execution_count": null,
      "metadata": {
        "id": "T7otCCF555rU"
      },
      "outputs": [],
      "source": [
        "model = NeuralNetwork(hidden_neurons=5, n_input=4, n_output=3)"
      ]
    },
    {
      "cell_type": "code",
      "execution_count": null,
      "metadata": {
        "id": "nGjkZReJ55ll"
      },
      "outputs": [],
      "source": [
        "#@title Definindo parâmetros do problema.\n",
        "lr = 10e-4 #@param {type:\"number\"}\n",
        "device = 'cuda' #@param {type:\"string\"}"
      ]
    },
    {
      "cell_type": "code",
      "execution_count": null,
      "metadata": {
        "colab": {
          "base_uri": "https://localhost:8080/"
        },
        "id": "gUJ6Vkr_2sp-",
        "outputId": "f6aec32c-0636-4e66-e5b5-0b83c06945ae"
      },
      "outputs": [
        {
          "data": {
            "text/plain": [
              "<generator object Module.parameters at 0x7f92a665d750>"
            ]
          },
          "execution_count": 54,
          "metadata": {},
          "output_type": "execute_result"
        }
      ],
      "source": [
        "model.parameters()"
      ]
    },
    {
      "cell_type": "code",
      "execution_count": null,
      "metadata": {
        "id": "YUi6Znt555id"
      },
      "outputs": [],
      "source": [
        "#@title Definindo a função de perda e o método de otimização para atualização dos pesos.\n",
        "\n",
        "criterion = nn.CrossEntropyLoss() #Logits\n",
        "optimizer = torch.optim.Adam(model.parameters(), lr=lr)\n",
        "\n",
        "history = {'acc_train' : [], 'loss_train': [], 'acc_val': [], 'loss_val': []}"
      ]
    },
    {
      "cell_type": "code",
      "execution_count": null,
      "metadata": {
        "id": "ZLk6n3eb2d0Z"
      },
      "outputs": [],
      "source": [
        "model = NeuralNetwork(hidden_neurons=5, n_input=4, n_output=3)"
      ]
    },
    {
      "cell_type": "markdown",
      "metadata": {
        "id": "O7w4NZ_krLsm"
      },
      "source": [
        "## Treinamento"
      ]
    },
    {
      "cell_type": "markdown",
      "metadata": {
        "id": "2atrnYeRrOXI"
      },
      "source": [
        "Neste caso, definimos um loop para o treinamento por *n_epochs* épocas. Neste caso, não estamos usando o \"offline learning\", ensinado em sala de aula, mas sim um aprendizado em lote (batch)."
      ]
    },
    {
      "cell_type": "code",
      "execution_count": null,
      "metadata": {
        "colab": {
          "base_uri": "https://localhost:8080/"
        },
        "id": "45wT3N5VC0FJ",
        "outputId": "65482831-42a8-4885-ca3e-e88d1c83bd84"
      },
      "outputs": [
        {
          "name": "stdout",
          "output_type": "stream",
          "text": [
            "epoch 0, loss 1.098142147064209\n",
            "epoch 1, loss 1.0937440395355225\n",
            "epoch 2, loss 1.0894551277160645\n",
            "epoch 3, loss 1.0853015184402466\n",
            "epoch 4, loss 1.0812479257583618\n",
            "epoch 5, loss 1.077285647392273\n",
            "epoch 6, loss 1.0734081268310547\n",
            "epoch 7, loss 1.069599986076355\n",
            "epoch 8, loss 1.0658440589904785\n",
            "epoch 9, loss 1.0621247291564941\n",
            "epoch 10, loss 1.0584286451339722\n",
            "epoch 11, loss 1.0547409057617188\n",
            "epoch 12, loss 1.0510480403900146\n",
            "epoch 13, loss 1.0473369359970093\n",
            "epoch 14, loss 1.0435956716537476\n",
            "epoch 15, loss 1.0398132801055908\n",
            "epoch 16, loss 1.0359784364700317\n",
            "epoch 17, loss 1.0320795774459839\n",
            "epoch 18, loss 1.0281100273132324\n",
            "epoch 19, loss 1.024064064025879\n",
            "epoch 20, loss 1.0199368000030518\n",
            "epoch 21, loss 1.0157244205474854\n",
            "epoch 22, loss 1.011422872543335\n",
            "epoch 23, loss 1.0070297718048096\n",
            "epoch 24, loss 1.0025438070297241\n",
            "epoch 25, loss 0.9979626536369324\n",
            "epoch 26, loss 0.9932973980903625\n",
            "epoch 27, loss 0.9885401725769043\n",
            "epoch 28, loss 0.983689546585083\n",
            "epoch 29, loss 0.9787457585334778\n",
            "epoch 30, loss 0.9737101793289185\n",
            "epoch 31, loss 0.9685848951339722\n",
            "epoch 32, loss 0.9633721113204956\n",
            "epoch 33, loss 0.9580746293067932\n",
            "epoch 34, loss 0.9526956677436829\n",
            "epoch 35, loss 0.9472387433052063\n",
            "epoch 36, loss 0.9417076110839844\n",
            "epoch 37, loss 0.9361041188240051\n",
            "epoch 38, loss 0.9304345846176147\n",
            "epoch 39, loss 0.9247049689292908\n",
            "epoch 40, loss 0.9189298152923584\n",
            "epoch 41, loss 0.913110613822937\n",
            "epoch 42, loss 0.9072450995445251\n",
            "epoch 43, loss 0.9013406038284302\n",
            "epoch 44, loss 0.8954029083251953\n",
            "epoch 45, loss 0.8894369602203369\n",
            "epoch 46, loss 0.8834564685821533\n",
            "epoch 47, loss 0.8774616122245789\n",
            "epoch 48, loss 0.8714640736579895\n",
            "epoch 49, loss 0.865469217300415\n",
            "epoch 50, loss 0.8594745397567749\n",
            "epoch 51, loss 0.8534974455833435\n",
            "epoch 52, loss 0.8475140333175659\n",
            "epoch 53, loss 0.841530978679657\n",
            "epoch 54, loss 0.8355587720870972\n",
            "epoch 55, loss 0.829605221748352\n",
            "epoch 56, loss 0.8236758708953857\n",
            "epoch 57, loss 0.8177757263183594\n",
            "epoch 58, loss 0.8119086027145386\n",
            "epoch 59, loss 0.8060900568962097\n",
            "epoch 60, loss 0.8003279566764832\n",
            "epoch 61, loss 0.7946948409080505\n",
            "epoch 62, loss 0.7891197800636292\n",
            "epoch 63, loss 0.7835843563079834\n",
            "epoch 64, loss 0.7780849933624268\n",
            "epoch 65, loss 0.7726391553878784\n",
            "epoch 66, loss 0.76724773645401\n",
            "epoch 67, loss 0.7619039416313171\n",
            "epoch 68, loss 0.7566226124763489\n",
            "epoch 69, loss 0.7514103055000305\n",
            "epoch 70, loss 0.746258556842804\n",
            "epoch 71, loss 0.7411656379699707\n",
            "epoch 72, loss 0.7361378073692322\n",
            "epoch 73, loss 0.7311806082725525\n",
            "epoch 74, loss 0.7262941598892212\n",
            "epoch 75, loss 0.7215018272399902\n",
            "epoch 76, loss 0.7168070077896118\n",
            "epoch 77, loss 0.7121811509132385\n",
            "epoch 78, loss 0.7076230645179749\n",
            "epoch 79, loss 0.7031430602073669\n",
            "epoch 80, loss 0.6987289190292358\n",
            "epoch 81, loss 0.6943778395652771\n",
            "epoch 82, loss 0.6900907754898071\n",
            "epoch 83, loss 0.6858679056167603\n",
            "epoch 84, loss 0.6817071437835693\n",
            "epoch 85, loss 0.6776061058044434\n",
            "epoch 86, loss 0.6735647320747375\n",
            "epoch 87, loss 0.6695932149887085\n",
            "epoch 88, loss 0.6656827330589294\n",
            "epoch 89, loss 0.6618238687515259\n",
            "epoch 90, loss 0.6580175161361694\n",
            "epoch 91, loss 0.6542677879333496\n",
            "epoch 92, loss 0.6505706310272217\n",
            "epoch 93, loss 0.6469273567199707\n",
            "epoch 94, loss 0.6433395147323608\n",
            "epoch 95, loss 0.6398061513900757\n",
            "epoch 96, loss 0.6363263726234436\n",
            "epoch 97, loss 0.6328988671302795\n",
            "epoch 98, loss 0.6295210123062134\n",
            "epoch 99, loss 0.6261926889419556\n",
            "epoch 100, loss 0.6229168176651001\n",
            "epoch 101, loss 0.6196844577789307\n",
            "epoch 102, loss 0.6164921522140503\n",
            "epoch 103, loss 0.613338828086853\n",
            "epoch 104, loss 0.6102250814437866\n",
            "epoch 105, loss 0.6071500778198242\n",
            "epoch 106, loss 0.6041130423545837\n",
            "epoch 107, loss 0.601112425327301\n",
            "epoch 108, loss 0.5981466770172119\n",
            "epoch 109, loss 0.5952141284942627\n",
            "epoch 110, loss 0.5923131108283997\n",
            "epoch 111, loss 0.5894421935081482\n",
            "epoch 112, loss 0.5866014361381531\n",
            "epoch 113, loss 0.5837906002998352\n",
            "epoch 114, loss 0.5810094475746155\n",
            "epoch 115, loss 0.5782577395439148\n",
            "epoch 116, loss 0.5755344033241272\n",
            "epoch 117, loss 0.5728381872177124\n",
            "epoch 118, loss 0.5701677203178406\n",
            "epoch 119, loss 0.5675218105316162\n",
            "epoch 120, loss 0.564903736114502\n",
            "epoch 121, loss 0.5623101592063904\n",
            "epoch 122, loss 0.5597354769706726\n",
            "epoch 123, loss 0.5571809411048889\n",
            "epoch 124, loss 0.554646372795105\n",
            "epoch 125, loss 0.5521306991577148\n",
            "epoch 126, loss 0.549635648727417\n",
            "epoch 127, loss 0.5471654534339905\n",
            "epoch 128, loss 0.5447164177894592\n",
            "epoch 129, loss 0.5422855019569397\n",
            "epoch 130, loss 0.5398708581924438\n",
            "epoch 131, loss 0.5374745726585388\n",
            "epoch 132, loss 0.5351108908653259\n",
            "epoch 133, loss 0.5327644944190979\n",
            "epoch 134, loss 0.530433714389801\n",
            "epoch 135, loss 0.5281171798706055\n",
            "epoch 136, loss 0.5258138179779053\n",
            "epoch 137, loss 0.5235228538513184\n",
            "epoch 138, loss 0.521243691444397\n",
            "epoch 139, loss 0.5189827680587769\n",
            "epoch 140, loss 0.5167392492294312\n",
            "epoch 141, loss 0.5145118832588196\n",
            "epoch 142, loss 0.5122976303100586\n",
            "epoch 143, loss 0.5100939273834229\n",
            "epoch 144, loss 0.5078990459442139\n",
            "epoch 145, loss 0.5057119131088257\n",
            "epoch 146, loss 0.5035321712493896\n",
            "epoch 147, loss 0.5013592839241028\n",
            "epoch 148, loss 0.49919331073760986\n",
            "epoch 149, loss 0.49703407287597656\n",
            "epoch 150, loss 0.49488165974617004\n",
            "epoch 151, loss 0.4927402436733246\n",
            "epoch 152, loss 0.4906143844127655\n",
            "epoch 153, loss 0.4884996712207794\n",
            "epoch 154, loss 0.48639345169067383\n",
            "epoch 155, loss 0.48429396748542786\n",
            "epoch 156, loss 0.48219913244247437\n",
            "epoch 157, loss 0.48010796308517456\n",
            "epoch 158, loss 0.47802039980888367\n",
            "epoch 159, loss 0.47593533992767334\n",
            "epoch 160, loss 0.4738524556159973\n",
            "epoch 161, loss 0.47177135944366455\n",
            "epoch 162, loss 0.46969616413116455\n",
            "epoch 163, loss 0.4676521122455597\n",
            "epoch 164, loss 0.46563011407852173\n",
            "epoch 165, loss 0.4636233448982239\n",
            "epoch 166, loss 0.46163660287857056\n",
            "epoch 167, loss 0.459656298160553\n",
            "epoch 168, loss 0.45767900347709656\n",
            "epoch 169, loss 0.45570576190948486\n",
            "epoch 170, loss 0.453732430934906\n",
            "epoch 171, loss 0.4517562985420227\n",
            "epoch 172, loss 0.4497782588005066\n",
            "epoch 173, loss 0.44779929518699646\n",
            "epoch 174, loss 0.4458206295967102\n",
            "epoch 175, loss 0.4438437819480896\n",
            "epoch 176, loss 0.4418698251247406\n",
            "epoch 177, loss 0.43989989161491394\n",
            "epoch 178, loss 0.43793484568595886\n",
            "epoch 179, loss 0.4359752833843231\n",
            "epoch 180, loss 0.4340215027332306\n",
            "epoch 181, loss 0.432073712348938\n",
            "epoch 182, loss 0.4301317632198334\n",
            "epoch 183, loss 0.4281955361366272\n",
            "epoch 184, loss 0.42626503109931946\n",
            "epoch 185, loss 0.42433977127075195\n",
            "epoch 186, loss 0.42241954803466797\n",
            "epoch 187, loss 0.42050406336784363\n",
            "epoch 188, loss 0.4185931384563446\n",
            "epoch 189, loss 0.416686475276947\n",
            "epoch 190, loss 0.41478389501571655\n",
            "epoch 191, loss 0.4128851592540741\n",
            "epoch 192, loss 0.4109901189804077\n",
            "epoch 193, loss 0.40909868478775024\n",
            "epoch 194, loss 0.40721070766448975\n",
            "epoch 195, loss 0.40532612800598145\n",
            "epoch 196, loss 0.4034448564052582\n",
            "epoch 197, loss 0.40156668424606323\n",
            "epoch 198, loss 0.39969173073768616\n",
            "epoch 199, loss 0.39782002568244934\n",
            "epoch 200, loss 0.39595669507980347\n",
            "epoch 201, loss 0.3940981328487396\n",
            "epoch 202, loss 0.39224332571029663\n",
            "epoch 203, loss 0.3904116451740265\n",
            "epoch 204, loss 0.3885939121246338\n",
            "epoch 205, loss 0.38678067922592163\n",
            "epoch 206, loss 0.38496705889701843\n",
            "epoch 207, loss 0.38317129015922546\n",
            "epoch 208, loss 0.3813895285129547\n",
            "epoch 209, loss 0.3796105682849884\n",
            "epoch 210, loss 0.37782877683639526\n",
            "epoch 211, loss 0.376041978597641\n",
            "epoch 212, loss 0.3742508292198181\n",
            "epoch 213, loss 0.37245672941207886\n",
            "epoch 214, loss 0.3706616759300232\n",
            "epoch 215, loss 0.3688686192035675\n",
            "epoch 216, loss 0.3670791685581207\n",
            "epoch 217, loss 0.36529263854026794\n",
            "epoch 218, loss 0.36350953578948975\n",
            "epoch 219, loss 0.3617406487464905\n",
            "epoch 220, loss 0.3600025773048401\n",
            "epoch 221, loss 0.3582758903503418\n",
            "epoch 222, loss 0.3565540015697479\n",
            "epoch 223, loss 0.3548344075679779\n",
            "epoch 224, loss 0.3531155288219452\n",
            "epoch 225, loss 0.3513968586921692\n",
            "epoch 226, loss 0.34967875480651855\n",
            "epoch 227, loss 0.34796246886253357\n",
            "epoch 228, loss 0.34624889492988586\n",
            "epoch 229, loss 0.3445395231246948\n",
            "epoch 230, loss 0.3428352177143097\n",
            "epoch 231, loss 0.34113672375679016\n",
            "epoch 232, loss 0.33944448828697205\n",
            "epoch 233, loss 0.3377586901187897\n",
            "epoch 234, loss 0.33607935905456543\n",
            "epoch 235, loss 0.33440661430358887\n",
            "epoch 236, loss 0.33274027705192566\n",
            "epoch 237, loss 0.33108025789260864\n",
            "epoch 238, loss 0.32942643761634827\n",
            "epoch 239, loss 0.32777878642082214\n",
            "epoch 240, loss 0.32613715529441833\n",
            "epoch 241, loss 0.32450148463249207\n",
            "epoch 242, loss 0.32287177443504333\n",
            "epoch 243, loss 0.3212479054927826\n",
            "epoch 244, loss 0.319629967212677\n",
            "epoch 245, loss 0.31801778078079224\n",
            "epoch 246, loss 0.31641149520874023\n",
            "epoch 247, loss 0.314811110496521\n",
            "epoch 248, loss 0.3132164180278778\n",
            "epoch 249, loss 0.31162670254707336\n",
            "epoch 250, loss 0.31004148721694946\n",
            "epoch 251, loss 0.3084612190723419\n",
            "epoch 252, loss 0.30688613653182983\n",
            "epoch 253, loss 0.30531635880470276\n",
            "epoch 254, loss 0.30375194549560547\n",
            "epoch 255, loss 0.3021932542324066\n",
            "epoch 256, loss 0.3006402254104614\n",
            "epoch 257, loss 0.29909318685531616\n",
            "epoch 258, loss 0.2975521683692932\n",
            "epoch 259, loss 0.29601728916168213\n",
            "epoch 260, loss 0.2944885492324829\n",
            "epoch 261, loss 0.29296600818634033\n",
            "epoch 262, loss 0.2914496958255768\n",
            "epoch 263, loss 0.28994205594062805\n",
            "epoch 264, loss 0.28844189643859863\n",
            "epoch 265, loss 0.2869478464126587\n",
            "epoch 266, loss 0.28545936942100525\n",
            "epoch 267, loss 0.28397610783576965\n",
            "epoch 268, loss 0.2824980914592743\n",
            "epoch 269, loss 0.28102558851242065\n",
            "epoch 270, loss 0.27955883741378784\n",
            "epoch 271, loss 0.2780980169773102\n",
            "epoch 272, loss 0.2766433656215668\n",
            "epoch 273, loss 0.2751949727535248\n",
            "epoch 274, loss 0.2737530469894409\n",
            "epoch 275, loss 0.272317498922348\n",
            "epoch 276, loss 0.27088844776153564\n",
            "epoch 277, loss 0.26946577429771423\n",
            "epoch 278, loss 0.2680496275424957\n",
            "epoch 279, loss 0.2666398286819458\n",
            "epoch 280, loss 0.2652364671230316\n",
            "epoch 281, loss 0.26383957266807556\n",
            "epoch 282, loss 0.2624489963054657\n",
            "epoch 283, loss 0.26106494665145874\n",
            "epoch 284, loss 0.259687215089798\n",
            "epoch 285, loss 0.2583158612251282\n",
            "epoch 286, loss 0.25695091485977173\n",
            "epoch 287, loss 0.25559234619140625\n",
            "epoch 288, loss 0.2542417645454407\n",
            "epoch 289, loss 0.25289860367774963\n",
            "epoch 290, loss 0.25156185030937195\n",
            "epoch 291, loss 0.2502310872077942\n",
            "epoch 292, loss 0.24890591204166412\n",
            "epoch 293, loss 0.2475864738225937\n",
            "epoch 294, loss 0.24627289175987244\n",
            "epoch 295, loss 0.24496561288833618\n",
            "epoch 296, loss 0.24366743862628937\n",
            "epoch 297, loss 0.24238622188568115\n",
            "epoch 298, loss 0.2411135733127594\n",
            "epoch 299, loss 0.2398449182510376\n",
            "epoch 300, loss 0.2385779768228531\n",
            "epoch 301, loss 0.23731212317943573\n",
            "epoch 302, loss 0.2360481470823288\n",
            "epoch 303, loss 0.23478734493255615\n",
            "epoch 304, loss 0.23353104293346405\n",
            "epoch 305, loss 0.23228050768375397\n",
            "epoch 306, loss 0.23103557527065277\n",
            "epoch 307, loss 0.22979751229286194\n",
            "epoch 308, loss 0.228565976023674\n",
            "epoch 309, loss 0.2273416370153427\n",
            "epoch 310, loss 0.2261238694190979\n",
            "epoch 311, loss 0.22491322457790375\n",
            "epoch 312, loss 0.22370900213718414\n",
            "epoch 313, loss 0.22251099348068237\n",
            "epoch 314, loss 0.22132067382335663\n",
            "epoch 315, loss 0.22013859450817108\n",
            "epoch 316, loss 0.2189629077911377\n",
            "epoch 317, loss 0.21779298782348633\n",
            "epoch 318, loss 0.21662871539592743\n",
            "epoch 319, loss 0.2154701054096222\n",
            "epoch 320, loss 0.2143172025680542\n",
            "epoch 321, loss 0.2131708264350891\n",
            "epoch 322, loss 0.2120305597782135\n",
            "epoch 323, loss 0.2108963429927826\n",
            "epoch 324, loss 0.20976832509040833\n",
            "epoch 325, loss 0.20864665508270264\n",
            "epoch 326, loss 0.20753113925457\n",
            "epoch 327, loss 0.20642203092575073\n",
            "epoch 328, loss 0.20531918108463287\n",
            "epoch 329, loss 0.20422254502773285\n",
            "epoch 330, loss 0.20313213765621185\n",
            "epoch 331, loss 0.20204909145832062\n",
            "epoch 332, loss 0.2009742558002472\n",
            "epoch 333, loss 0.19990597665309906\n",
            "epoch 334, loss 0.19884322583675385\n",
            "epoch 335, loss 0.1977856308221817\n",
            "epoch 336, loss 0.19673313200473785\n",
            "epoch 337, loss 0.19568584859371185\n",
            "epoch 338, loss 0.19464391469955444\n",
            "epoch 339, loss 0.19360767304897308\n",
            "epoch 340, loss 0.19257722795009613\n",
            "epoch 341, loss 0.19155272841453552\n",
            "epoch 342, loss 0.1905342936515808\n",
            "epoch 343, loss 0.18952180445194244\n",
            "epoch 344, loss 0.1885152906179428\n",
            "epoch 345, loss 0.1875147670507431\n",
            "epoch 346, loss 0.18652014434337616\n",
            "epoch 347, loss 0.1855313777923584\n",
            "epoch 348, loss 0.18454834818840027\n",
            "epoch 349, loss 0.18357104063034058\n",
            "epoch 350, loss 0.1825994849205017\n",
            "epoch 351, loss 0.1816336214542389\n",
            "epoch 352, loss 0.18067345023155212\n",
            "epoch 353, loss 0.17971885204315186\n",
            "epoch 354, loss 0.17876984179019928\n",
            "epoch 355, loss 0.17782647907733917\n",
            "epoch 356, loss 0.1768886148929596\n",
            "epoch 357, loss 0.17595623433589935\n",
            "epoch 358, loss 0.17502932250499725\n",
            "epoch 359, loss 0.17410792410373688\n",
            "epoch 360, loss 0.17319194972515106\n",
            "epoch 361, loss 0.1722813993692398\n",
            "epoch 362, loss 0.17137610912322998\n",
            "epoch 363, loss 0.1704758256673813\n",
            "epoch 364, loss 0.16958017647266388\n",
            "epoch 365, loss 0.1686892807483673\n",
            "epoch 366, loss 0.16780312359333038\n",
            "epoch 367, loss 0.16692186892032623\n",
            "epoch 368, loss 0.1660478562116623\n",
            "epoch 369, loss 0.1651802957057953\n",
            "epoch 370, loss 0.16431783139705658\n",
            "epoch 371, loss 0.16345970332622528\n",
            "epoch 372, loss 0.16260556876659393\n",
            "epoch 373, loss 0.16175559163093567\n",
            "epoch 374, loss 0.16090993583202362\n",
            "epoch 375, loss 0.16006891429424286\n",
            "epoch 376, loss 0.15923278033733368\n",
            "epoch 377, loss 0.15840163826942444\n",
            "epoch 378, loss 0.1575756072998047\n",
            "epoch 379, loss 0.15675467252731323\n",
            "epoch 380, loss 0.15593892335891724\n",
            "epoch 381, loss 0.15512818098068237\n",
            "epoch 382, loss 0.15432244539260864\n",
            "epoch 383, loss 0.15352170169353485\n",
            "epoch 384, loss 0.15272590517997742\n",
            "epoch 385, loss 0.1519349217414856\n",
            "epoch 386, loss 0.15114882588386536\n",
            "epoch 387, loss 0.15036746859550476\n",
            "epoch 388, loss 0.14959092438220978\n",
            "epoch 389, loss 0.14881907403469086\n",
            "epoch 390, loss 0.1480519324541092\n",
            "epoch 391, loss 0.1472894549369812\n",
            "epoch 392, loss 0.14653156697750092\n",
            "epoch 393, loss 0.1457783281803131\n",
            "epoch 394, loss 0.14502966403961182\n",
            "epoch 395, loss 0.14428552985191345\n",
            "epoch 396, loss 0.1435459405183792\n",
            "epoch 397, loss 0.14281077682971954\n",
            "epoch 398, loss 0.1420801728963852\n",
            "epoch 399, loss 0.14135394990444183\n",
            "epoch 400, loss 0.14063212275505066\n",
            "epoch 401, loss 0.13991469144821167\n",
            "epoch 402, loss 0.1392015963792801\n",
            "epoch 403, loss 0.13849285244941711\n",
            "epoch 404, loss 0.13778840005397797\n",
            "epoch 405, loss 0.13708819448947906\n",
            "epoch 406, loss 0.13639222085475922\n",
            "epoch 407, loss 0.13570041954517365\n",
            "epoch 408, loss 0.13501280546188354\n",
            "epoch 409, loss 0.13432936370372772\n",
            "epoch 410, loss 0.1336500197649002\n",
            "epoch 411, loss 0.1329748034477234\n",
            "epoch 412, loss 0.13230733573436737\n",
            "epoch 413, loss 0.13164566457271576\n",
            "epoch 414, loss 0.13098791241645813\n",
            "epoch 415, loss 0.1303330361843109\n",
            "epoch 416, loss 0.12968067824840546\n",
            "epoch 417, loss 0.1290310174226761\n",
            "epoch 418, loss 0.12838417291641235\n",
            "epoch 419, loss 0.12774066627025604\n",
            "epoch 420, loss 0.1271006315946579\n",
            "epoch 421, loss 0.12646427750587463\n",
            "epoch 422, loss 0.12583185732364655\n",
            "epoch 423, loss 0.12520335614681244\n",
            "epoch 424, loss 0.12457873672246933\n",
            "epoch 425, loss 0.12395800650119781\n",
            "epoch 426, loss 0.12334110587835312\n",
            "epoch 427, loss 0.12272796779870987\n",
            "epoch 428, loss 0.1221185103058815\n",
            "epoch 429, loss 0.12151274085044861\n",
            "epoch 430, loss 0.12091060727834702\n",
            "epoch 431, loss 0.12031203508377075\n",
            "epoch 432, loss 0.11971713602542877\n",
            "epoch 433, loss 0.11912567913532257\n",
            "epoch 434, loss 0.11853780597448349\n",
            "epoch 435, loss 0.117954321205616\n",
            "epoch 436, loss 0.11737345904111862\n",
            "epoch 437, loss 0.11679553240537643\n",
            "epoch 438, loss 0.1162206307053566\n",
            "epoch 439, loss 0.11564874649047852\n",
            "epoch 440, loss 0.11508000642061234\n",
            "epoch 441, loss 0.11451451480388641\n",
            "epoch 442, loss 0.11395218968391418\n",
            "epoch 443, loss 0.11339329928159714\n",
            "epoch 444, loss 0.11283764243125916\n",
            "epoch 445, loss 0.11228548735380173\n",
            "epoch 446, loss 0.11173664778470993\n",
            "epoch 447, loss 0.11119118332862854\n",
            "epoch 448, loss 0.11064908653497696\n",
            "epoch 449, loss 0.11011030524969101\n",
            "epoch 450, loss 0.1095748171210289\n",
            "epoch 451, loss 0.10904256999492645\n",
            "epoch 452, loss 0.10851359367370605\n",
            "epoch 453, loss 0.10798779129981995\n",
            "epoch 454, loss 0.10746519267559052\n",
            "epoch 455, loss 0.10694576054811478\n",
            "epoch 456, loss 0.10642946511507034\n",
            "epoch 457, loss 0.10591624677181244\n",
            "epoch 458, loss 0.10540610551834106\n",
            "epoch 459, loss 0.10489904135465622\n",
            "epoch 460, loss 0.1043950691819191\n",
            "epoch 461, loss 0.10389401763677597\n",
            "epoch 462, loss 0.10339603573083878\n",
            "epoch 463, loss 0.10290099680423737\n",
            "epoch 464, loss 0.10240843147039413\n",
            "epoch 465, loss 0.10191822797060013\n",
            "epoch 466, loss 0.10143052786588669\n",
            "epoch 467, loss 0.1009453758597374\n",
            "epoch 468, loss 0.10046274960041046\n",
            "epoch 469, loss 0.09998279809951782\n",
            "epoch 470, loss 0.09950555860996246\n",
            "epoch 471, loss 0.09903109073638916\n",
            "epoch 472, loss 0.09855946153402328\n",
            "epoch 473, loss 0.09809067845344543\n",
            "epoch 474, loss 0.09762470424175262\n",
            "epoch 475, loss 0.09716159105300903\n",
            "epoch 476, loss 0.0967014953494072\n",
            "epoch 477, loss 0.0962432324886322\n",
            "epoch 478, loss 0.09578721970319748\n",
            "epoch 479, loss 0.09533359855413437\n",
            "epoch 480, loss 0.09488312900066376\n",
            "epoch 481, loss 0.09443563967943192\n",
            "epoch 482, loss 0.09399030357599258\n",
            "epoch 483, loss 0.09354730695486069\n",
            "epoch 484, loss 0.09310761094093323\n",
            "epoch 485, loss 0.09267010539770126\n",
            "epoch 486, loss 0.09223497658967972\n",
            "epoch 487, loss 0.09180314093828201\n",
            "epoch 488, loss 0.091373510658741\n",
            "epoch 489, loss 0.09094619750976562\n",
            "epoch 490, loss 0.09052123874425888\n",
            "epoch 491, loss 0.0900987908244133\n",
            "epoch 492, loss 0.08967955410480499\n",
            "epoch 493, loss 0.08926241099834442\n",
            "epoch 494, loss 0.08884762227535248\n",
            "epoch 495, loss 0.08843523263931274\n",
            "epoch 496, loss 0.08802517503499985\n",
            "epoch 497, loss 0.08761750906705856\n",
            "epoch 498, loss 0.0872122198343277\n",
            "epoch 499, loss 0.08680933713912964\n",
            "epoch 500, loss 0.08640878647565842\n",
            "epoch 501, loss 0.08601058274507523\n",
            "epoch 502, loss 0.08561475574970245\n",
            "epoch 503, loss 0.08522118628025055\n",
            "epoch 504, loss 0.08483009040355682\n",
            "epoch 505, loss 0.08444125950336456\n",
            "epoch 506, loss 0.08405473828315735\n",
            "epoch 507, loss 0.08367052674293518\n",
            "epoch 508, loss 0.08328856527805328\n",
            "epoch 509, loss 0.08290886878967285\n",
            "epoch 510, loss 0.0825313851237297\n",
            "epoch 511, loss 0.08215613663196564\n",
            "epoch 512, loss 0.08178310096263885\n",
            "epoch 513, loss 0.08141225576400757\n",
            "epoch 514, loss 0.08104352653026581\n",
            "epoch 515, loss 0.08067692071199417\n",
            "epoch 516, loss 0.08031254261732101\n",
            "epoch 517, loss 0.07995019108057022\n",
            "epoch 518, loss 0.07958997786045074\n",
            "epoch 519, loss 0.0792318731546402\n",
            "epoch 520, loss 0.07887586206197739\n",
            "epoch 521, loss 0.07852182537317276\n",
            "epoch 522, loss 0.07816984504461288\n",
            "epoch 523, loss 0.07781992852687836\n",
            "epoch 524, loss 0.07747199386358261\n",
            "epoch 525, loss 0.07712604105472565\n",
            "epoch 526, loss 0.07678211480379105\n",
            "epoch 527, loss 0.07644014060497284\n",
            "epoch 528, loss 0.07610013335943222\n",
            "epoch 529, loss 0.07576204836368561\n",
            "epoch 530, loss 0.0754259005188942\n",
            "epoch 531, loss 0.07509158551692963\n",
            "epoch 532, loss 0.07475922256708145\n",
            "epoch 533, loss 0.07442875951528549\n",
            "epoch 534, loss 0.07410015910863876\n",
            "epoch 535, loss 0.07377336174249649\n",
            "epoch 536, loss 0.07344847917556763\n",
            "epoch 537, loss 0.0731254294514656\n",
            "epoch 538, loss 0.07280419021844864\n",
            "epoch 539, loss 0.07248476892709732\n",
            "epoch 540, loss 0.07216712832450867\n",
            "epoch 541, loss 0.07185127586126328\n",
            "epoch 542, loss 0.07153718173503876\n",
            "epoch 543, loss 0.07122484594583511\n",
            "epoch 544, loss 0.07091424614191055\n",
            "epoch 545, loss 0.07060535997152328\n",
            "epoch 546, loss 0.0702982023358345\n",
            "epoch 547, loss 0.0699927806854248\n",
            "epoch 548, loss 0.06968908756971359\n",
            "epoch 549, loss 0.06938707083463669\n",
            "epoch 550, loss 0.06908668577671051\n",
            "epoch 551, loss 0.06878799200057983\n",
            "epoch 552, loss 0.06849095970392227\n",
            "epoch 553, loss 0.06819556653499603\n",
            "epoch 554, loss 0.06790179759263992\n",
            "epoch 555, loss 0.06760962307453156\n",
            "epoch 556, loss 0.0673191025853157\n",
            "epoch 557, loss 0.06703014671802521\n",
            "epoch 558, loss 0.06674276292324066\n",
            "epoch 559, loss 0.06645697355270386\n",
            "epoch 560, loss 0.06617274135351181\n",
            "epoch 561, loss 0.06589009612798691\n",
            "epoch 562, loss 0.06560895591974258\n",
            "epoch 563, loss 0.06532935798168182\n",
            "epoch 564, loss 0.06505133211612701\n",
            "epoch 565, loss 0.06477463990449905\n",
            "epoch 566, loss 0.06449893116950989\n",
            "epoch 567, loss 0.06422435492277145\n",
            "epoch 568, loss 0.06395099312067032\n",
            "epoch 569, loss 0.06367890536785126\n",
            "epoch 570, loss 0.06340812146663666\n",
            "epoch 571, loss 0.0631386861205101\n",
            "epoch 572, loss 0.06287065148353577\n",
            "epoch 573, loss 0.06260403245687485\n",
            "epoch 574, loss 0.06233886256814003\n",
            "epoch 575, loss 0.0620751790702343\n",
            "epoch 576, loss 0.06181298568844795\n",
            "epoch 577, loss 0.06155216693878174\n",
            "epoch 578, loss 0.061292875558137894\n",
            "epoch 579, loss 0.06103499233722687\n",
            "epoch 580, loss 0.060778554528951645\n",
            "epoch 581, loss 0.060523539781570435\n",
            "epoch 582, loss 0.06026994809508324\n",
            "epoch 583, loss 0.060017701238393784\n",
            "epoch 584, loss 0.05976686626672745\n",
            "epoch 585, loss 0.05951738730072975\n",
            "epoch 586, loss 0.05926927551627159\n",
            "epoch 587, loss 0.05902254581451416\n",
            "epoch 588, loss 0.05877711623907089\n",
            "epoch 589, loss 0.058533087372779846\n",
            "epoch 590, loss 0.05829032137989998\n",
            "epoch 591, loss 0.05804891884326935\n",
            "epoch 592, loss 0.05780874937772751\n",
            "epoch 593, loss 0.05756991729140282\n",
            "epoch 594, loss 0.05733238533139229\n",
            "epoch 595, loss 0.05709609016776085\n",
            "epoch 596, loss 0.05686105787754059\n",
            "epoch 597, loss 0.0566273033618927\n",
            "epoch 598, loss 0.05639484524726868\n",
            "epoch 599, loss 0.05616357550024986\n",
            "epoch 600, loss 0.055933594703674316\n",
            "epoch 601, loss 0.05570482462644577\n",
            "epoch 602, loss 0.05547723546624184\n",
            "epoch 603, loss 0.05525088682770729\n",
            "epoch 604, loss 0.05502575263381004\n",
            "epoch 605, loss 0.05480177700519562\n",
            "epoch 606, loss 0.05457901209592819\n",
            "epoch 607, loss 0.05435739457607269\n",
            "epoch 608, loss 0.054136961698532104\n",
            "epoch 609, loss 0.05391773208975792\n",
            "epoch 610, loss 0.05369962379336357\n",
            "epoch 611, loss 0.05348263680934906\n",
            "epoch 612, loss 0.05326677858829498\n",
            "epoch 613, loss 0.053052064031362534\n",
            "epoch 614, loss 0.05283850058913231\n",
            "epoch 615, loss 0.05262602120637894\n",
            "epoch 616, loss 0.05241468548774719\n",
            "epoch 617, loss 0.052204430103302\n",
            "epoch 618, loss 0.05199527367949486\n",
            "epoch 619, loss 0.051787201315164566\n",
            "epoch 620, loss 0.05158023163676262\n",
            "epoch 621, loss 0.051374323666095734\n",
            "epoch 622, loss 0.05116943269968033\n",
            "epoch 623, loss 0.05096564441919327\n",
            "epoch 624, loss 0.05076291039586067\n",
            "epoch 625, loss 0.05056121200323105\n",
            "epoch 626, loss 0.05036056041717529\n",
            "epoch 627, loss 0.050160959362983704\n",
            "epoch 628, loss 0.049962349236011505\n",
            "epoch 629, loss 0.049764763563871384\n",
            "epoch 630, loss 0.04956822097301483\n",
            "epoch 631, loss 0.049372654408216476\n",
            "epoch 632, loss 0.049178097397089005\n",
            "epoch 633, loss 0.04898454248905182\n",
            "epoch 634, loss 0.04879194498062134\n",
            "epoch 635, loss 0.04860033467411995\n",
            "epoch 636, loss 0.0484095923602581\n",
            "epoch 637, loss 0.04821952059864998\n",
            "epoch 638, loss 0.04803025722503662\n",
            "epoch 639, loss 0.04784179851412773\n",
            "epoch 640, loss 0.047654200345277786\n",
            "epoch 641, loss 0.047467440366744995\n",
            "epoch 642, loss 0.047281596809625626\n",
            "epoch 643, loss 0.047096628695726395\n",
            "epoch 644, loss 0.04691258817911148\n",
            "epoch 645, loss 0.04672948271036148\n",
            "epoch 646, loss 0.0465472973883152\n",
            "epoch 647, loss 0.04636605829000473\n",
            "epoch 648, loss 0.046185724437236786\n",
            "epoch 649, loss 0.04600637033581734\n",
            "epoch 650, loss 0.045827947556972504\n",
            "epoch 651, loss 0.0456504262983799\n",
            "epoch 652, loss 0.04547378420829773\n",
            "epoch 653, loss 0.04529808834195137\n",
            "epoch 654, loss 0.04512324556708336\n",
            "epoch 655, loss 0.044949330389499664\n",
            "epoch 656, loss 0.04477626830339432\n",
            "epoch 657, loss 0.04460413008928299\n",
            "epoch 658, loss 0.04443279653787613\n",
            "epoch 659, loss 0.044262390583753586\n",
            "epoch 660, loss 0.04409286379814148\n",
            "epoch 661, loss 0.043924152851104736\n",
            "epoch 662, loss 0.04375627636909485\n",
            "epoch 663, loss 0.043589212000370026\n",
            "epoch 664, loss 0.043423064053058624\n",
            "epoch 665, loss 0.043257713317871094\n",
            "epoch 666, loss 0.043093204498291016\n",
            "epoch 667, loss 0.04292948916554451\n",
            "epoch 668, loss 0.04276658967137337\n",
            "epoch 669, loss 0.04260456562042236\n",
            "epoch 670, loss 0.042443256825208664\n",
            "epoch 671, loss 0.04228280857205391\n",
            "epoch 672, loss 0.04212310165166855\n",
            "epoch 673, loss 0.041964225471019745\n",
            "epoch 674, loss 0.04180612415075302\n",
            "epoch 675, loss 0.04164881259202957\n",
            "epoch 676, loss 0.041492290794849396\n",
            "epoch 677, loss 0.04133651778101921\n",
            "epoch 678, loss 0.04118149355053902\n",
            "epoch 679, loss 0.0410272516310215\n",
            "epoch 680, loss 0.04087376967072487\n",
            "epoch 681, loss 0.04072100296616554\n",
            "epoch 682, loss 0.04056904464960098\n",
            "epoch 683, loss 0.04041776433587074\n",
            "epoch 684, loss 0.040267255157232285\n",
            "epoch 685, loss 0.04011750966310501\n",
            "epoch 686, loss 0.03996846452355385\n",
            "epoch 687, loss 0.039820149540901184\n",
            "epoch 688, loss 0.03967253491282463\n",
            "epoch 689, loss 0.03952564299106598\n",
            "epoch 690, loss 0.03937947377562523\n",
            "epoch 691, loss 0.03923402726650238\n",
            "epoch 692, loss 0.03908924758434296\n",
            "epoch 693, loss 0.03894514963030815\n",
            "epoch 694, loss 0.03880179673433304\n",
            "epoch 695, loss 0.03865911439061165\n",
            "epoch 696, loss 0.03851711377501488\n",
            "epoch 697, loss 0.03837577998638153\n",
            "epoch 698, loss 0.0382351391017437\n",
            "epoch 699, loss 0.038095179945230484\n",
            "epoch 700, loss 0.037955861538648605\n",
            "epoch 701, loss 0.037817198783159256\n",
            "epoch 702, loss 0.037679217755794525\n",
            "epoch 703, loss 0.03754191845655441\n",
            "epoch 704, loss 0.03740524873137474\n",
            "epoch 705, loss 0.03726925328373909\n",
            "epoch 706, loss 0.03713389113545418\n",
            "epoch 707, loss 0.036999158561229706\n",
            "epoch 708, loss 0.036865051835775375\n",
            "epoch 709, loss 0.03673157840967178\n",
            "epoch 710, loss 0.03659875690937042\n",
            "epoch 711, loss 0.036466557532548904\n",
            "epoch 712, loss 0.036334991455078125\n",
            "epoch 713, loss 0.03620404377579689\n",
            "epoch 714, loss 0.03607369214296341\n",
            "epoch 715, loss 0.03594392165541649\n",
            "epoch 716, loss 0.03581482544541359\n",
            "epoch 717, loss 0.03568631410598755\n",
            "epoch 718, loss 0.035558395087718964\n",
            "epoch 719, loss 0.03543104603886604\n",
            "epoch 720, loss 0.035304319113492966\n",
            "epoch 721, loss 0.03517818823456764\n",
            "epoch 722, loss 0.03505263850092888\n",
            "epoch 723, loss 0.034927692264318466\n",
            "epoch 724, loss 0.034803323447704315\n",
            "epoch 725, loss 0.03467949852347374\n",
            "epoch 726, loss 0.03455628827214241\n",
            "epoch 727, loss 0.03443359583616257\n",
            "epoch 728, loss 0.03431151062250137\n",
            "epoch 729, loss 0.03419000282883644\n",
            "epoch 730, loss 0.034069035202264786\n",
            "epoch 731, loss 0.0339486226439476\n",
            "epoch 732, loss 0.03382876142859459\n",
            "epoch 733, loss 0.033709459006786346\n",
            "epoch 734, loss 0.03359070420265198\n",
            "epoch 735, loss 0.03347248211503029\n",
            "epoch 736, loss 0.03335481509566307\n",
            "epoch 737, loss 0.033237677067518234\n",
            "epoch 738, loss 0.03312109410762787\n",
            "epoch 739, loss 0.033005036413669586\n",
            "epoch 740, loss 0.032889530062675476\n",
            "epoch 741, loss 0.03277451917529106\n",
            "epoch 742, loss 0.03266003727912903\n",
            "epoch 743, loss 0.03254609927535057\n",
            "epoch 744, loss 0.032432638108730316\n",
            "epoch 745, loss 0.032319724559783936\n",
            "epoch 746, loss 0.03220733255147934\n",
            "epoch 747, loss 0.03209540620446205\n",
            "epoch 748, loss 0.03198399767279625\n",
            "epoch 749, loss 0.031873129308223724\n",
            "epoch 750, loss 0.03176271170377731\n",
            "epoch 751, loss 0.03165284916758537\n",
            "epoch 752, loss 0.03154344484210014\n",
            "epoch 753, loss 0.03143453225493431\n",
            "epoch 754, loss 0.031326085329055786\n",
            "epoch 755, loss 0.031218167394399643\n",
            "epoch 756, loss 0.03111073561012745\n",
            "epoch 757, loss 0.031003767624497414\n",
            "epoch 758, loss 0.030897291377186775\n",
            "epoch 759, loss 0.030791254714131355\n",
            "epoch 760, loss 0.030685745179653168\n",
            "epoch 761, loss 0.030580691993236542\n",
            "epoch 762, loss 0.030476102605462074\n",
            "epoch 763, loss 0.03037196770310402\n",
            "epoch 764, loss 0.03026830591261387\n",
            "epoch 765, loss 0.030165087431669235\n",
            "epoch 766, loss 0.030062370002269745\n",
            "epoch 767, loss 0.02996009588241577\n",
            "epoch 768, loss 0.029858265072107315\n",
            "epoch 769, loss 0.029756877571344376\n",
            "epoch 770, loss 0.02965591847896576\n",
            "epoch 771, loss 0.02955544739961624\n",
            "epoch 772, loss 0.029455391690135002\n",
            "epoch 773, loss 0.029355788603425026\n",
            "epoch 774, loss 0.02925664186477661\n",
            "epoch 775, loss 0.02915792167186737\n",
            "epoch 776, loss 0.029059596359729767\n",
            "epoch 777, loss 0.028961747884750366\n",
            "epoch 778, loss 0.028864292427897453\n",
            "epoch 779, loss 0.028767304494976997\n",
            "epoch 780, loss 0.02867072820663452\n",
            "epoch 781, loss 0.028574544936418533\n",
            "epoch 782, loss 0.028478823602199554\n",
            "epoch 783, loss 0.028383485972881317\n",
            "epoch 784, loss 0.028288600966334343\n",
            "epoch 785, loss 0.02819409966468811\n",
            "epoch 786, loss 0.028100037947297096\n",
            "epoch 787, loss 0.028006382286548615\n",
            "epoch 788, loss 0.027913112193346024\n",
            "epoch 789, loss 0.02782011590898037\n",
            "epoch 790, loss 0.027727371081709862\n",
            "epoch 791, loss 0.027634913101792336\n",
            "epoch 792, loss 0.027542777359485626\n",
            "epoch 793, loss 0.027451016008853912\n",
            "epoch 794, loss 0.027359573170542717\n",
            "epoch 795, loss 0.027268486097455025\n",
            "epoch 796, loss 0.02717776596546173\n",
            "epoch 797, loss 0.027087485417723656\n",
            "epoch 798, loss 0.02699754759669304\n",
            "epoch 799, loss 0.026908041909337044\n",
            "epoch 800, loss 0.02681891806423664\n",
            "epoch 801, loss 0.026730170473456383\n",
            "epoch 802, loss 0.026641840115189552\n",
            "epoch 803, loss 0.02655389904975891\n",
            "epoch 804, loss 0.026466315612196922\n",
            "epoch 805, loss 0.026379162445664406\n",
            "epoch 806, loss 0.02629239484667778\n",
            "epoch 807, loss 0.026205984875559807\n",
            "epoch 808, loss 0.026119980961084366\n",
            "epoch 809, loss 0.026034332811832428\n",
            "epoch 810, loss 0.025949086993932724\n",
            "epoch 811, loss 0.025864163413643837\n",
            "epoch 812, loss 0.02577962353825569\n",
            "epoch 813, loss 0.025695495307445526\n",
            "epoch 814, loss 0.02561168745160103\n",
            "epoch 815, loss 0.025528226047754288\n",
            "epoch 816, loss 0.025445163249969482\n",
            "epoch 817, loss 0.0253624077886343\n",
            "epoch 818, loss 0.025280099362134933\n",
            "epoch 819, loss 0.025198105722665787\n",
            "epoch 820, loss 0.025116434320807457\n",
            "epoch 821, loss 0.02503514662384987\n",
            "epoch 822, loss 0.02495420165359974\n",
            "epoch 823, loss 0.024873610585927963\n",
            "epoch 824, loss 0.02479337900876999\n",
            "epoch 825, loss 0.024713465943932533\n",
            "epoch 826, loss 0.024633895605802536\n",
            "epoch 827, loss 0.024554681032896042\n",
            "epoch 828, loss 0.02447577752172947\n",
            "epoch 829, loss 0.024397213011980057\n",
            "epoch 830, loss 0.024318989366292953\n",
            "epoch 831, loss 0.024241095408797264\n",
            "epoch 832, loss 0.024163559079170227\n",
            "epoch 833, loss 0.024086304008960724\n",
            "epoch 834, loss 0.02400939352810383\n",
            "epoch 835, loss 0.023932846263051033\n",
            "epoch 836, loss 0.02385658025741577\n",
            "epoch 837, loss 0.023780640214681625\n",
            "epoch 838, loss 0.023705027997493744\n",
            "epoch 839, loss 0.02362971007823944\n",
            "epoch 840, loss 0.023554734885692596\n",
            "epoch 841, loss 0.023480072617530823\n",
            "epoch 842, loss 0.023405740037560463\n",
            "epoch 843, loss 0.023331686854362488\n",
            "epoch 844, loss 0.023257939144968987\n",
            "epoch 845, loss 0.0231845211237669\n",
            "epoch 846, loss 0.023111389949917793\n",
            "epoch 847, loss 0.023038584738969803\n",
            "epoch 848, loss 0.022966085001826286\n",
            "epoch 849, loss 0.022893834859132767\n",
            "epoch 850, loss 0.022821931168437004\n",
            "epoch 851, loss 0.022750310599803925\n",
            "epoch 852, loss 0.02267901785671711\n",
            "epoch 853, loss 0.022607985883951187\n",
            "epoch 854, loss 0.022537242621183395\n",
            "epoch 855, loss 0.022466810420155525\n",
            "epoch 856, loss 0.02239665947854519\n",
            "epoch 857, loss 0.022326774895191193\n",
            "epoch 858, loss 0.022257234901189804\n",
            "epoch 859, loss 0.02218792773783207\n",
            "epoch 860, loss 0.022118914872407913\n",
            "epoch 861, loss 0.022050203755497932\n",
            "epoch 862, loss 0.02198176085948944\n",
            "epoch 863, loss 0.021913597360253334\n",
            "epoch 864, loss 0.021845698356628418\n",
            "epoch 865, loss 0.02177809365093708\n",
            "epoch 866, loss 0.021710745990276337\n",
            "epoch 867, loss 0.021643714979290962\n",
            "epoch 868, loss 0.02157694660127163\n",
            "epoch 869, loss 0.021510399878025055\n",
            "epoch 870, loss 0.021444175392389297\n",
            "epoch 871, loss 0.02137819491326809\n",
            "epoch 872, loss 0.021312478929758072\n",
            "epoch 873, loss 0.02124704048037529\n",
            "epoch 874, loss 0.021181868389248848\n",
            "epoch 875, loss 0.021116960793733597\n",
            "epoch 876, loss 0.021052304655313492\n",
            "epoch 877, loss 0.020987892523407936\n",
            "epoch 878, loss 0.020923754200339317\n",
            "epoch 879, loss 0.02085987851023674\n",
            "epoch 880, loss 0.020796267315745354\n",
            "epoch 881, loss 0.020732885226607323\n",
            "epoch 882, loss 0.02066977135837078\n",
            "epoch 883, loss 0.02060689590871334\n",
            "epoch 884, loss 0.020544273778796196\n",
            "epoch 885, loss 0.02048191800713539\n",
            "epoch 886, loss 0.02041979879140854\n",
            "epoch 887, loss 0.020357949659228325\n",
            "epoch 888, loss 0.02029632218182087\n",
            "epoch 889, loss 0.020234977826476097\n",
            "epoch 890, loss 0.0201738141477108\n",
            "epoch 891, loss 0.02011295035481453\n",
            "epoch 892, loss 0.02005227468907833\n",
            "epoch 893, loss 0.019991878420114517\n",
            "epoch 894, loss 0.019931716844439507\n",
            "epoch 895, loss 0.019871795549988747\n",
            "epoch 896, loss 0.019812123849987984\n",
            "epoch 897, loss 0.019752614200115204\n",
            "epoch 898, loss 0.019693396985530853\n",
            "epoch 899, loss 0.019634418189525604\n",
            "epoch 900, loss 0.019575655460357666\n",
            "epoch 901, loss 0.019517114385962486\n",
            "epoch 902, loss 0.019458821043372154\n",
            "epoch 903, loss 0.019400741904973984\n",
            "epoch 904, loss 0.019342876970767975\n",
            "epoch 905, loss 0.019285287708044052\n",
            "epoch 906, loss 0.01922788843512535\n",
            "epoch 907, loss 0.01917070895433426\n",
            "epoch 908, loss 0.019113784655928612\n",
            "epoch 909, loss 0.01905687525868416\n",
            "epoch 910, loss 0.019000062718987465\n",
            "epoch 911, loss 0.018943313509225845\n",
            "epoch 912, loss 0.018886709585785866\n",
            "epoch 913, loss 0.018830282613635063\n",
            "epoch 914, loss 0.018774043768644333\n",
            "epoch 915, loss 0.018717996776103973\n",
            "epoch 916, loss 0.018662158399820328\n",
            "epoch 917, loss 0.01860653981566429\n",
            "epoch 918, loss 0.018551118671894073\n",
            "epoch 919, loss 0.018495922908186913\n",
            "epoch 920, loss 0.0184409711509943\n",
            "epoch 921, loss 0.01838621310889721\n",
            "epoch 922, loss 0.018331684172153473\n",
            "epoch 923, loss 0.018277402967214584\n",
            "epoch 924, loss 0.018223300576210022\n",
            "epoch 925, loss 0.018169449642300606\n",
            "epoch 926, loss 0.018115811049938202\n",
            "epoch 927, loss 0.018062379211187363\n",
            "epoch 928, loss 0.01800917461514473\n",
            "epoch 929, loss 0.017956173047423363\n",
            "epoch 930, loss 0.01790335401892662\n",
            "epoch 931, loss 0.01785079762339592\n",
            "epoch 932, loss 0.01779843121767044\n",
            "epoch 933, loss 0.01774626225233078\n",
            "epoch 934, loss 0.017694294452667236\n",
            "epoch 935, loss 0.017642542719841003\n",
            "epoch 936, loss 0.01759100891649723\n",
            "epoch 937, loss 0.01753965951502323\n",
            "epoch 938, loss 0.017488501965999603\n",
            "epoch 939, loss 0.017437588423490524\n",
            "epoch 940, loss 0.017386840656399727\n",
            "epoch 941, loss 0.017336314544081688\n",
            "epoch 942, loss 0.017285970970988274\n",
            "epoch 943, loss 0.017235800623893738\n",
            "epoch 944, loss 0.017185838893055916\n",
            "epoch 945, loss 0.017136100679636\n",
            "epoch 946, loss 0.01708652637898922\n",
            "epoch 947, loss 0.0170371662825346\n",
            "epoch 948, loss 0.016987966373562813\n",
            "epoch 949, loss 0.016938989982008934\n",
            "epoch 950, loss 0.01689016819000244\n",
            "epoch 951, loss 0.0168415866792202\n",
            "epoch 952, loss 0.016793156042695045\n",
            "epoch 953, loss 0.016744928434491158\n",
            "epoch 954, loss 0.016696877777576447\n",
            "epoch 955, loss 0.016649017110466957\n",
            "epoch 956, loss 0.016601312905550003\n",
            "epoch 957, loss 0.016553819179534912\n",
            "epoch 958, loss 0.016506509855389595\n",
            "epoch 959, loss 0.016459370031952858\n",
            "epoch 960, loss 0.01641240529716015\n",
            "epoch 961, loss 0.016365621238946915\n",
            "epoch 962, loss 0.016319021582603455\n",
            "epoch 963, loss 0.016272585839033127\n",
            "epoch 964, loss 0.016226356849074364\n",
            "epoch 965, loss 0.016180280596017838\n",
            "epoch 966, loss 0.01613437570631504\n",
            "epoch 967, loss 0.01608862169086933\n",
            "epoch 968, loss 0.016043083742260933\n",
            "epoch 969, loss 0.015997713431715965\n",
            "epoch 970, loss 0.015952501446008682\n",
            "epoch 971, loss 0.01590743660926819\n",
            "epoch 972, loss 0.015862559899687767\n",
            "epoch 973, loss 0.01581786945462227\n",
            "epoch 974, loss 0.015773344784975052\n",
            "epoch 975, loss 0.015728987753391266\n",
            "epoch 976, loss 0.015684764832258224\n",
            "epoch 977, loss 0.015640739351511\n",
            "epoch 978, loss 0.015596861019730568\n",
            "epoch 979, loss 0.015553158707916737\n",
            "epoch 980, loss 0.015509598888456821\n",
            "epoch 981, loss 0.015466236509382725\n",
            "epoch 982, loss 0.01542299147695303\n",
            "epoch 983, loss 0.015379936434328556\n",
            "epoch 984, loss 0.01533703226596117\n",
            "epoch 985, loss 0.015294279903173447\n",
            "epoch 986, loss 0.015251699835062027\n",
            "epoch 987, loss 0.015209265053272247\n",
            "epoch 988, loss 0.015166979283094406\n",
            "epoch 989, loss 0.015124865807592869\n",
            "epoch 990, loss 0.015082893893122673\n",
            "epoch 991, loss 0.015041109174489975\n",
            "epoch 992, loss 0.01499945204705\n",
            "epoch 993, loss 0.014957965351641178\n",
            "epoch 994, loss 0.014916600659489632\n",
            "epoch 995, loss 0.014875401742756367\n",
            "epoch 996, loss 0.014834336936473846\n",
            "epoch 997, loss 0.01479342021048069\n",
            "epoch 998, loss 0.014752683229744434\n",
            "epoch 999, loss 0.014712082222104073\n"
          ]
        }
      ],
      "source": [
        "n_epochs=1000\n",
        "loss_list=[]\n",
        "\n",
        "#n_epochs\n",
        "\n",
        "model.train() \n",
        "\n",
        "for epoch in range(n_epochs):\n",
        "    #Treinamento em batch\n",
        "    for x, y in train_loader:\n",
        "\n",
        "        optimizer.zero_grad()\n",
        "        y_hat = model(x)\n",
        "\n",
        "        loss = criterion(y_hat,y)\n",
        "        loss.backward()\n",
        "\n",
        "        optimizer.step()\n",
        "        \n",
        "        loss_list.append(loss.data)\n",
        "        \n",
        "    \n",
        "    print('epoch {}, loss {}'.format(epoch, loss.item()))"
      ]
    },
    {
      "cell_type": "markdown",
      "metadata": {
        "id": "Qy7VKj-3rJQ9"
      },
      "source": [
        "## Avaliação do modelo"
      ]
    },
    {
      "cell_type": "markdown",
      "metadata": {
        "id": "r3WQmwtrqmic"
      },
      "source": [
        "Vamos agora avaliar o modelo treinado. Para isso, mudamos o modelo para o \"modo\" eval. Além disso, usamos o torch.no_grad(), para que a execução do trecho de código tenha o autograd engine desativado. \n",
        "\n",
        "Lembrete: Caso queira continuar o treinamento do modelo, é necessário usar o comando model.train()"
      ]
    },
    {
      "cell_type": "code",
      "execution_count": null,
      "metadata": {
        "id": "RkGXmudfSpqk"
      },
      "outputs": [],
      "source": [
        "model.eval()\n",
        "with torch.no_grad():\n",
        "  X_test_torch = torch.from_numpy(X_test).float()\n",
        "  y_hat = model(X_test_torch)\n",
        "  y_ = torch.argmax(y_hat.data,dim = 1).numpy()"
      ]
    },
    {
      "cell_type": "markdown",
      "metadata": {
        "id": "KZx3cTLWrFSb"
      },
      "source": [
        "## Métricas de avaliação para classificação"
      ]
    },
    {
      "cell_type": "code",
      "execution_count": null,
      "metadata": {
        "colab": {
          "base_uri": "https://localhost:8080/"
        },
        "id": "XgcinoT7Zioo",
        "outputId": "20a21fc5-9843-413b-e674-b075e12f0d2f"
      },
      "outputs": [
        {
          "name": "stdout",
          "output_type": "stream",
          "text": [
            "              precision    recall  f1-score   support\n",
            "\n",
            "           0       1.00      1.00      1.00        10\n",
            "           1       1.00      0.89      0.94         9\n",
            "           2       0.92      1.00      0.96        11\n",
            "\n",
            "    accuracy                           0.97        30\n",
            "   macro avg       0.97      0.96      0.97        30\n",
            "weighted avg       0.97      0.97      0.97        30\n",
            "\n"
          ]
        }
      ],
      "source": [
        "print(classification_report(y_test, y_))"
      ]
    },
    {
      "cell_type": "code",
      "execution_count": null,
      "metadata": {
        "id": "fP6c_ptiZie6"
      },
      "outputs": [],
      "source": [
        "cm = confusion_matrix(y_test, y_)"
      ]
    },
    {
      "cell_type": "code",
      "execution_count": null,
      "metadata": {
        "id": "8qBAMgWn6qph"
      },
      "outputs": [],
      "source": [
        "def plot_confusion_matrix(cm,\n",
        "                          target_names,\n",
        "                          title='Confusion matrix',\n",
        "                          cmap=None,\n",
        "                          normalize=False):\n",
        "    \"\"\"\n",
        "    given a sklearn confusion matrix (cm), make a nice plot\n",
        "\n",
        "    Arguments\n",
        "    ---------\n",
        "    cm:           confusion matrix from sklearn.metrics.confusion_matrix\n",
        "\n",
        "    target_names: given classification classes such as [0, 1, 2]\n",
        "                  the class names, for example: ['high', 'medium', 'low']\n",
        "\n",
        "    title:        the text to display at the top of the matrix\n",
        "\n",
        "    cmap:         the gradient of the values displayed from matplotlib.pyplot.cm\n",
        "                  see http://matplotlib.org/examples/color/colormaps_reference.html\n",
        "                  plt.get_cmap('jet') or plt.cm.Blues\n",
        "\n",
        "    normalize:    If False, plot the raw numbers\n",
        "                  If True, plot the proportions\n",
        "\n",
        "    Usage\n",
        "    -----\n",
        "    plot_confusion_matrix(cm           = cm,                  # confusion matrix created by\n",
        "                                                              # sklearn.metrics.confusion_matrix\n",
        "                          normalize    = True,                # show proportions\n",
        "                          target_names = y_labels_vals,       # list of names of the classes\n",
        "                          title        = best_estimator_name) # title of graph\n",
        "\n",
        "    Citiation\n",
        "    ---------\n",
        "    http://scikit-learn.org/stable/auto_examples/model_selection/plot_confusion_matrix.html\n",
        "\n",
        "    \"\"\"\n",
        "    import matplotlib.pyplot as plt\n",
        "    import numpy as np\n",
        "    import itertools\n",
        "\n",
        "    accuracy = np.trace(cm) / np.sum(cm).astype('float')\n",
        "    misclass = 1 - accuracy\n",
        "\n",
        "    if cmap is None:\n",
        "        cmap = plt.get_cmap('Blues')\n",
        "\n",
        "    plt.figure(figsize=(8, 6))\n",
        "    plt.imshow(cm, interpolation='nearest', cmap=cmap)\n",
        "    plt.title(title)\n",
        "    plt.colorbar()\n",
        "\n",
        "    if target_names is not None:\n",
        "        tick_marks = np.arange(len(target_names))\n",
        "        plt.xticks(tick_marks, target_names, rotation=45)\n",
        "        plt.yticks(tick_marks, target_names)\n",
        "\n",
        "    if normalize:\n",
        "        cm = cm.astype('float') / cm.sum(axis=1)[:, np.newaxis]\n",
        "\n",
        "\n",
        "    thresh = cm.max() / 1.5 if normalize else cm.max() / 2\n",
        "    for i, j in itertools.product(range(cm.shape[0]), range(cm.shape[1])):\n",
        "        if normalize:\n",
        "            plt.text(j, i, \"{:0.4f}\".format(cm[i, j]),\n",
        "                     horizontalalignment=\"center\",\n",
        "                     color=\"white\" if cm[i, j] > thresh else \"black\")\n",
        "        else:\n",
        "            plt.text(j, i, \"{:,}\".format(cm[i, j]),\n",
        "                     horizontalalignment=\"center\",\n",
        "                     color=\"white\" if cm[i, j] > thresh else \"black\")\n",
        "\n",
        "\n",
        "    plt.tight_layout()\n",
        "    plt.ylabel('True label')\n",
        "    plt.xlabel('Predicted label\\naccuracy={:0.4f}; misclass={:0.4f}'.format(accuracy, misclass))\n",
        "    plt.show()"
      ]
    },
    {
      "cell_type": "code",
      "execution_count": null,
      "metadata": {
        "colab": {
          "base_uri": "https://localhost:8080/",
          "height": 467
        },
        "id": "uMxrwlLy6z0Y",
        "outputId": "5ffff594-95fc-4c2f-dd0d-376f41e57517"
      },
      "outputs": [
        {
          "data": {
            "image/png": "[encoded data removed]",
            "text/plain": [
              "<Figure size 576x432 with 2 Axes>"
            ]
          },
          "metadata": {
            "needs_background": "light"
          },
          "output_type": "display_data"
        }
      ],
      "source": [
        "plot_confusion_matrix(cm, data.target_names)"
      ]
    },
    {
      "cell_type": "code",
      "execution_count": null,
      "metadata": {
        "id": "vxIFfIg755fs"
      },
      "outputs": [],
      "source": [
        "#@title Forma \"elegante\" para mostrar a evolução do treinamento.\n",
        "\n",
        "epochs = 50\n",
        "for e in tqdm(range(1, epochs+1)):\n",
        "  \n",
        "  y_hat = np.array([])\n",
        "\n",
        "  train_epoch_loss = 0\n",
        "  train_epoch_acc = 0\n",
        "  model.train()\n",
        "  for X_train_batch, y_train_batch in train_loader:\n",
        "      X, y = X_train_batch.to(device), y_train_batch.to(device)\n",
        "      optimizer.zero_grad()\n",
        "      \n",
        "      y_pred = model(X)\n",
        "      \n",
        "      loss = criterion(y_pred, y)\n",
        "      acc = accuracy(y_pred, y)\n",
        "      \n",
        "      loss.backward()\n",
        "      optimizer.step()\n",
        "      \n",
        "      train_epoch_loss += loss.item()\n",
        "      train_epoch_acc += acc.item()\n",
        "      y_p = torch.argmax(y_pred, dim=1)\n",
        "      y_hat = np.concatenate((y_hat, y_p))\n",
        "  \n",
        "  _, val_loss, val_acc = evaluate(model, val_loader, criterion, device, binary=binary)\n",
        "\n",
        "  history['acc_train'].append(train_epoch_acc)\n",
        "  history['loss_train'].append(train_epoch_loss)\n",
        "  history['acc_val'].append(val_acc)\n",
        "  history['loss_val'].append(val_loss)\n",
        "  \n",
        "  print(f'Epoch {e+0:03}: | Train Loss: {train_epoch_loss/len(train_loader):.3f} | Val Loss: {val_loss/len(val_loader):.4f} | Train Acc: {train_epoch_acc/len(train_loader):.4f}| Val Acc: {val_acc/len(val_loader):.4f}')\n"
      ]
    }
  ],
  "metadata": {
    "colab": {
      "name": "Cópia de RN_ex1.ipynb",
      "provenance": []
    },
    "kernelspec": {
      "display_name": "nnpuc",
      "language": "python",
      "name": "nnpuc"
    },
    "language_info": {
      "codemirror_mode": {
        "name": "ipython",
        "version": 3
      },
      "file_extension": ".py",
      "mimetype": "text/x-python",
      "name": "python",
      "nbconvert_exporter": "python",
      "pygments_lexer": "ipython3",
      "version": "3.8.5"
    }
  },
  "nbformat": 4,
  "nbformat_minor": 0
}
