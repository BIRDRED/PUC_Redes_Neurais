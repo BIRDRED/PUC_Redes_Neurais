{
  "cells": [
    {
      "cell_type": "markdown",
      "metadata": {
        "id": "view-in-github",
        "colab_type": "text"
      },
      "source": [
        "<a href=\"https://colab.research.google.com/github/BIRDRED/PUC_Redes_Neurais/blob/main/Gustavo_Melo_Projeto_Final.ipynb\" target=\"_parent\"><img src=\"https://colab.research.google.com/assets/colab-badge.svg\" alt=\"Open In Colab\"/></a>"
      ]
    },
    {
      "cell_type": "markdown",
      "metadata": {
        "id": "0yBnCP1ilBm3"
      },
      "source": [
        "# Import"
      ]
    },
    {
      "cell_type": "code",
      "execution_count": 1,
      "metadata": {
        "id": "89lzs6j9J3kA"
      },
      "outputs": [],
      "source": [
        "import pandas as pd\n",
        "import numpy as np\n",
        "import seaborn as sns\n",
        "import matplotlib.pyplot as plt\n",
        "from sklearn.preprocessing import StandardScaler\n",
        "from sklearn.metrics import silhouette_score\n",
        "from sklearn.cluster import KMeans\n",
        "import pickle\n",
        "import warnings\n",
        "import string\n",
        "import time\n",
        "from unicodedata import normalize\n",
        "from nltk.corpus import stopwords\n",
        "from nltk.metrics.confusionmatrix import ConfusionMatrix\n",
        "from nltk.stem import RSLPStemmer\n",
        "import numpy\n",
        "from sklearn.model_selection import train_test_split\n",
        "from sklearn.feature_extraction.text import TfidfVectorizer, CountVectorizer\n",
        "import csv\n",
        "import nltk"
      ]
    },
    {
      "cell_type": "code",
      "execution_count": 2,
      "metadata": {
        "id": "kMWO4lz4RUko"
      },
      "outputs": [],
      "source": [
        "from nltk import tokenize\n",
        "import re\n",
        "from nltk.stem import PorterStemmer\n",
        "from nltk.tokenize import word_tokenize"
      ]
    },
    {
      "cell_type": "code",
      "execution_count": 3,
      "metadata": {
        "colab": {
          "base_uri": "https://localhost:8080/"
        },
        "id": "wQeAbdQFRbZ6",
        "outputId": "c5c656b7-37b7-4ba1-aed5-1ce6bd90a700"
      },
      "outputs": [
        {
          "output_type": "stream",
          "name": "stderr",
          "text": [
            "[nltk_data] Downloading package rslp to /root/nltk_data...\n",
            "[nltk_data]   Unzipping stemmers/rslp.zip.\n",
            "[nltk_data] Downloading package punkt to /root/nltk_data...\n",
            "[nltk_data]   Unzipping tokenizers/punkt.zip.\n",
            "[nltk_data] Downloading package stopwords to /root/nltk_data...\n",
            "[nltk_data]   Unzipping corpora/stopwords.zip.\n"
          ]
        },
        {
          "output_type": "execute_result",
          "data": {
            "text/plain": [
              "True"
            ]
          },
          "metadata": {},
          "execution_count": 3
        }
      ],
      "source": [
        "nltk.download(['rslp', 'punkt', 'stopwords'])"
      ]
    },
    {
      "cell_type": "code",
      "execution_count": 4,
      "metadata": {
        "id": "Jlynmd4fRhQK"
      },
      "outputs": [],
      "source": [
        "from tqdm.auto import tqdm"
      ]
    },
    {
      "cell_type": "code",
      "execution_count": 5,
      "metadata": {
        "colab": {
          "base_uri": "https://localhost:8080/"
        },
        "id": "VBb7EzidKHwC",
        "outputId": "d68db95e-413a-4ec6-969b-272e9c9bacc3"
      },
      "outputs": [
        {
          "output_type": "stream",
          "name": "stdout",
          "text": [
            "Mounted at /content/drive\n"
          ]
        }
      ],
      "source": [
        "from google.colab import drive\n",
        "drive.mount('/content/drive')"
      ]
    },
    {
      "cell_type": "code",
      "source": [
        "colab = True\n",
        "if colab:\n",
        "    !git clone https://github.com/mdrs-thiago/PUC_Redes_Neurais\n",
        "    import os\n",
        "    os.chdir('/content/PUC_Redes_Neurais/pos_grad/lista 1')"
      ],
      "metadata": {
        "id": "lt2vxCLdDcZz",
        "colab": {
          "base_uri": "https://localhost:8080/"
        },
        "outputId": "a045d974-867d-4755-999c-1476d1c6ab73"
      },
      "execution_count": 6,
      "outputs": [
        {
          "output_type": "stream",
          "name": "stdout",
          "text": [
            "Cloning into 'PUC_Redes_Neurais'...\n",
            "remote: Enumerating objects: 321, done.\u001b[K\n",
            "remote: Counting objects: 100% (321/321), done.\u001b[K\n",
            "remote: Compressing objects: 100% (252/252), done.\u001b[K\n",
            "remote: Total 321 (delta 124), reused 242 (delta 48), pack-reused 0\u001b[K\n",
            "Receiving objects: 100% (321/321), 3.99 MiB | 15.73 MiB/s, done.\n",
            "Resolving deltas: 100% (124/124), done.\n"
          ]
        }
      ]
    },
    {
      "cell_type": "code",
      "source": [
        "pip install unidecode"
      ],
      "metadata": {
        "colab": {
          "base_uri": "https://localhost:8080/"
        },
        "id": "WrhBFOPqab_2",
        "outputId": "3d1d790a-12af-4fbd-939e-26b7bab0aba7"
      },
      "execution_count": 7,
      "outputs": [
        {
          "output_type": "stream",
          "name": "stdout",
          "text": [
            "Collecting unidecode\n",
            "  Downloading Unidecode-1.3.6-py3-none-any.whl (235 kB)\n",
            "\u001b[?25l     \u001b[90m━━━━━━━━━━━━━━━━━━━━━━━━━━━━━━━━━━━━━━━━\u001b[0m \u001b[32m0.0/235.9 kB\u001b[0m \u001b[31m?\u001b[0m eta \u001b[36m-:--:--\u001b[0m\r\u001b[2K     \u001b[90m━━━━━━━━━━━━━━━━━━━━━━━━━━━━━━━━━━━━━━━\u001b[0m \u001b[32m235.9/235.9 kB\u001b[0m \u001b[31m9.3 MB/s\u001b[0m eta \u001b[36m0:00:00\u001b[0m\n",
            "\u001b[?25hInstalling collected packages: unidecode\n",
            "Successfully installed unidecode-1.3.6\n"
          ]
        }
      ]
    },
    {
      "cell_type": "code",
      "execution_count": 8,
      "metadata": {
        "id": "ChMWsft3lArb"
      },
      "outputs": [],
      "source": [
        "tqdm.pandas()"
      ]
    },
    {
      "cell_type": "code",
      "source": [
        "from unidecode import unidecode"
      ],
      "metadata": {
        "id": "EjraJbctaYqw"
      },
      "execution_count": 9,
      "outputs": []
    },
    {
      "cell_type": "code",
      "source": [
        "from sklearn.naive_bayes import MultinomialNB,GaussianNB,ComplementNB,BernoulliNB"
      ],
      "metadata": {
        "id": "DUIlkHwYDfoG"
      },
      "execution_count": 10,
      "outputs": []
    },
    {
      "cell_type": "code",
      "source": [
        "from sklearn.metrics import make_scorer, precision_score, recall_score, f1_score, accuracy_score, classification_report"
      ],
      "metadata": {
        "id": "VsaQtfYBDhyM"
      },
      "execution_count": 11,
      "outputs": []
    },
    {
      "cell_type": "code",
      "source": [
        "from sklearn.svm import SVC"
      ],
      "metadata": {
        "id": "hdqnw09_DkRL"
      },
      "execution_count": 12,
      "outputs": []
    },
    {
      "cell_type": "code",
      "source": [
        "from sklearn.tree import DecisionTreeClassifier"
      ],
      "metadata": {
        "id": "QtwGFDkSDshu"
      },
      "execution_count": 13,
      "outputs": []
    },
    {
      "cell_type": "code",
      "source": [
        "import torch\n",
        "import torch.nn as nn\n",
        "import torch.nn.functional as F\n",
        "from torch.utils.data import DataLoader\n",
        "from utils import CustomDataset, transform_data, plot_confusion_matrix\n",
        "from model_utils import train"
      ],
      "metadata": {
        "id": "NS874MGMDzRP"
      },
      "execution_count": 14,
      "outputs": []
    },
    {
      "cell_type": "code",
      "source": [
        "from sklearn.preprocessing import LabelEncoder\n",
        "from numpy import array"
      ],
      "metadata": {
        "id": "U1Dexu0MEPMq"
      },
      "execution_count": 15,
      "outputs": []
    },
    {
      "cell_type": "code",
      "source": [
        "from utils import CustomDataset, transform_data, plot_confusion_matrix\n",
        "from sklearn.metrics import classification_report, confusion_matrix"
      ],
      "metadata": {
        "id": "WuE1HIc0v5gv"
      },
      "execution_count": 16,
      "outputs": []
    },
    {
      "cell_type": "markdown",
      "source": [
        "# Pré- Processamento"
      ],
      "metadata": {
        "id": "47HaVGovC_ou"
      }
    },
    {
      "cell_type": "code",
      "execution_count": 17,
      "metadata": {
        "id": "IMLW8gf6KO7U"
      },
      "outputs": [],
      "source": [
        "Base_DD = pd.read_csv('/content/drive/MyDrive/Mestrado/Redes Neurais/Projetos/Trabalho Final/base_app_balanceado.csv', sep=\",\",dtype={'Relato': object})"
      ]
    },
    {
      "cell_type": "code",
      "source": [
        "def removeAcentos(texto):\n",
        "\n",
        "    frasesSemAcento = []\n",
        "    semAcento = [normalize('NFKD', p).encode('ASCII','ignore').decode('ASCII') for p in texto]\n",
        "    frasesSemAcento.append(semAcento)\n",
        "    return frasesSemAcento"
      ],
      "metadata": {
        "id": "RUOXSZEPYyHr"
      },
      "execution_count": 18,
      "outputs": []
    },
    {
      "cell_type": "code",
      "source": [
        "stemmer = nltk.stem.RSLPStemmer()"
      ],
      "metadata": {
        "id": "SH-21E436WHe"
      },
      "execution_count": 19,
      "outputs": []
    },
    {
      "cell_type": "code",
      "source": [
        "def tokenize(text):\n",
        "    tokens = [word for sent in nltk.sent_tokenize(unidecode(text)) for word in nltk.word_tokenize(sent)]\n",
        "    filtered_tokens = [token for token in tokens if re.search('[a-zA-Z]', token)]\n",
        "    stems = [stemmer.stem(t) for t in filtered_tokens if len(t) > 0]\n",
        "    return stems"
      ],
      "metadata": {
        "id": "0irGwgKC7qfB"
      },
      "execution_count": 20,
      "outputs": []
    },
    {
      "cell_type": "code",
      "source": [
        "Base_DD.loc[:, 'nltk_stemm'] = Base_DD.Relato.progress_map(tokenize)"
      ],
      "metadata": {
        "colab": {
          "base_uri": "https://localhost:8080/",
          "height": 0,
          "referenced_widgets": [
            "c9b6c928703a4ad988c1f79d6bd7d691",
            "95e4f50cf782412d866c298b620f7f67",
            "4d425beb90204649a517f9f08a6d6e02",
            "a650e57d54be4affa69777624edd77a9",
            "740c70ab36e54891a733876f661b2a52",
            "95a2e003bdb14d4abb13065ab68eed94",
            "7e5f6a32879a4cd8b658098608e35aec",
            "6baa8e524b164193bfcff8d13c8e69cf",
            "9a25ff0323fc459997314c12e368e076",
            "a2dfd91d8fb9476c9123c9fc26be2a40",
            "88108eea8dfa448a9bcc962b40c761a9"
          ]
        },
        "id": "LMwr49-576u5",
        "outputId": "10554de6-277b-4939-a15f-e15577b6eb98"
      },
      "execution_count": 21,
      "outputs": [
        {
          "output_type": "display_data",
          "data": {
            "text/plain": [
              "  0%|          | 0/2500 [00:00<?, ?it/s]"
            ],
            "application/vnd.jupyter.widget-view+json": {
              "version_major": 2,
              "version_minor": 0,
              "model_id": "c9b6c928703a4ad988c1f79d6bd7d691"
            }
          },
          "metadata": {}
        }
      ]
    },
    {
      "cell_type": "code",
      "source": [
        "frasesSemAcento = []\n",
        "for texto in Base_DD['nltk_stemm']:\n",
        "  for palavras in texto:\n",
        "    semAcento = unidecode(palavras)\n",
        "    frasesSemAcento.append(semAcento)"
      ],
      "metadata": {
        "id": "I664KmDwZGGc"
      },
      "execution_count": 22,
      "outputs": []
    },
    {
      "cell_type": "code",
      "source": [
        "dictPos = {\n",
        "    'Violência doméstica': 0,\n",
        "    'Tráfico de Drogas / Armas': 1,\n",
        "    'Roubos em Geral': 2,\n",
        "    'Outros': 3,\n",
        "    'Homicidio': 4\n",
        "}"
      ],
      "metadata": {
        "id": "ku39LQXuEJsT"
      },
      "execution_count": 23,
      "outputs": []
    },
    {
      "cell_type": "code",
      "source": [
        "Base_DD['Assunto'] = Base_DD['Assunto'].map(dictPos)"
      ],
      "metadata": {
        "id": "gf3p4tF4EKcQ"
      },
      "execution_count": 24,
      "outputs": []
    },
    {
      "cell_type": "markdown",
      "source": [
        "# Conversão de Modelos"
      ],
      "metadata": {
        "id": "AUAkfp2bEVsT"
      }
    },
    {
      "cell_type": "code",
      "source": [
        "x = Base_DD['nltk_stemm']\n",
        "y = Base_DD['Assunto']"
      ],
      "metadata": {
        "id": "BA2IPHCz9184"
      },
      "execution_count": 25,
      "outputs": []
    },
    {
      "cell_type": "code",
      "source": [
        "X_train, X_test, y_train, y_test = train_test_split(x,y,random_state = 42,test_size=0.20,stratify = y,shuffle=True)\n",
        "X_train, X_val, y_train, y_val = train_test_split(X_train,y_train,test_size=0.2,random_state=42)"
      ],
      "metadata": {
        "id": "EH_5ymH_9BsF"
      },
      "execution_count": 26,
      "outputs": []
    },
    {
      "cell_type": "code",
      "source": [
        "X_train"
      ],
      "metadata": {
        "colab": {
          "base_uri": "https://localhost:8080/"
        },
        "id": "IIUim3kyry04",
        "outputId": "ceb0e915-1a08-4b38-f5f7-d539ce83913a"
      },
      "execution_count": 28,
      "outputs": [
        {
          "output_type": "execute_result",
          "data": {
            "text/plain": [
              "483     ['bo, 'noit, 'acab, 'cheg, 'cas, 'nov, 'ocorr,...\n",
              "1934             [o, 'maquin, 'cac, 'niquel, 'expost, 'b]\n",
              "320     ['doil, 'cachorr, 'medi, 'port, 'branc, 'manch...\n",
              "925     ['quer, 'denunci, 'vez, 'tot, 'descans, 'v, 'a...\n",
              "1380    ['moment, 'vari, 'element, 'arm, 'ru, 'laur, '...\n",
              "                              ...                        \n",
              "1796    ['abandon, 'id, 'senh, 'fic, 'so, 'cas, 'condi...\n",
              "1408               ['furt, 'energ, 'ampl, 'med, 'adulter]\n",
              "2185    ['visa, 'propr, 'esc, 'induz, 'delit, 'ilicit,...\n",
              "1365                    ['roub, 'relogi, 'ru, 'don, 'nov]\n",
              "1340    ['pratic, 'tod, 'di, 'crimin, 'roub, 'carr, 'c...\n",
              "Name: nltk_stemm, Length: 1600, dtype: object"
            ]
          },
          "metadata": {},
          "execution_count": 28
        }
      ]
    },
    {
      "cell_type": "code",
      "source": [
        "conversor = TfidfVectorizer(analyzer = 'word', tokenizer=lambda doc: doc, lowercase=False)\n",
        "X_train = conversor.fit_transform(X_train)\n",
        "X_test =  conversor.transform(X_test)\n",
        "X_val =   conversor.transform(X_val)"
      ],
      "metadata": {
        "colab": {
          "base_uri": "https://localhost:8080/"
        },
        "id": "c_WHQG6p-TFo",
        "outputId": "b2f3fd98-0762-4f31-8bf7-c630233850d8"
      },
      "execution_count": null,
      "outputs": [
        {
          "output_type": "stream",
          "name": "stderr",
          "text": [
            "/usr/local/lib/python3.10/dist-packages/sklearn/feature_extraction/text.py:528: UserWarning: The parameter 'token_pattern' will not be used since 'tokenizer' is not None'\n",
            "  warnings.warn(\n"
          ]
        }
      ]
    },
    {
      "cell_type": "markdown",
      "source": [
        "# Modelos"
      ],
      "metadata": {
        "id": "DlC5AYLvEgOj"
      }
    },
    {
      "cell_type": "markdown",
      "source": [
        "## SVM"
      ],
      "metadata": {
        "id": "Xw-kHASLEihO"
      }
    },
    {
      "cell_type": "code",
      "source": [
        "model = SVC(kernel=\"poly\",  C=1, gamma=1,   coef0=1,  degree=3, tol=0.0001, random_state=310)"
      ],
      "metadata": {
        "id": "EYlVleDt--XP"
      },
      "execution_count": null,
      "outputs": []
    },
    {
      "cell_type": "code",
      "source": [
        "model.fit(X_train, y_train)\n"
      ],
      "metadata": {
        "colab": {
          "base_uri": "https://localhost:8080/",
          "height": 74
        },
        "id": "szmL_9Xk-34B",
        "outputId": "20061ad4-5821-40e3-d764-42179c993d07"
      },
      "execution_count": null,
      "outputs": [
        {
          "output_type": "execute_result",
          "data": {
            "text/plain": [
              "SVC(C=1, coef0=1, gamma=1, kernel='poly', random_state=310, tol=0.0001)"
            ],
            "text/html": [
              "<style>#sk-container-id-1 {color: black;background-color: white;}#sk-container-id-1 pre{padding: 0;}#sk-container-id-1 div.sk-toggleable {background-color: white;}#sk-container-id-1 label.sk-toggleable__label {cursor: pointer;display: block;width: 100%;margin-bottom: 0;padding: 0.3em;box-sizing: border-box;text-align: center;}#sk-container-id-1 label.sk-toggleable__label-arrow:before {content: \"▸\";float: left;margin-right: 0.25em;color: #696969;}#sk-container-id-1 label.sk-toggleable__label-arrow:hover:before {color: black;}#sk-container-id-1 div.sk-estimator:hover label.sk-toggleable__label-arrow:before {color: black;}#sk-container-id-1 div.sk-toggleable__content {max-height: 0;max-width: 0;overflow: hidden;text-align: left;background-color: #f0f8ff;}#sk-container-id-1 div.sk-toggleable__content pre {margin: 0.2em;color: black;border-radius: 0.25em;background-color: #f0f8ff;}#sk-container-id-1 input.sk-toggleable__control:checked~div.sk-toggleable__content {max-height: 200px;max-width: 100%;overflow: auto;}#sk-container-id-1 input.sk-toggleable__control:checked~label.sk-toggleable__label-arrow:before {content: \"▾\";}#sk-container-id-1 div.sk-estimator input.sk-toggleable__control:checked~label.sk-toggleable__label {background-color: #d4ebff;}#sk-container-id-1 div.sk-label input.sk-toggleable__control:checked~label.sk-toggleable__label {background-color: #d4ebff;}#sk-container-id-1 input.sk-hidden--visually {border: 0;clip: rect(1px 1px 1px 1px);clip: rect(1px, 1px, 1px, 1px);height: 1px;margin: -1px;overflow: hidden;padding: 0;position: absolute;width: 1px;}#sk-container-id-1 div.sk-estimator {font-family: monospace;background-color: #f0f8ff;border: 1px dotted black;border-radius: 0.25em;box-sizing: border-box;margin-bottom: 0.5em;}#sk-container-id-1 div.sk-estimator:hover {background-color: #d4ebff;}#sk-container-id-1 div.sk-parallel-item::after {content: \"\";width: 100%;border-bottom: 1px solid gray;flex-grow: 1;}#sk-container-id-1 div.sk-label:hover label.sk-toggleable__label {background-color: #d4ebff;}#sk-container-id-1 div.sk-serial::before {content: \"\";position: absolute;border-left: 1px solid gray;box-sizing: border-box;top: 0;bottom: 0;left: 50%;z-index: 0;}#sk-container-id-1 div.sk-serial {display: flex;flex-direction: column;align-items: center;background-color: white;padding-right: 0.2em;padding-left: 0.2em;position: relative;}#sk-container-id-1 div.sk-item {position: relative;z-index: 1;}#sk-container-id-1 div.sk-parallel {display: flex;align-items: stretch;justify-content: center;background-color: white;position: relative;}#sk-container-id-1 div.sk-item::before, #sk-container-id-1 div.sk-parallel-item::before {content: \"\";position: absolute;border-left: 1px solid gray;box-sizing: border-box;top: 0;bottom: 0;left: 50%;z-index: -1;}#sk-container-id-1 div.sk-parallel-item {display: flex;flex-direction: column;z-index: 1;position: relative;background-color: white;}#sk-container-id-1 div.sk-parallel-item:first-child::after {align-self: flex-end;width: 50%;}#sk-container-id-1 div.sk-parallel-item:last-child::after {align-self: flex-start;width: 50%;}#sk-container-id-1 div.sk-parallel-item:only-child::after {width: 0;}#sk-container-id-1 div.sk-dashed-wrapped {border: 1px dashed gray;margin: 0 0.4em 0.5em 0.4em;box-sizing: border-box;padding-bottom: 0.4em;background-color: white;}#sk-container-id-1 div.sk-label label {font-family: monospace;font-weight: bold;display: inline-block;line-height: 1.2em;}#sk-container-id-1 div.sk-label-container {text-align: center;}#sk-container-id-1 div.sk-container {/* jupyter's `normalize.less` sets `[hidden] { display: none; }` but bootstrap.min.css set `[hidden] { display: none !important; }` so we also need the `!important` here to be able to override the default hidden behavior on the sphinx rendered scikit-learn.org. See: https://github.com/scikit-learn/scikit-learn/issues/21755 */display: inline-block !important;position: relative;}#sk-container-id-1 div.sk-text-repr-fallback {display: none;}</style><div id=\"sk-container-id-1\" class=\"sk-top-container\"><div class=\"sk-text-repr-fallback\"><pre>SVC(C=1, coef0=1, gamma=1, kernel=&#x27;poly&#x27;, random_state=310, tol=0.0001)</pre><b>In a Jupyter environment, please rerun this cell to show the HTML representation or trust the notebook. <br />On GitHub, the HTML representation is unable to render, please try loading this page with nbviewer.org.</b></div><div class=\"sk-container\" hidden><div class=\"sk-item\"><div class=\"sk-estimator sk-toggleable\"><input class=\"sk-toggleable__control sk-hidden--visually\" id=\"sk-estimator-id-1\" type=\"checkbox\" checked><label for=\"sk-estimator-id-1\" class=\"sk-toggleable__label sk-toggleable__label-arrow\">SVC</label><div class=\"sk-toggleable__content\"><pre>SVC(C=1, coef0=1, gamma=1, kernel=&#x27;poly&#x27;, random_state=310, tol=0.0001)</pre></div></div></div></div></div>"
            ]
          },
          "metadata": {},
          "execution_count": 29
        }
      ]
    },
    {
      "cell_type": "code",
      "source": [
        "y_pred_SVM = model.predict(X_test)\n",
        "acuracia = accuracy_score(y_test, y_pred_SVM)\n",
        "print('Acuracia de teste: ', acuracia)\n"
      ],
      "metadata": {
        "colab": {
          "base_uri": "https://localhost:8080/"
        },
        "id": "hm7qSl6e_MP3",
        "outputId": "3f04d5ba-14a0-4528-dfc4-1fd5e469e489"
      },
      "execution_count": null,
      "outputs": [
        {
          "output_type": "stream",
          "name": "stdout",
          "text": [
            "Acuracia de teste:  0.774\n"
          ]
        }
      ]
    },
    {
      "cell_type": "code",
      "source": [
        "print(classification_report(y_test, y_pred_SVM))\n",
        "\n",
        "cm = confusion_matrix(y_test, y_pred_SVM)\n",
        "\n",
        "plot_confusion_matrix(cm)"
      ],
      "metadata": {
        "colab": {
          "base_uri": "https://localhost:8080/",
          "height": 850
        },
        "id": "cX9Rj-7Iytij",
        "outputId": "ce9a43e2-2c02-427f-a48e-68e63a82e03f"
      },
      "execution_count": null,
      "outputs": [
        {
          "output_type": "stream",
          "name": "stdout",
          "text": [
            "              precision    recall  f1-score   support\n",
            "\n",
            "           0       0.77      0.80      0.78       100\n",
            "           1       0.71      0.82      0.76       100\n",
            "           2       0.79      0.78      0.78       100\n",
            "           3       0.68      0.65      0.66       100\n",
            "           4       0.95      0.82      0.88       100\n",
            "\n",
            "    accuracy                           0.77       500\n",
            "   macro avg       0.78      0.77      0.78       500\n",
            "weighted avg       0.78      0.77      0.78       500\n",
            "\n"
          ]
        },
        {
          "output_type": "display_data",
          "data": {
            "text/plain": [
              "<Figure size 800x600 with 2 Axes>"
            ],
            "image/png": "[encoded data removed]"
          },
          "metadata": {}
        }
      ]
    },
    {
      "cell_type": "markdown",
      "source": [
        "## KNN"
      ],
      "metadata": {
        "id": "WEdE7DddEnJd"
      }
    },
    {
      "cell_type": "code",
      "source": [
        "from sklearn.neighbors import KNeighborsClassifier"
      ],
      "metadata": {
        "id": "j0DfHoKN_78-"
      },
      "execution_count": null,
      "outputs": []
    },
    {
      "cell_type": "code",
      "source": [
        "model  = KNeighborsClassifier(algorithm='auto', leaf_size =30, n_neighbors=50, p=2,weights='uniform',metric='minkowski')"
      ],
      "metadata": {
        "id": "BpGAPzHb_3OC"
      },
      "execution_count": null,
      "outputs": []
    },
    {
      "cell_type": "code",
      "source": [
        "model.fit(X_train, y_train)"
      ],
      "metadata": {
        "colab": {
          "base_uri": "https://localhost:8080/",
          "height": 74
        },
        "id": "9xGFZyOWABPV",
        "outputId": "a24fba2b-1b5e-492c-febf-7a8cbc514165"
      },
      "execution_count": null,
      "outputs": [
        {
          "output_type": "execute_result",
          "data": {
            "text/plain": [
              "KNeighborsClassifier(n_neighbors=50)"
            ],
            "text/html": [
              "<style>#sk-container-id-2 {color: black;background-color: white;}#sk-container-id-2 pre{padding: 0;}#sk-container-id-2 div.sk-toggleable {background-color: white;}#sk-container-id-2 label.sk-toggleable__label {cursor: pointer;display: block;width: 100%;margin-bottom: 0;padding: 0.3em;box-sizing: border-box;text-align: center;}#sk-container-id-2 label.sk-toggleable__label-arrow:before {content: \"▸\";float: left;margin-right: 0.25em;color: #696969;}#sk-container-id-2 label.sk-toggleable__label-arrow:hover:before {color: black;}#sk-container-id-2 div.sk-estimator:hover label.sk-toggleable__label-arrow:before {color: black;}#sk-container-id-2 div.sk-toggleable__content {max-height: 0;max-width: 0;overflow: hidden;text-align: left;background-color: #f0f8ff;}#sk-container-id-2 div.sk-toggleable__content pre {margin: 0.2em;color: black;border-radius: 0.25em;background-color: #f0f8ff;}#sk-container-id-2 input.sk-toggleable__control:checked~div.sk-toggleable__content {max-height: 200px;max-width: 100%;overflow: auto;}#sk-container-id-2 input.sk-toggleable__control:checked~label.sk-toggleable__label-arrow:before {content: \"▾\";}#sk-container-id-2 div.sk-estimator input.sk-toggleable__control:checked~label.sk-toggleable__label {background-color: #d4ebff;}#sk-container-id-2 div.sk-label input.sk-toggleable__control:checked~label.sk-toggleable__label {background-color: #d4ebff;}#sk-container-id-2 input.sk-hidden--visually {border: 0;clip: rect(1px 1px 1px 1px);clip: rect(1px, 1px, 1px, 1px);height: 1px;margin: -1px;overflow: hidden;padding: 0;position: absolute;width: 1px;}#sk-container-id-2 div.sk-estimator {font-family: monospace;background-color: #f0f8ff;border: 1px dotted black;border-radius: 0.25em;box-sizing: border-box;margin-bottom: 0.5em;}#sk-container-id-2 div.sk-estimator:hover {background-color: #d4ebff;}#sk-container-id-2 div.sk-parallel-item::after {content: \"\";width: 100%;border-bottom: 1px solid gray;flex-grow: 1;}#sk-container-id-2 div.sk-label:hover label.sk-toggleable__label {background-color: #d4ebff;}#sk-container-id-2 div.sk-serial::before {content: \"\";position: absolute;border-left: 1px solid gray;box-sizing: border-box;top: 0;bottom: 0;left: 50%;z-index: 0;}#sk-container-id-2 div.sk-serial {display: flex;flex-direction: column;align-items: center;background-color: white;padding-right: 0.2em;padding-left: 0.2em;position: relative;}#sk-container-id-2 div.sk-item {position: relative;z-index: 1;}#sk-container-id-2 div.sk-parallel {display: flex;align-items: stretch;justify-content: center;background-color: white;position: relative;}#sk-container-id-2 div.sk-item::before, #sk-container-id-2 div.sk-parallel-item::before {content: \"\";position: absolute;border-left: 1px solid gray;box-sizing: border-box;top: 0;bottom: 0;left: 50%;z-index: -1;}#sk-container-id-2 div.sk-parallel-item {display: flex;flex-direction: column;z-index: 1;position: relative;background-color: white;}#sk-container-id-2 div.sk-parallel-item:first-child::after {align-self: flex-end;width: 50%;}#sk-container-id-2 div.sk-parallel-item:last-child::after {align-self: flex-start;width: 50%;}#sk-container-id-2 div.sk-parallel-item:only-child::after {width: 0;}#sk-container-id-2 div.sk-dashed-wrapped {border: 1px dashed gray;margin: 0 0.4em 0.5em 0.4em;box-sizing: border-box;padding-bottom: 0.4em;background-color: white;}#sk-container-id-2 div.sk-label label {font-family: monospace;font-weight: bold;display: inline-block;line-height: 1.2em;}#sk-container-id-2 div.sk-label-container {text-align: center;}#sk-container-id-2 div.sk-container {/* jupyter's `normalize.less` sets `[hidden] { display: none; }` but bootstrap.min.css set `[hidden] { display: none !important; }` so we also need the `!important` here to be able to override the default hidden behavior on the sphinx rendered scikit-learn.org. See: https://github.com/scikit-learn/scikit-learn/issues/21755 */display: inline-block !important;position: relative;}#sk-container-id-2 div.sk-text-repr-fallback {display: none;}</style><div id=\"sk-container-id-2\" class=\"sk-top-container\"><div class=\"sk-text-repr-fallback\"><pre>KNeighborsClassifier(n_neighbors=50)</pre><b>In a Jupyter environment, please rerun this cell to show the HTML representation or trust the notebook. <br />On GitHub, the HTML representation is unable to render, please try loading this page with nbviewer.org.</b></div><div class=\"sk-container\" hidden><div class=\"sk-item\"><div class=\"sk-estimator sk-toggleable\"><input class=\"sk-toggleable__control sk-hidden--visually\" id=\"sk-estimator-id-2\" type=\"checkbox\" checked><label for=\"sk-estimator-id-2\" class=\"sk-toggleable__label sk-toggleable__label-arrow\">KNeighborsClassifier</label><div class=\"sk-toggleable__content\"><pre>KNeighborsClassifier(n_neighbors=50)</pre></div></div></div></div></div>"
            ]
          },
          "metadata": {},
          "execution_count": 34
        }
      ]
    },
    {
      "cell_type": "code",
      "source": [
        "y_pred_KNN = model.predict(X_test)\n",
        "acuracia = accuracy_score(y_test, y_pred_KNN)\n",
        "print('Acuracia de teste: ', acuracia)"
      ],
      "metadata": {
        "colab": {
          "base_uri": "https://localhost:8080/"
        },
        "id": "unEB2HhOAZBB",
        "outputId": "a43e4dd7-cf50-48f1-ac8d-69e4594914b2"
      },
      "execution_count": null,
      "outputs": [
        {
          "output_type": "stream",
          "name": "stdout",
          "text": [
            "Acuracia de teste:  0.688\n"
          ]
        }
      ]
    },
    {
      "cell_type": "code",
      "source": [
        "print(classification_report(y_test, y_pred_KNN))\n",
        "\n",
        "cm = confusion_matrix(y_test, y_pred_KNN)\n",
        "\n",
        "plot_confusion_matrix(cm)"
      ],
      "metadata": {
        "colab": {
          "base_uri": "https://localhost:8080/",
          "height": 850
        },
        "id": "Ly2ZkZS-zCUd",
        "outputId": "2d854097-df3a-495f-c896-cbc82910efdf"
      },
      "execution_count": null,
      "outputs": [
        {
          "output_type": "stream",
          "name": "stdout",
          "text": [
            "              precision    recall  f1-score   support\n",
            "\n",
            "           0       0.61      0.78      0.69       100\n",
            "           1       0.57      0.71      0.63       100\n",
            "           2       0.79      0.77      0.78       100\n",
            "           3       0.68      0.51      0.58       100\n",
            "           4       0.88      0.67      0.76       100\n",
            "\n",
            "    accuracy                           0.69       500\n",
            "   macro avg       0.71      0.69      0.69       500\n",
            "weighted avg       0.71      0.69      0.69       500\n",
            "\n"
          ]
        },
        {
          "output_type": "display_data",
          "data": {
            "text/plain": [
              "<Figure size 800x600 with 2 Axes>"
            ],
            "image/png": "[encoded data removed]"
          },
          "metadata": {}
        }
      ]
    },
    {
      "cell_type": "markdown",
      "source": [
        "## Naive Bayes"
      ],
      "metadata": {
        "id": "DGTA93SSEtV1"
      }
    },
    {
      "cell_type": "code",
      "source": [
        "model = ComplementNB(alpha=2, class_prior=None, fit_prior=True, norm=False)"
      ],
      "metadata": {
        "id": "CsJF3yNVApDn"
      },
      "execution_count": null,
      "outputs": []
    },
    {
      "cell_type": "code",
      "source": [
        "model.fit(X_train, y_train)"
      ],
      "metadata": {
        "colab": {
          "base_uri": "https://localhost:8080/",
          "height": 74
        },
        "id": "wdH_BW9VAwxc",
        "outputId": "623bdacf-c397-447d-b204-b9416a390b69"
      },
      "execution_count": null,
      "outputs": [
        {
          "output_type": "execute_result",
          "data": {
            "text/plain": [
              "ComplementNB(alpha=2)"
            ],
            "text/html": [
              "<style>#sk-container-id-3 {color: black;background-color: white;}#sk-container-id-3 pre{padding: 0;}#sk-container-id-3 div.sk-toggleable {background-color: white;}#sk-container-id-3 label.sk-toggleable__label {cursor: pointer;display: block;width: 100%;margin-bottom: 0;padding: 0.3em;box-sizing: border-box;text-align: center;}#sk-container-id-3 label.sk-toggleable__label-arrow:before {content: \"▸\";float: left;margin-right: 0.25em;color: #696969;}#sk-container-id-3 label.sk-toggleable__label-arrow:hover:before {color: black;}#sk-container-id-3 div.sk-estimator:hover label.sk-toggleable__label-arrow:before {color: black;}#sk-container-id-3 div.sk-toggleable__content {max-height: 0;max-width: 0;overflow: hidden;text-align: left;background-color: #f0f8ff;}#sk-container-id-3 div.sk-toggleable__content pre {margin: 0.2em;color: black;border-radius: 0.25em;background-color: #f0f8ff;}#sk-container-id-3 input.sk-toggleable__control:checked~div.sk-toggleable__content {max-height: 200px;max-width: 100%;overflow: auto;}#sk-container-id-3 input.sk-toggleable__control:checked~label.sk-toggleable__label-arrow:before {content: \"▾\";}#sk-container-id-3 div.sk-estimator input.sk-toggleable__control:checked~label.sk-toggleable__label {background-color: #d4ebff;}#sk-container-id-3 div.sk-label input.sk-toggleable__control:checked~label.sk-toggleable__label {background-color: #d4ebff;}#sk-container-id-3 input.sk-hidden--visually {border: 0;clip: rect(1px 1px 1px 1px);clip: rect(1px, 1px, 1px, 1px);height: 1px;margin: -1px;overflow: hidden;padding: 0;position: absolute;width: 1px;}#sk-container-id-3 div.sk-estimator {font-family: monospace;background-color: #f0f8ff;border: 1px dotted black;border-radius: 0.25em;box-sizing: border-box;margin-bottom: 0.5em;}#sk-container-id-3 div.sk-estimator:hover {background-color: #d4ebff;}#sk-container-id-3 div.sk-parallel-item::after {content: \"\";width: 100%;border-bottom: 1px solid gray;flex-grow: 1;}#sk-container-id-3 div.sk-label:hover label.sk-toggleable__label {background-color: #d4ebff;}#sk-container-id-3 div.sk-serial::before {content: \"\";position: absolute;border-left: 1px solid gray;box-sizing: border-box;top: 0;bottom: 0;left: 50%;z-index: 0;}#sk-container-id-3 div.sk-serial {display: flex;flex-direction: column;align-items: center;background-color: white;padding-right: 0.2em;padding-left: 0.2em;position: relative;}#sk-container-id-3 div.sk-item {position: relative;z-index: 1;}#sk-container-id-3 div.sk-parallel {display: flex;align-items: stretch;justify-content: center;background-color: white;position: relative;}#sk-container-id-3 div.sk-item::before, #sk-container-id-3 div.sk-parallel-item::before {content: \"\";position: absolute;border-left: 1px solid gray;box-sizing: border-box;top: 0;bottom: 0;left: 50%;z-index: -1;}#sk-container-id-3 div.sk-parallel-item {display: flex;flex-direction: column;z-index: 1;position: relative;background-color: white;}#sk-container-id-3 div.sk-parallel-item:first-child::after {align-self: flex-end;width: 50%;}#sk-container-id-3 div.sk-parallel-item:last-child::after {align-self: flex-start;width: 50%;}#sk-container-id-3 div.sk-parallel-item:only-child::after {width: 0;}#sk-container-id-3 div.sk-dashed-wrapped {border: 1px dashed gray;margin: 0 0.4em 0.5em 0.4em;box-sizing: border-box;padding-bottom: 0.4em;background-color: white;}#sk-container-id-3 div.sk-label label {font-family: monospace;font-weight: bold;display: inline-block;line-height: 1.2em;}#sk-container-id-3 div.sk-label-container {text-align: center;}#sk-container-id-3 div.sk-container {/* jupyter's `normalize.less` sets `[hidden] { display: none; }` but bootstrap.min.css set `[hidden] { display: none !important; }` so we also need the `!important` here to be able to override the default hidden behavior on the sphinx rendered scikit-learn.org. See: https://github.com/scikit-learn/scikit-learn/issues/21755 */display: inline-block !important;position: relative;}#sk-container-id-3 div.sk-text-repr-fallback {display: none;}</style><div id=\"sk-container-id-3\" class=\"sk-top-container\"><div class=\"sk-text-repr-fallback\"><pre>ComplementNB(alpha=2)</pre><b>In a Jupyter environment, please rerun this cell to show the HTML representation or trust the notebook. <br />On GitHub, the HTML representation is unable to render, please try loading this page with nbviewer.org.</b></div><div class=\"sk-container\" hidden><div class=\"sk-item\"><div class=\"sk-estimator sk-toggleable\"><input class=\"sk-toggleable__control sk-hidden--visually\" id=\"sk-estimator-id-3\" type=\"checkbox\" checked><label for=\"sk-estimator-id-3\" class=\"sk-toggleable__label sk-toggleable__label-arrow\">ComplementNB</label><div class=\"sk-toggleable__content\"><pre>ComplementNB(alpha=2)</pre></div></div></div></div></div>"
            ]
          },
          "metadata": {},
          "execution_count": 38
        }
      ]
    },
    {
      "cell_type": "code",
      "source": [
        "y_pred_NB = model.predict(X_test)\n",
        "acuracia = accuracy_score(y_test, y_pred_NB)\n",
        "print('Acuracia de teste: ', acuracia)"
      ],
      "metadata": {
        "colab": {
          "base_uri": "https://localhost:8080/"
        },
        "id": "fLIyk-u-A8ck",
        "outputId": "37a16161-ea1c-4858-fdb3-5655e84eb156"
      },
      "execution_count": null,
      "outputs": [
        {
          "output_type": "stream",
          "name": "stdout",
          "text": [
            "Acuracia de teste:  0.734\n"
          ]
        }
      ]
    },
    {
      "cell_type": "code",
      "source": [
        "print(classification_report(y_test, y_pred_NB))\n",
        "\n",
        "cm = confusion_matrix(y_test, y_pred_NB)\n",
        "\n",
        "plot_confusion_matrix(cm)"
      ],
      "metadata": {
        "colab": {
          "base_uri": "https://localhost:8080/",
          "height": 850
        },
        "id": "ySuXJjRAzNlW",
        "outputId": "28d8b551-2d36-4009-e676-68cab9839666"
      },
      "execution_count": null,
      "outputs": [
        {
          "output_type": "stream",
          "name": "stdout",
          "text": [
            "              precision    recall  f1-score   support\n",
            "\n",
            "           0       0.67      0.87      0.76       100\n",
            "           1       0.61      0.78      0.69       100\n",
            "           2       0.82      0.80      0.81       100\n",
            "           3       0.76      0.53      0.62       100\n",
            "           4       0.92      0.69      0.79       100\n",
            "\n",
            "    accuracy                           0.73       500\n",
            "   macro avg       0.76      0.73      0.73       500\n",
            "weighted avg       0.76      0.73      0.73       500\n",
            "\n"
          ]
        },
        {
          "output_type": "display_data",
          "data": {
            "text/plain": [
              "<Figure size 800x600 with 2 Axes>"
            ],
            "image/png": "[encoded data removed]"
          },
          "metadata": {}
        }
      ]
    },
    {
      "cell_type": "markdown",
      "source": [
        "## Árvore de Decisão"
      ],
      "metadata": {
        "id": "6GZlOTO7EwML"
      }
    },
    {
      "cell_type": "code",
      "source": [
        "model = DecisionTreeClassifier(criterion=\"gini\",max_depth=20,min_samples_leaf=21)"
      ],
      "metadata": {
        "id": "8H0AmFNBA-N2"
      },
      "execution_count": null,
      "outputs": []
    },
    {
      "cell_type": "code",
      "source": [
        "model.fit(X_train, y_train)"
      ],
      "metadata": {
        "id": "zmTfo3RWBZ2X",
        "outputId": "5376a8ad-42be-4506-8710-5168eb26d0e8",
        "colab": {
          "base_uri": "https://localhost:8080/",
          "height": 74
        }
      },
      "execution_count": null,
      "outputs": [
        {
          "output_type": "execute_result",
          "data": {
            "text/plain": [
              "DecisionTreeClassifier(max_depth=20, min_samples_leaf=21)"
            ],
            "text/html": [
              "<style>#sk-container-id-4 {color: black;background-color: white;}#sk-container-id-4 pre{padding: 0;}#sk-container-id-4 div.sk-toggleable {background-color: white;}#sk-container-id-4 label.sk-toggleable__label {cursor: pointer;display: block;width: 100%;margin-bottom: 0;padding: 0.3em;box-sizing: border-box;text-align: center;}#sk-container-id-4 label.sk-toggleable__label-arrow:before {content: \"▸\";float: left;margin-right: 0.25em;color: #696969;}#sk-container-id-4 label.sk-toggleable__label-arrow:hover:before {color: black;}#sk-container-id-4 div.sk-estimator:hover label.sk-toggleable__label-arrow:before {color: black;}#sk-container-id-4 div.sk-toggleable__content {max-height: 0;max-width: 0;overflow: hidden;text-align: left;background-color: #f0f8ff;}#sk-container-id-4 div.sk-toggleable__content pre {margin: 0.2em;color: black;border-radius: 0.25em;background-color: #f0f8ff;}#sk-container-id-4 input.sk-toggleable__control:checked~div.sk-toggleable__content {max-height: 200px;max-width: 100%;overflow: auto;}#sk-container-id-4 input.sk-toggleable__control:checked~label.sk-toggleable__label-arrow:before {content: \"▾\";}#sk-container-id-4 div.sk-estimator input.sk-toggleable__control:checked~label.sk-toggleable__label {background-color: #d4ebff;}#sk-container-id-4 div.sk-label input.sk-toggleable__control:checked~label.sk-toggleable__label {background-color: #d4ebff;}#sk-container-id-4 input.sk-hidden--visually {border: 0;clip: rect(1px 1px 1px 1px);clip: rect(1px, 1px, 1px, 1px);height: 1px;margin: -1px;overflow: hidden;padding: 0;position: absolute;width: 1px;}#sk-container-id-4 div.sk-estimator {font-family: monospace;background-color: #f0f8ff;border: 1px dotted black;border-radius: 0.25em;box-sizing: border-box;margin-bottom: 0.5em;}#sk-container-id-4 div.sk-estimator:hover {background-color: #d4ebff;}#sk-container-id-4 div.sk-parallel-item::after {content: \"\";width: 100%;border-bottom: 1px solid gray;flex-grow: 1;}#sk-container-id-4 div.sk-label:hover label.sk-toggleable__label {background-color: #d4ebff;}#sk-container-id-4 div.sk-serial::before {content: \"\";position: absolute;border-left: 1px solid gray;box-sizing: border-box;top: 0;bottom: 0;left: 50%;z-index: 0;}#sk-container-id-4 div.sk-serial {display: flex;flex-direction: column;align-items: center;background-color: white;padding-right: 0.2em;padding-left: 0.2em;position: relative;}#sk-container-id-4 div.sk-item {position: relative;z-index: 1;}#sk-container-id-4 div.sk-parallel {display: flex;align-items: stretch;justify-content: center;background-color: white;position: relative;}#sk-container-id-4 div.sk-item::before, #sk-container-id-4 div.sk-parallel-item::before {content: \"\";position: absolute;border-left: 1px solid gray;box-sizing: border-box;top: 0;bottom: 0;left: 50%;z-index: -1;}#sk-container-id-4 div.sk-parallel-item {display: flex;flex-direction: column;z-index: 1;position: relative;background-color: white;}#sk-container-id-4 div.sk-parallel-item:first-child::after {align-self: flex-end;width: 50%;}#sk-container-id-4 div.sk-parallel-item:last-child::after {align-self: flex-start;width: 50%;}#sk-container-id-4 div.sk-parallel-item:only-child::after {width: 0;}#sk-container-id-4 div.sk-dashed-wrapped {border: 1px dashed gray;margin: 0 0.4em 0.5em 0.4em;box-sizing: border-box;padding-bottom: 0.4em;background-color: white;}#sk-container-id-4 div.sk-label label {font-family: monospace;font-weight: bold;display: inline-block;line-height: 1.2em;}#sk-container-id-4 div.sk-label-container {text-align: center;}#sk-container-id-4 div.sk-container {/* jupyter's `normalize.less` sets `[hidden] { display: none; }` but bootstrap.min.css set `[hidden] { display: none !important; }` so we also need the `!important` here to be able to override the default hidden behavior on the sphinx rendered scikit-learn.org. See: https://github.com/scikit-learn/scikit-learn/issues/21755 */display: inline-block !important;position: relative;}#sk-container-id-4 div.sk-text-repr-fallback {display: none;}</style><div id=\"sk-container-id-4\" class=\"sk-top-container\"><div class=\"sk-text-repr-fallback\"><pre>DecisionTreeClassifier(max_depth=20, min_samples_leaf=21)</pre><b>In a Jupyter environment, please rerun this cell to show the HTML representation or trust the notebook. <br />On GitHub, the HTML representation is unable to render, please try loading this page with nbviewer.org.</b></div><div class=\"sk-container\" hidden><div class=\"sk-item\"><div class=\"sk-estimator sk-toggleable\"><input class=\"sk-toggleable__control sk-hidden--visually\" id=\"sk-estimator-id-4\" type=\"checkbox\" checked><label for=\"sk-estimator-id-4\" class=\"sk-toggleable__label sk-toggleable__label-arrow\">DecisionTreeClassifier</label><div class=\"sk-toggleable__content\"><pre>DecisionTreeClassifier(max_depth=20, min_samples_leaf=21)</pre></div></div></div></div></div>"
            ]
          },
          "metadata": {},
          "execution_count": 42
        }
      ]
    },
    {
      "cell_type": "code",
      "source": [
        "y_pred_arv = model.predict(X_test)\n",
        "acuracia = accuracy_score(y_test, y_pred_arv)\n",
        "print('Acuracia de teste: ', acuracia)"
      ],
      "metadata": {
        "id": "7wALv62xBbfI",
        "outputId": "6c4eee65-af8d-4a67-dcc3-cacc3a36f23e",
        "colab": {
          "base_uri": "https://localhost:8080/"
        }
      },
      "execution_count": null,
      "outputs": [
        {
          "output_type": "stream",
          "name": "stdout",
          "text": [
            "Acuracia de teste:  0.65\n"
          ]
        }
      ]
    },
    {
      "cell_type": "code",
      "source": [
        "print(classification_report(y_test, y_pred_arv))\n",
        "\n",
        "cm = confusion_matrix(y_test, y_pred_arv)\n",
        "\n",
        "plot_confusion_matrix(cm)"
      ],
      "metadata": {
        "colab": {
          "base_uri": "https://localhost:8080/",
          "height": 850
        },
        "id": "3LPiw7LyzKzm",
        "outputId": "b432851c-755b-4f37-aac7-4c038b07c815"
      },
      "execution_count": null,
      "outputs": [
        {
          "output_type": "stream",
          "name": "stdout",
          "text": [
            "              precision    recall  f1-score   support\n",
            "\n",
            "           0       0.66      0.66      0.66       100\n",
            "           1       0.61      0.59      0.60       100\n",
            "           2       0.80      0.65      0.72       100\n",
            "           3       0.46      0.62      0.53       100\n",
            "           4       0.83      0.73      0.78       100\n",
            "\n",
            "    accuracy                           0.65       500\n",
            "   macro avg       0.67      0.65      0.66       500\n",
            "weighted avg       0.67      0.65      0.66       500\n",
            "\n"
          ]
        },
        {
          "output_type": "display_data",
          "data": {
            "text/plain": [
              "<Figure size 800x600 with 2 Axes>"
            ],
            "image/png": "[encoded data removed]"
          },
          "metadata": {}
        }
      ]
    },
    {
      "cell_type": "markdown",
      "source": [
        "# Redes Neurais - MLP"
      ],
      "metadata": {
        "id": "OBL1uL21E4Fa"
      }
    },
    {
      "cell_type": "code",
      "source": [
        "class NeuralNetwork(torch.nn.Module):\n",
        "  '''\n",
        "  Objeto criado para facilitar o desenvolvimento dos scripts das aulas práticas.\n",
        "  Opção alternativa à criação externa fdo modelo. Basicamente serve como um\n",
        "  'agregador'  de trechos comuns para a criação do modelo. Por exemplo, ao invés\n",
        "  de gastar n+1 linhas para a criação de um modelo com n camadas, podemos criar\n",
        "  o mesmo modelo com apenas uma linha.\n",
        "\n",
        "  Parâmetros de entrada:\n",
        "  - hidden_neurons: Lista com a quantidade de neurônios na camada escondida.\n",
        "  - hidden_activation: Função de ativação para cada camada escondida. Aceita\n",
        "  como parâmetro string ou lista. Caso o parâmetro receba string, então a mesma\n",
        "  função de ativação é utilizada para todas as camadas escondidas. Caso seja uma\n",
        "  lista, cada camada terá sua propria função de ativação definida pela lista.\n",
        "  - output_activation: Função de ativação para a camada de saída.\n",
        "  - lr: Taxa de aprendizado\n",
        "  - n_input: Tamanho do vetor de entrada.\n",
        "  - n_output: Saída do modelo.\n",
        "  '''\n",
        "  def __init__(self,hidden_neurons = 4, hidden_activation = 'relu', output_activation='softmax', lr = 0.05, n_input = 1, n_output = 1):\n",
        "    # create model\n",
        "    super(NeuralNetwork, self).__init__()\n",
        "\n",
        "    self.activations = {'relu': nn.ReLU(), 'sigmoid':nn.Sigmoid(), 'softmax':nn.Softmax()}\n",
        "\n",
        "    self.fc1 = nn.Linear(n_input, hidden_neurons)\n",
        "    self.ha = self.activations[hidden_activation]\n",
        "    self.fc2 = nn.Linear(hidden_neurons, n_output)\n",
        "    #self.out = self.activations[output_activation]\n",
        "\n",
        "    #self.out = nn.Sigmoid() #Para o caso binário\n",
        "  def forward(self,x):\n",
        "    h = self.fc1(x)\n",
        "    h1 = self.ha(h)\n",
        "    y = self.fc2(h1)\n",
        "    #y = self.out(h2)\n",
        "    return y\n",
        "\n",
        "  def predict(self, x, binary=True):\n",
        "    y_hat = self.forward(x)\n",
        "\n",
        "    if binary:\n",
        "      y_pred = torch.round(torch.sigmoid(y_hat))\n",
        "      y_pred = y_pred.detach().numpy()\n",
        "    else:\n",
        "      y_pred = torch.argmax(y_hat, dim=1)\n",
        "\n",
        "    return y_pred"
      ],
      "metadata": {
        "id": "OBCDsYzB-tyd"
      },
      "execution_count": null,
      "outputs": []
    },
    {
      "cell_type": "code",
      "source": [
        "device = torch.device('cuda' if torch.cuda.is_available() else 'cpu')"
      ],
      "metadata": {
        "id": "cmFdvpOE-xsV"
      },
      "execution_count": null,
      "outputs": []
    },
    {
      "cell_type": "code",
      "source": [
        "n_input = X_train.todense().shape[1]"
      ],
      "metadata": {
        "id": "efXZd56Jetip"
      },
      "execution_count": null,
      "outputs": []
    },
    {
      "cell_type": "code",
      "source": [
        "encoder = LabelEncoder()\n",
        "y = encoder.fit_transform(Base_DD['Assunto'])\n",
        "n_output = encoder.classes_.shape[0]"
      ],
      "metadata": {
        "id": "awo-urbnkb9w"
      },
      "execution_count": null,
      "outputs": []
    },
    {
      "cell_type": "code",
      "source": [
        "lr = 0.01"
      ],
      "metadata": {
        "id": "RvLlIawf1_w7"
      },
      "execution_count": null,
      "outputs": []
    },
    {
      "cell_type": "code",
      "source": [
        "binary = False"
      ],
      "metadata": {
        "id": "gz6jDwGz2B4y"
      },
      "execution_count": null,
      "outputs": []
    },
    {
      "cell_type": "code",
      "source": [
        "model = NeuralNetwork(n_input = n_input, n_output=n_output,output_activation='sigmoid')"
      ],
      "metadata": {
        "id": "8fFB9az2-n6v"
      },
      "execution_count": null,
      "outputs": []
    },
    {
      "cell_type": "code",
      "source": [
        "train_dataset = CustomDataset(torch.from_numpy(X_train.todense()).float(),  torch.from_numpy(np.asarray(y_train,dtype=np.float16)).long())\n",
        "val_dataset = CustomDataset(torch.from_numpy(X_val.todense()).float(), torch.from_numpy(np.asarray(y_val,dtype=np.float16)).long())\n",
        "test_dataset = CustomDataset(torch.from_numpy(X_test.todense()).float(), torch.from_numpy(np.asarray(y_test,dtype=np.float16)).long())"
      ],
      "metadata": {
        "id": "5DhcJbXftPKD"
      },
      "execution_count": null,
      "outputs": []
    },
    {
      "cell_type": "code",
      "source": [
        "train_loader = DataLoader(dataset=train_dataset,batch_size=32)\n",
        "val_loader = DataLoader(dataset=val_dataset, batch_size=1)\n",
        "test_loader = DataLoader(dataset=test_dataset, batch_size=1)"
      ],
      "metadata": {
        "id": "VFyz5PR0uh9f"
      },
      "execution_count": null,
      "outputs": []
    },
    {
      "cell_type": "code",
      "source": [
        "history, y_hat = train(model, train_loader, val_dataset, epochs=150, lr=1, device=device, binary=False)"
      ],
      "metadata": {
        "colab": {
          "base_uri": "https://localhost:8080/",
          "height": 1000,
          "referenced_widgets": [
            "3cc54fa2e4524e20b3daa79127eabcaf",
            "c620705e8ea04ad19abb5163ed69d1e0",
            "dacee8488b40452b8b53a6dfa793b217",
            "cf2870d2304b46438f41a456eb1d6ee8",
            "d0ed898ccc19491a8f654ddd65e8b8a7",
            "de1b2aa536864fc7b6fc6bc625fb3907",
            "90d77f9dbe7048a28320807e75adceef",
            "a87f0a45ac374d37b79a235f0fa6daba",
            "f115802e8e0e4a9f9916f5c496ae5548",
            "5c29456ee2f74706bd60094d91e8912e",
            "2d5fb21b3d384fdbb711b8d7de9e4e25"
          ]
        },
        "id": "xQS9Ar_Es-tL",
        "outputId": "c2865018-7d01-4257-bada-d6be687d2f1f"
      },
      "execution_count": null,
      "outputs": [
        {
          "output_type": "display_data",
          "data": {
            "text/plain": [
              "  0%|          | 0/150 [00:00<?, ?it/s]"
            ],
            "application/vnd.jupyter.widget-view+json": {
              "version_major": 2,
              "version_minor": 0,
              "model_id": "3cc54fa2e4524e20b3daa79127eabcaf"
            }
          },
          "metadata": {}
        },
        {
          "output_type": "stream",
          "name": "stdout",
          "text": [
            "Epoch 001: | Train Loss: 1.550 | Val Loss: 1.3729 | Train Acc: 27.3200| Val Acc: 34.0000\n",
            "Epoch 002: | Train Loss: 1.312 | Val Loss: 1.2107 | Train Acc: 43.6800| Val Acc: 42.0000\n",
            "Epoch 003: | Train Loss: 1.110 | Val Loss: 1.0128 | Train Acc: 53.9000| Val Acc: 61.0000\n",
            "Epoch 004: | Train Loss: 0.941 | Val Loss: 0.8875 | Train Acc: 61.8000| Val Acc: 65.0000\n",
            "Epoch 005: | Train Loss: 0.775 | Val Loss: 1.8899 | Train Acc: 70.4200| Val Acc: 40.0000\n",
            "Epoch 006: | Train Loss: 0.675 | Val Loss: 1.4865 | Train Acc: 73.7800| Val Acc: 48.0000\n",
            "Epoch 007: | Train Loss: 0.601 | Val Loss: 1.3183 | Train Acc: 77.2600| Val Acc: 51.0000\n",
            "Epoch 008: | Train Loss: 0.496 | Val Loss: 0.6631 | Train Acc: 84.4600| Val Acc: 78.0000\n",
            "Epoch 009: | Train Loss: 0.433 | Val Loss: 0.6630 | Train Acc: 86.5000| Val Acc: 76.0000\n",
            "Epoch 010: | Train Loss: 0.403 | Val Loss: 0.6683 | Train Acc: 87.0000| Val Acc: 77.0000\n",
            "Epoch 011: | Train Loss: 0.309 | Val Loss: 0.7183 | Train Acc: 90.2400| Val Acc: 73.0000\n",
            "Epoch 012: | Train Loss: 0.222 | Val Loss: 0.7643 | Train Acc: 93.5800| Val Acc: 72.0000\n",
            "Epoch 013: | Train Loss: 0.502 | Val Loss: 1.9886 | Train Acc: 87.5400| Val Acc: 50.0000\n",
            "Epoch 014: | Train Loss: 0.202 | Val Loss: 0.8530 | Train Acc: 95.6600| Val Acc: 73.0000\n",
            "Epoch 015: | Train Loss: 0.134 | Val Loss: 0.7888 | Train Acc: 97.9000| Val Acc: 76.0000\n",
            "Epoch 016: | Train Loss: 0.105 | Val Loss: 0.7659 | Train Acc: 98.8000| Val Acc: 75.0000\n",
            "Epoch 017: | Train Loss: 0.088 | Val Loss: 0.7731 | Train Acc: 99.0400| Val Acc: 76.0000\n",
            "Epoch 018: | Train Loss: 0.076 | Val Loss: 0.7900 | Train Acc: 99.1000| Val Acc: 76.0000\n",
            "Epoch 019: | Train Loss: 0.067 | Val Loss: 0.8091 | Train Acc: 99.2800| Val Acc: 75.0000\n",
            "Epoch 020: | Train Loss: 0.061 | Val Loss: 0.8304 | Train Acc: 99.4000| Val Acc: 74.0000\n",
            "Epoch 021: | Train Loss: 0.056 | Val Loss: 0.8510 | Train Acc: 99.4600| Val Acc: 74.0000\n",
            "Epoch 022: | Train Loss: 0.052 | Val Loss: 0.8700 | Train Acc: 99.5200| Val Acc: 74.0000\n",
            "Epoch 023: | Train Loss: 0.049 | Val Loss: 0.8884 | Train Acc: 99.5200| Val Acc: 74.0000\n",
            "Epoch 024: | Train Loss: 0.046 | Val Loss: 0.9067 | Train Acc: 99.5200| Val Acc: 75.0000\n",
            "Epoch 025: | Train Loss: 0.044 | Val Loss: 0.9221 | Train Acc: 99.5200| Val Acc: 75.0000\n",
            "Epoch 026: | Train Loss: 0.042 | Val Loss: 0.9373 | Train Acc: 99.5200| Val Acc: 75.0000\n",
            "Epoch 027: | Train Loss: 0.041 | Val Loss: 0.9514 | Train Acc: 99.5200| Val Acc: 75.0000\n",
            "Epoch 028: | Train Loss: 0.040 | Val Loss: 0.9646 | Train Acc: 99.5200| Val Acc: 74.0000\n",
            "Epoch 029: | Train Loss: 0.039 | Val Loss: 0.9771 | Train Acc: 99.5200| Val Acc: 74.0000\n",
            "Epoch 030: | Train Loss: 0.038 | Val Loss: 0.9886 | Train Acc: 99.5200| Val Acc: 74.0000\n",
            "Epoch 031: | Train Loss: 0.037 | Val Loss: 0.9987 | Train Acc: 99.5200| Val Acc: 74.0000\n",
            "Epoch 032: | Train Loss: 0.036 | Val Loss: 1.0090 | Train Acc: 99.5200| Val Acc: 74.0000\n",
            "Epoch 033: | Train Loss: 0.035 | Val Loss: 1.0185 | Train Acc: 99.5200| Val Acc: 74.0000\n",
            "Epoch 034: | Train Loss: 0.035 | Val Loss: 1.0274 | Train Acc: 99.5200| Val Acc: 74.0000\n",
            "Epoch 035: | Train Loss: 0.034 | Val Loss: 1.0359 | Train Acc: 99.5200| Val Acc: 74.0000\n",
            "Epoch 036: | Train Loss: 0.033 | Val Loss: 1.0442 | Train Acc: 99.5200| Val Acc: 74.0000\n",
            "Epoch 037: | Train Loss: 0.033 | Val Loss: 1.0519 | Train Acc: 99.5200| Val Acc: 74.0000\n",
            "Epoch 038: | Train Loss: 0.032 | Val Loss: 1.0595 | Train Acc: 99.5200| Val Acc: 74.0000\n",
            "Epoch 039: | Train Loss: 0.032 | Val Loss: 1.0668 | Train Acc: 99.5200| Val Acc: 74.0000\n",
            "Epoch 040: | Train Loss: 0.032 | Val Loss: 1.0738 | Train Acc: 99.5200| Val Acc: 74.0000\n",
            "Epoch 041: | Train Loss: 0.031 | Val Loss: 1.0807 | Train Acc: 99.5200| Val Acc: 73.0000\n",
            "Epoch 042: | Train Loss: 0.031 | Val Loss: 1.0871 | Train Acc: 99.5200| Val Acc: 73.0000\n",
            "Epoch 043: | Train Loss: 0.031 | Val Loss: 1.0937 | Train Acc: 99.5200| Val Acc: 72.0000\n",
            "Epoch 044: | Train Loss: 0.030 | Val Loss: 1.0999 | Train Acc: 99.5200| Val Acc: 72.0000\n",
            "Epoch 045: | Train Loss: 0.030 | Val Loss: 1.1061 | Train Acc: 99.5200| Val Acc: 72.0000\n",
            "Epoch 046: | Train Loss: 0.030 | Val Loss: 1.1121 | Train Acc: 99.5200| Val Acc: 72.0000\n",
            "Epoch 047: | Train Loss: 0.030 | Val Loss: 1.1178 | Train Acc: 99.5200| Val Acc: 72.0000\n",
            "Epoch 048: | Train Loss: 0.029 | Val Loss: 1.1231 | Train Acc: 99.5200| Val Acc: 72.0000\n",
            "Epoch 049: | Train Loss: 0.029 | Val Loss: 1.1263 | Train Acc: 99.5200| Val Acc: 72.0000\n",
            "Epoch 050: | Train Loss: 0.029 | Val Loss: 1.1312 | Train Acc: 99.5200| Val Acc: 72.0000\n",
            "Epoch 051: | Train Loss: 0.028 | Val Loss: 1.1360 | Train Acc: 99.5200| Val Acc: 72.0000\n",
            "Epoch 052: | Train Loss: 0.028 | Val Loss: 1.1405 | Train Acc: 99.5200| Val Acc: 72.0000\n",
            "Epoch 053: | Train Loss: 0.028 | Val Loss: 1.1449 | Train Acc: 99.5200| Val Acc: 72.0000\n",
            "Epoch 054: | Train Loss: 0.028 | Val Loss: 1.1489 | Train Acc: 99.5200| Val Acc: 72.0000\n",
            "Epoch 055: | Train Loss: 0.028 | Val Loss: 1.1534 | Train Acc: 99.5200| Val Acc: 72.0000\n",
            "Epoch 056: | Train Loss: 0.028 | Val Loss: 1.1579 | Train Acc: 99.5200| Val Acc: 72.0000\n",
            "Epoch 057: | Train Loss: 0.027 | Val Loss: 1.1627 | Train Acc: 99.5200| Val Acc: 72.0000\n",
            "Epoch 058: | Train Loss: 0.027 | Val Loss: 1.1660 | Train Acc: 99.5200| Val Acc: 72.0000\n",
            "Epoch 059: | Train Loss: 0.027 | Val Loss: 1.1694 | Train Acc: 99.5200| Val Acc: 72.0000\n",
            "Epoch 060: | Train Loss: 0.027 | Val Loss: 1.1723 | Train Acc: 99.5200| Val Acc: 72.0000\n",
            "Epoch 061: | Train Loss: 0.027 | Val Loss: 1.1753 | Train Acc: 99.5200| Val Acc: 72.0000\n",
            "Epoch 062: | Train Loss: 0.027 | Val Loss: 1.1782 | Train Acc: 99.5200| Val Acc: 72.0000\n",
            "Epoch 063: | Train Loss: 0.027 | Val Loss: 1.1810 | Train Acc: 99.5200| Val Acc: 72.0000\n",
            "Epoch 064: | Train Loss: 0.026 | Val Loss: 1.1842 | Train Acc: 99.5200| Val Acc: 72.0000\n",
            "Epoch 065: | Train Loss: 0.026 | Val Loss: 1.1874 | Train Acc: 99.5200| Val Acc: 72.0000\n",
            "Epoch 066: | Train Loss: 0.026 | Val Loss: 1.1900 | Train Acc: 99.5200| Val Acc: 72.0000\n",
            "Epoch 067: | Train Loss: 0.026 | Val Loss: 1.1923 | Train Acc: 99.5200| Val Acc: 72.0000\n",
            "Epoch 068: | Train Loss: 0.026 | Val Loss: 1.1950 | Train Acc: 99.5200| Val Acc: 72.0000\n",
            "Epoch 069: | Train Loss: 0.026 | Val Loss: 1.1975 | Train Acc: 99.5200| Val Acc: 72.0000\n",
            "Epoch 070: | Train Loss: 0.026 | Val Loss: 1.2000 | Train Acc: 99.5200| Val Acc: 72.0000\n",
            "Epoch 071: | Train Loss: 0.026 | Val Loss: 1.2036 | Train Acc: 99.5200| Val Acc: 72.0000\n",
            "Epoch 072: | Train Loss: 0.025 | Val Loss: 1.2060 | Train Acc: 99.5200| Val Acc: 72.0000\n",
            "Epoch 073: | Train Loss: 0.025 | Val Loss: 1.2086 | Train Acc: 99.5200| Val Acc: 72.0000\n",
            "Epoch 074: | Train Loss: 0.025 | Val Loss: 1.2108 | Train Acc: 99.5200| Val Acc: 72.0000\n",
            "Epoch 075: | Train Loss: 0.025 | Val Loss: 1.2128 | Train Acc: 99.5200| Val Acc: 72.0000\n",
            "Epoch 076: | Train Loss: 0.025 | Val Loss: 1.2154 | Train Acc: 99.5200| Val Acc: 72.0000\n",
            "Epoch 077: | Train Loss: 0.025 | Val Loss: 1.2175 | Train Acc: 99.5200| Val Acc: 72.0000\n",
            "Epoch 078: | Train Loss: 0.025 | Val Loss: 1.2193 | Train Acc: 99.5200| Val Acc: 72.0000\n",
            "Epoch 079: | Train Loss: 0.025 | Val Loss: 1.2221 | Train Acc: 99.5200| Val Acc: 72.0000\n",
            "Epoch 080: | Train Loss: 0.024 | Val Loss: 1.2242 | Train Acc: 99.5200| Val Acc: 72.0000\n",
            "Epoch 081: | Train Loss: 0.024 | Val Loss: 1.2264 | Train Acc: 99.5200| Val Acc: 72.0000\n",
            "Epoch 082: | Train Loss: 0.024 | Val Loss: 1.2285 | Train Acc: 99.5200| Val Acc: 72.0000\n",
            "Epoch 083: | Train Loss: 0.024 | Val Loss: 1.2297 | Train Acc: 99.5200| Val Acc: 72.0000\n",
            "Epoch 084: | Train Loss: 0.024 | Val Loss: 1.2346 | Train Acc: 99.5200| Val Acc: 72.0000\n",
            "Epoch 085: | Train Loss: 0.024 | Val Loss: 1.2374 | Train Acc: 99.5200| Val Acc: 72.0000\n",
            "Epoch 086: | Train Loss: 0.024 | Val Loss: 1.2396 | Train Acc: 99.5200| Val Acc: 72.0000\n",
            "Epoch 087: | Train Loss: 0.024 | Val Loss: 1.2412 | Train Acc: 99.5200| Val Acc: 72.0000\n",
            "Epoch 088: | Train Loss: 0.024 | Val Loss: 1.2427 | Train Acc: 99.5200| Val Acc: 72.0000\n",
            "Epoch 089: | Train Loss: 0.023 | Val Loss: 1.2461 | Train Acc: 99.5200| Val Acc: 72.0000\n",
            "Epoch 090: | Train Loss: 0.023 | Val Loss: 1.2459 | Train Acc: 99.5200| Val Acc: 72.0000\n",
            "Epoch 091: | Train Loss: 0.023 | Val Loss: 1.2493 | Train Acc: 99.5200| Val Acc: 72.0000\n",
            "Epoch 092: | Train Loss: 0.023 | Val Loss: 1.2521 | Train Acc: 99.5200| Val Acc: 72.0000\n",
            "Epoch 093: | Train Loss: 0.023 | Val Loss: 1.2538 | Train Acc: 99.5200| Val Acc: 72.0000\n",
            "Epoch 094: | Train Loss: 0.023 | Val Loss: 1.2553 | Train Acc: 99.5200| Val Acc: 72.0000\n",
            "Epoch 095: | Train Loss: 0.023 | Val Loss: 1.2571 | Train Acc: 99.5200| Val Acc: 72.0000\n",
            "Epoch 096: | Train Loss: 0.023 | Val Loss: 1.2596 | Train Acc: 99.5200| Val Acc: 73.0000\n",
            "Epoch 097: | Train Loss: 0.023 | Val Loss: 1.2604 | Train Acc: 99.5200| Val Acc: 73.0000\n",
            "Epoch 098: | Train Loss: 0.022 | Val Loss: 1.2629 | Train Acc: 99.5200| Val Acc: 73.0000\n",
            "Epoch 099: | Train Loss: 0.022 | Val Loss: 1.2659 | Train Acc: 99.5200| Val Acc: 73.0000\n",
            "Epoch 100: | Train Loss: 0.022 | Val Loss: 1.2652 | Train Acc: 99.5200| Val Acc: 73.0000\n",
            "Epoch 101: | Train Loss: 0.022 | Val Loss: 1.2698 | Train Acc: 99.5200| Val Acc: 73.0000\n",
            "Epoch 102: | Train Loss: 0.022 | Val Loss: 1.2704 | Train Acc: 99.5200| Val Acc: 73.0000\n",
            "Epoch 103: | Train Loss: 0.022 | Val Loss: 1.2729 | Train Acc: 99.5200| Val Acc: 73.0000\n",
            "Epoch 104: | Train Loss: 0.022 | Val Loss: 1.2740 | Train Acc: 99.5200| Val Acc: 73.0000\n",
            "Epoch 105: | Train Loss: 0.022 | Val Loss: 1.2766 | Train Acc: 99.5200| Val Acc: 73.0000\n",
            "Epoch 106: | Train Loss: 0.021 | Val Loss: 1.2787 | Train Acc: 99.5200| Val Acc: 74.0000\n",
            "Epoch 107: | Train Loss: 0.021 | Val Loss: 1.2813 | Train Acc: 99.5800| Val Acc: 73.0000\n",
            "Epoch 108: | Train Loss: 0.021 | Val Loss: 1.2824 | Train Acc: 99.5800| Val Acc: 73.0000\n",
            "Epoch 109: | Train Loss: 0.021 | Val Loss: 1.2842 | Train Acc: 99.5800| Val Acc: 73.0000\n",
            "Epoch 110: | Train Loss: 0.021 | Val Loss: 1.2854 | Train Acc: 99.5800| Val Acc: 73.0000\n",
            "Epoch 111: | Train Loss: 0.021 | Val Loss: 1.2878 | Train Acc: 99.5800| Val Acc: 73.0000\n",
            "Epoch 112: | Train Loss: 0.021 | Val Loss: 1.2900 | Train Acc: 99.5800| Val Acc: 73.0000\n",
            "Epoch 113: | Train Loss: 0.021 | Val Loss: 1.2919 | Train Acc: 99.5800| Val Acc: 73.0000\n",
            "Epoch 114: | Train Loss: 0.020 | Val Loss: 1.2934 | Train Acc: 99.5800| Val Acc: 73.0000\n",
            "Epoch 115: | Train Loss: 0.020 | Val Loss: 1.2956 | Train Acc: 99.5800| Val Acc: 74.0000\n",
            "Epoch 116: | Train Loss: 0.020 | Val Loss: 1.2990 | Train Acc: 99.5800| Val Acc: 74.0000\n",
            "Epoch 117: | Train Loss: 0.020 | Val Loss: 1.3007 | Train Acc: 99.5800| Val Acc: 74.0000\n",
            "Epoch 118: | Train Loss: 0.020 | Val Loss: 1.3016 | Train Acc: 99.5800| Val Acc: 73.0000\n",
            "Epoch 119: | Train Loss: 0.020 | Val Loss: 1.3024 | Train Acc: 99.5800| Val Acc: 74.0000\n",
            "Epoch 120: | Train Loss: 0.020 | Val Loss: 1.3067 | Train Acc: 99.5800| Val Acc: 74.0000\n",
            "Epoch 121: | Train Loss: 0.020 | Val Loss: 1.3085 | Train Acc: 99.5800| Val Acc: 74.0000\n",
            "Epoch 122: | Train Loss: 0.020 | Val Loss: 1.3105 | Train Acc: 99.5800| Val Acc: 73.0000\n",
            "Epoch 123: | Train Loss: 0.020 | Val Loss: 1.3110 | Train Acc: 99.5800| Val Acc: 74.0000\n",
            "Epoch 124: | Train Loss: 0.020 | Val Loss: 1.3144 | Train Acc: 99.6400| Val Acc: 73.0000\n",
            "Epoch 125: | Train Loss: 0.019 | Val Loss: 1.3163 | Train Acc: 99.6400| Val Acc: 73.0000\n",
            "Epoch 126: | Train Loss: 0.019 | Val Loss: 1.3200 | Train Acc: 99.6400| Val Acc: 73.0000\n",
            "Epoch 127: | Train Loss: 0.019 | Val Loss: 1.3212 | Train Acc: 99.6400| Val Acc: 73.0000\n",
            "Epoch 128: | Train Loss: 0.019 | Val Loss: 1.3218 | Train Acc: 99.6400| Val Acc: 73.0000\n",
            "Epoch 129: | Train Loss: 0.019 | Val Loss: 1.3247 | Train Acc: 99.6400| Val Acc: 73.0000\n",
            "Epoch 130: | Train Loss: 0.019 | Val Loss: 1.3279 | Train Acc: 99.6400| Val Acc: 73.0000\n",
            "Epoch 131: | Train Loss: 0.019 | Val Loss: 1.3299 | Train Acc: 99.6400| Val Acc: 73.0000\n",
            "Epoch 132: | Train Loss: 0.019 | Val Loss: 1.3316 | Train Acc: 99.6400| Val Acc: 73.0000\n",
            "Epoch 133: | Train Loss: 0.019 | Val Loss: 1.3314 | Train Acc: 99.6400| Val Acc: 73.0000\n",
            "Epoch 134: | Train Loss: 0.019 | Val Loss: 1.3369 | Train Acc: 99.6400| Val Acc: 73.0000\n",
            "Epoch 135: | Train Loss: 0.019 | Val Loss: 1.3399 | Train Acc: 99.6400| Val Acc: 73.0000\n",
            "Epoch 136: | Train Loss: 0.019 | Val Loss: 1.3396 | Train Acc: 99.6400| Val Acc: 73.0000\n",
            "Epoch 137: | Train Loss: 0.019 | Val Loss: 1.3439 | Train Acc: 99.6400| Val Acc: 73.0000\n",
            "Epoch 138: | Train Loss: 0.019 | Val Loss: 1.3465 | Train Acc: 99.6400| Val Acc: 73.0000\n",
            "Epoch 139: | Train Loss: 0.019 | Val Loss: 1.3470 | Train Acc: 99.6400| Val Acc: 73.0000\n",
            "Epoch 140: | Train Loss: 0.018 | Val Loss: 1.3501 | Train Acc: 99.6400| Val Acc: 73.0000\n",
            "Epoch 141: | Train Loss: 0.018 | Val Loss: 1.3524 | Train Acc: 99.6400| Val Acc: 73.0000\n",
            "Epoch 142: | Train Loss: 0.018 | Val Loss: 1.3518 | Train Acc: 99.6400| Val Acc: 73.0000\n",
            "Epoch 143: | Train Loss: 0.018 | Val Loss: 1.3578 | Train Acc: 99.6400| Val Acc: 73.0000\n",
            "Epoch 144: | Train Loss: 0.018 | Val Loss: 1.3578 | Train Acc: 99.6400| Val Acc: 73.0000\n",
            "Epoch 145: | Train Loss: 0.018 | Val Loss: 1.3616 | Train Acc: 99.6400| Val Acc: 73.0000\n",
            "Epoch 146: | Train Loss: 0.018 | Val Loss: 1.3635 | Train Acc: 99.6400| Val Acc: 73.0000\n",
            "Epoch 147: | Train Loss: 0.018 | Val Loss: 1.3638 | Train Acc: 99.6400| Val Acc: 73.0000\n",
            "Epoch 148: | Train Loss: 0.018 | Val Loss: 1.3687 | Train Acc: 99.6400| Val Acc: 73.0000\n",
            "Epoch 149: | Train Loss: 0.018 | Val Loss: 1.3693 | Train Acc: 99.6400| Val Acc: 73.0000\n",
            "Epoch 150: | Train Loss: 0.018 | Val Loss: 1.3732 | Train Acc: 99.6400| Val Acc: 73.0000\n"
          ]
        }
      ]
    },
    {
      "cell_type": "code",
      "source": [
        "y_pred_rn = model.predict(test_dataset.X_data, binary=False)"
      ],
      "metadata": {
        "id": "Uop12YjrvQbJ"
      },
      "execution_count": null,
      "outputs": []
    },
    {
      "cell_type": "code",
      "source": [
        "accuracy_score(y_test, y_pred_rn)"
      ],
      "metadata": {
        "colab": {
          "base_uri": "https://localhost:8080/"
        },
        "id": "_HNjGVmFtN2V",
        "outputId": "af66984a-db3e-4d94-8ebc-be717c517080"
      },
      "execution_count": null,
      "outputs": [
        {
          "output_type": "execute_result",
          "data": {
            "text/plain": [
              "0.732"
            ]
          },
          "metadata": {},
          "execution_count": 59
        }
      ]
    },
    {
      "cell_type": "code",
      "source": [
        "print(classification_report(y_test, y_pred_rn))\n",
        "\n",
        "cm = confusion_matrix(y_test, y_pred_rn)\n",
        "\n",
        "plot_confusion_matrix(cm)"
      ],
      "metadata": {
        "colab": {
          "base_uri": "https://localhost:8080/",
          "height": 850
        },
        "id": "l9Q9bYw7vYvJ",
        "outputId": "c203ae80-d280-4431-a3bc-23a13935f84e"
      },
      "execution_count": null,
      "outputs": [
        {
          "output_type": "stream",
          "name": "stdout",
          "text": [
            "              precision    recall  f1-score   support\n",
            "\n",
            "           0       0.69      0.86      0.76       100\n",
            "           1       0.70      0.73      0.71       100\n",
            "           2       0.75      0.66      0.70       100\n",
            "           3       0.59      0.54      0.56       100\n",
            "           4       0.97      0.87      0.92       100\n",
            "\n",
            "    accuracy                           0.73       500\n",
            "   macro avg       0.74      0.73      0.73       500\n",
            "weighted avg       0.74      0.73      0.73       500\n",
            "\n"
          ]
        },
        {
          "output_type": "display_data",
          "data": {
            "text/plain": [
              "<Figure size 800x600 with 2 Axes>"
            ],
            "image/png": "[encoded data removed]"
          },
          "metadata": {}
        }
      ]
    },
    {
      "cell_type": "markdown",
      "source": [
        "# Ensemble"
      ],
      "metadata": {
        "id": "lpiTBkzBb-FJ"
      }
    },
    {
      "cell_type": "code",
      "source": [
        "y_test"
      ],
      "metadata": {
        "colab": {
          "base_uri": "https://localhost:8080/"
        },
        "id": "xs_M2oWQcdOn",
        "outputId": "dc237fb3-ff58-44c8-c4df-6ef78a05753d"
      },
      "execution_count": null,
      "outputs": [
        {
          "output_type": "execute_result",
          "data": {
            "text/plain": [
              "2092    4\n",
              "1406    2\n",
              "1939    3\n",
              "1059    2\n",
              "1004    2\n",
              "       ..\n",
              "716     1\n",
              "264     0\n",
              "895     1\n",
              "1765    3\n",
              "1381    2\n",
              "Name: Assunto, Length: 500, dtype: int64"
            ]
          },
          "metadata": {},
          "execution_count": 61
        }
      ]
    },
    {
      "cell_type": "code",
      "source": [
        "y_pred_rn"
      ],
      "metadata": {
        "colab": {
          "base_uri": "https://localhost:8080/"
        },
        "id": "zfIeFQDgci5W",
        "outputId": "38a67744-d31b-4acb-a6fd-8ac13c5c6e61"
      },
      "execution_count": null,
      "outputs": [
        {
          "output_type": "execute_result",
          "data": {
            "text/plain": [
              "tensor([4, 2, 3, 3, 2, 4, 2, 1, 4, 4, 3, 1, 0, 0, 2, 4, 1, 0, 1, 4, 0, 2, 4, 3,\n",
              "        3, 1, 1, 3, 0, 4, 2, 4, 3, 4, 3, 3, 4, 4, 3, 3, 1, 3, 3, 0, 0, 1, 1, 2,\n",
              "        2, 1, 0, 3, 2, 1, 2, 2, 0, 4, 1, 0, 0, 2, 2, 0, 0, 1, 2, 0, 3, 2, 3, 4,\n",
              "        2, 0, 2, 4, 3, 1, 0, 1, 0, 3, 0, 2, 3, 2, 4, 2, 3, 4, 3, 4, 4, 4, 2, 3,\n",
              "        0, 4, 4, 2, 2, 0, 0, 2, 4, 1, 1, 4, 0, 2, 4, 1, 1, 1, 4, 2, 4, 4, 1, 0,\n",
              "        2, 2, 4, 2, 1, 0, 1, 0, 0, 0, 2, 0, 1, 3, 0, 1, 3, 0, 2, 1, 4, 1, 3, 4,\n",
              "        1, 0, 0, 4, 1, 3, 2, 4, 0, 2, 3, 2, 2, 4, 0, 1, 2, 2, 0, 4, 3, 0, 4, 0,\n",
              "        4, 4, 1, 3, 4, 2, 1, 4, 0, 0, 1, 1, 3, 4, 4, 3, 4, 1, 0, 3, 3, 2, 3, 2,\n",
              "        0, 4, 4, 2, 4, 1, 0, 0, 0, 0, 3, 0, 3, 2, 3, 2, 4, 4, 0, 0, 4, 1, 3, 0,\n",
              "        3, 1, 1, 0, 2, 4, 0, 4, 3, 0, 4, 0, 3, 1, 3, 0, 1, 0, 1, 3, 2, 2, 0, 1,\n",
              "        4, 4, 3, 1, 4, 2, 4, 4, 3, 0, 1, 3, 1, 4, 2, 1, 3, 0, 4, 1, 0, 1, 3, 0,\n",
              "        0, 3, 4, 4, 1, 4, 4, 2, 0, 0, 0, 1, 0, 1, 2, 4, 3, 2, 4, 0, 1, 2, 1, 3,\n",
              "        1, 1, 0, 0, 1, 4, 1, 4, 3, 1, 2, 4, 0, 0, 0, 0, 3, 0, 1, 0, 1, 0, 4, 2,\n",
              "        2, 0, 2, 4, 0, 1, 2, 3, 1, 0, 4, 0, 3, 2, 3, 2, 0, 0, 3, 1, 4, 2, 3, 2,\n",
              "        0, 4, 4, 0, 0, 3, 4, 4, 0, 0, 3, 3, 3, 0, 1, 3, 2, 1, 3, 2, 3, 1, 2, 0,\n",
              "        3, 4, 2, 0, 1, 1, 1, 2, 0, 2, 2, 2, 3, 0, 4, 2, 1, 0, 0, 2, 3, 1, 0, 0,\n",
              "        1, 1, 3, 1, 2, 3, 1, 3, 2, 0, 0, 2, 1, 4, 0, 0, 4, 0, 0, 3, 1, 3, 0, 3,\n",
              "        3, 1, 3, 1, 1, 0, 3, 0, 0, 0, 3, 4, 2, 4, 3, 0, 0, 0, 4, 3, 1, 0, 2, 3,\n",
              "        2, 1, 1, 4, 0, 2, 0, 3, 4, 1, 1, 0, 3, 2, 1, 4, 4, 0, 1, 2, 1, 1, 1, 0,\n",
              "        0, 1, 2, 3, 0, 1, 3, 3, 1, 2, 2, 3, 3, 1, 1, 1, 1, 3, 3, 0, 0, 2, 4, 1,\n",
              "        2, 1, 4, 1, 0, 1, 1, 0, 0, 4, 2, 0, 0, 3, 3, 1, 0, 1, 2, 2])"
            ]
          },
          "metadata": {},
          "execution_count": 63
        }
      ]
    },
    {
      "cell_type": "code",
      "source": [
        "d = {'pred': y_test.to_numpy(), 'svm': y_pred_SVM, 'knn': y_pred_KNN, 'arvore': y_pred_arv, 'naive bayes': y_pred_NB, 'redes neurais': y_pred_rn}"
      ],
      "metadata": {
        "id": "hkVn0HPgb9mD"
      },
      "execution_count": null,
      "outputs": []
    },
    {
      "cell_type": "code",
      "source": [
        "df_ensemble = pd.DataFrame(data=d,index=np.arange(0,500))"
      ],
      "metadata": {
        "id": "FTctN5-7dH7C"
      },
      "execution_count": null,
      "outputs": []
    },
    {
      "cell_type": "code",
      "source": [
        "df_ensemble.to_csv('/content/drive/MyDrive/Mestrado/Redes Neurais/Projetos/Trabalho Final/resultadofinal.csv', sep=\";\")"
      ],
      "metadata": {
        "id": "RaY0TSL_dTRF"
      },
      "execution_count": null,
      "outputs": []
    },
    {
      "cell_type": "code",
      "source": [
        "ensemble = []\n",
        "for i in range(len(df_ensemble)):\n",
        "    matrizEnsemble = [0, 0, 0 , 0 , 0]\n",
        "    if(df_ensemble['pred'][i] == df_ensemble['svm'][i]):\n",
        "        matrizEnsemble[df_ensemble['pred'][i]]  = matrizEnsemble[df_ensemble['svm'][i]] + 1\n",
        "    max_list = max(matrizEnsemble)\n",
        "    if(max_list == 1):\n",
        "        assunto_escolhido = df_ensemble['svm'][i]\n",
        "    ensemble[i] =\n"
      ],
      "metadata": {
        "id": "QPU5b3kIdUJG"
      },
      "execution_count": null,
      "outputs": []
    },
    {
      "cell_type": "code",
      "source": [
        "ensemble = []\n",
        "for i in range(len(df_ensemble)):\n",
        "  matrizEnsemble = [0, 0, 0 , 0 , 0]\n",
        "  if(df_ensemble['pred'][i] == df_ensemble['svm'][i]):\n",
        "    matrizEnsemble[df_ensemble['pred'][i]]  = matrizEnsemble[df_ensemble['svm'][i]] + 1\n",
        "  if(df_ensemble['pred'][i] == df_ensemble['knn'][i]):\n",
        "    matrizEnsemble[df_ensemble['pred'][i]]  = matrizEnsemble[df_ensemble['knn'][i]] + 1\n",
        "  if(df_ensemble['pred'][i] == df_ensemble['arvore'][i]):\n",
        "    matrizEnsemble[df_ensemble['pred'][i]]  = matrizEnsemble[df_ensemble['arvore'][i]] + 1\n",
        "  if(df_ensemble['pred'][i] == df_ensemble['naive bayes'][i]):\n",
        "    matrizEnsemble[df_ensemble['pred'][i]]  = matrizEnsemble[df_ensemble['naive bayes'][i]] + 1\n",
        "  if(df_ensemble['pred'][i] == df_ensemble['redes neurais'][i]):\n",
        "    matrizEnsemble[df_ensemble['pred'][i]]  = matrizEnsemble[df_ensemble['redes neurais'][i]] + 1\n",
        "\n",
        "  max_list = max(matrizEnsemble)\n",
        "  if(max_list == 1):\n",
        "    assunto_escolhido = df_ensemble['svm'][i]\n",
        "  if(max_list == 2):\n",
        "    assunto_escolhido = df_ensemble['svm'][i]\n",
        "  else:\n",
        "    assunto_escolhido = matrizEnsemble.index(max_list)\n",
        "  ensemble.append(assunto_escolhido)"
      ],
      "metadata": {
        "id": "LOOdO39ViC0g"
      },
      "execution_count": null,
      "outputs": []
    },
    {
      "cell_type": "code",
      "source": [
        "accuracy_score(y_test, ensemble)"
      ],
      "metadata": {
        "colab": {
          "base_uri": "https://localhost:8080/"
        },
        "id": "XLeODtfTjVMO",
        "outputId": "4a73bcd1-176d-4540-8f5c-ccf4e7d575f1"
      },
      "execution_count": null,
      "outputs": [
        {
          "output_type": "execute_result",
          "data": {
            "text/plain": [
              "0.876"
            ]
          },
          "metadata": {},
          "execution_count": 141
        }
      ]
    },
    {
      "cell_type": "code",
      "source": [
        "print(classification_report(y_test, ensemble))\n",
        "\n",
        "cm = confusion_matrix(y_test, ensemble)\n",
        "\n",
        "plot_confusion_matrix(cm)"
      ],
      "metadata": {
        "colab": {
          "base_uri": "https://localhost:8080/",
          "height": 850
        },
        "id": "5FWoPOIBpWIW",
        "outputId": "d8453fa8-1301-4b58-ff89-35877c1d988f"
      },
      "execution_count": null,
      "outputs": [
        {
          "output_type": "stream",
          "name": "stdout",
          "text": [
            "              precision    recall  f1-score   support\n",
            "\n",
            "           0       0.68      0.98      0.80       100\n",
            "           1       0.97      0.88      0.92       100\n",
            "           2       0.96      0.90      0.93       100\n",
            "           3       0.91      0.75      0.82       100\n",
            "           4       0.99      0.87      0.93       100\n",
            "\n",
            "    accuracy                           0.88       500\n",
            "   macro avg       0.90      0.88      0.88       500\n",
            "weighted avg       0.90      0.88      0.88       500\n",
            "\n"
          ]
        },
        {
          "output_type": "display_data",
          "data": {
            "text/plain": [
              "<Figure size 800x600 with 2 Axes>"
            ],
            "image/png": "[encoded data removed]"
          },
          "metadata": {}
        }
      ]
    }
  ],
  "metadata": {
    "colab": {
      "provenance": [],
      "authorship_tag": "ABX9TyOsJvAV9Zmh0vQbC4VYtLbH",
      "include_colab_link": true
    },
    "kernelspec": {
      "display_name": "Python 3",
      "name": "python3"
    },
    "language_info": {
      "name": "python"
    },
    "widgets": {
      "application/vnd.jupyter.widget-state+json": {
        "3cc54fa2e4524e20b3daa79127eabcaf": {
          "model_module": "@jupyter-widgets/controls",
          "model_name": "HBoxModel",
          "model_module_version": "1.5.0",
          "state": {
            "_dom_classes": [],
            "_model_module": "@jupyter-widgets/controls",
            "_model_module_version": "1.5.0",
            "_model_name": "HBoxModel",
            "_view_count": null,
            "_view_module": "@jupyter-widgets/controls",
            "_view_module_version": "1.5.0",
            "_view_name": "HBoxView",
            "box_style": "",
            "children": [
              "IPY_MODEL_c620705e8ea04ad19abb5163ed69d1e0",
              "IPY_MODEL_dacee8488b40452b8b53a6dfa793b217",
              "IPY_MODEL_cf2870d2304b46438f41a456eb1d6ee8"
            ],
            "layout": "IPY_MODEL_d0ed898ccc19491a8f654ddd65e8b8a7"
          }
        },
        "c620705e8ea04ad19abb5163ed69d1e0": {
          "model_module": "@jupyter-widgets/controls",
          "model_name": "HTMLModel",
          "model_module_version": "1.5.0",
          "state": {
            "_dom_classes": [],
            "_model_module": "@jupyter-widgets/controls",
            "_model_module_version": "1.5.0",
            "_model_name": "HTMLModel",
            "_view_count": null,
            "_view_module": "@jupyter-widgets/controls",
            "_view_module_version": "1.5.0",
            "_view_name": "HTMLView",
            "description": "",
            "description_tooltip": null,
            "layout": "IPY_MODEL_de1b2aa536864fc7b6fc6bc625fb3907",
            "placeholder": "​",
            "style": "IPY_MODEL_90d77f9dbe7048a28320807e75adceef",
            "value": "100%"
          }
        },
        "dacee8488b40452b8b53a6dfa793b217": {
          "model_module": "@jupyter-widgets/controls",
          "model_name": "FloatProgressModel",
          "model_module_version": "1.5.0",
          "state": {
            "_dom_classes": [],
            "_model_module": "@jupyter-widgets/controls",
            "_model_module_version": "1.5.0",
            "_model_name": "FloatProgressModel",
            "_view_count": null,
            "_view_module": "@jupyter-widgets/controls",
            "_view_module_version": "1.5.0",
            "_view_name": "ProgressView",
            "bar_style": "success",
            "description": "",
            "description_tooltip": null,
            "layout": "IPY_MODEL_a87f0a45ac374d37b79a235f0fa6daba",
            "max": 150,
            "min": 0,
            "orientation": "horizontal",
            "style": "IPY_MODEL_f115802e8e0e4a9f9916f5c496ae5548",
            "value": 150
          }
        },
        "cf2870d2304b46438f41a456eb1d6ee8": {
          "model_module": "@jupyter-widgets/controls",
          "model_name": "HTMLModel",
          "model_module_version": "1.5.0",
          "state": {
            "_dom_classes": [],
            "_model_module": "@jupyter-widgets/controls",
            "_model_module_version": "1.5.0",
            "_model_name": "HTMLModel",
            "_view_count": null,
            "_view_module": "@jupyter-widgets/controls",
            "_view_module_version": "1.5.0",
            "_view_name": "HTMLView",
            "description": "",
            "description_tooltip": null,
            "layout": "IPY_MODEL_5c29456ee2f74706bd60094d91e8912e",
            "placeholder": "​",
            "style": "IPY_MODEL_2d5fb21b3d384fdbb711b8d7de9e4e25",
            "value": " 150/150 [00:16&lt;00:00,  7.85it/s]"
          }
        },
        "d0ed898ccc19491a8f654ddd65e8b8a7": {
          "model_module": "@jupyter-widgets/base",
          "model_name": "LayoutModel",
          "model_module_version": "1.2.0",
          "state": {
            "_model_module": "@jupyter-widgets/base",
            "_model_module_version": "1.2.0",
            "_model_name": "LayoutModel",
            "_view_count": null,
            "_view_module": "@jupyter-widgets/base",
            "_view_module_version": "1.2.0",
            "_view_name": "LayoutView",
            "align_content": null,
            "align_items": null,
            "align_self": null,
            "border": null,
            "bottom": null,
            "display": null,
            "flex": null,
            "flex_flow": null,
            "grid_area": null,
            "grid_auto_columns": null,
            "grid_auto_flow": null,
            "grid_auto_rows": null,
            "grid_column": null,
            "grid_gap": null,
            "grid_row": null,
            "grid_template_areas": null,
            "grid_template_columns": null,
            "grid_template_rows": null,
            "height": null,
            "justify_content": null,
            "justify_items": null,
            "left": null,
            "margin": null,
            "max_height": null,
            "max_width": null,
            "min_height": null,
            "min_width": null,
            "object_fit": null,
            "object_position": null,
            "order": null,
            "overflow": null,
            "overflow_x": null,
            "overflow_y": null,
            "padding": null,
            "right": null,
            "top": null,
            "visibility": null,
            "width": null
          }
        },
        "de1b2aa536864fc7b6fc6bc625fb3907": {
          "model_module": "@jupyter-widgets/base",
          "model_name": "LayoutModel",
          "model_module_version": "1.2.0",
          "state": {
            "_model_module": "@jupyter-widgets/base",
            "_model_module_version": "1.2.0",
            "_model_name": "LayoutModel",
            "_view_count": null,
            "_view_module": "@jupyter-widgets/base",
            "_view_module_version": "1.2.0",
            "_view_name": "LayoutView",
            "align_content": null,
            "align_items": null,
            "align_self": null,
            "border": null,
            "bottom": null,
            "display": null,
            "flex": null,
            "flex_flow": null,
            "grid_area": null,
            "grid_auto_columns": null,
            "grid_auto_flow": null,
            "grid_auto_rows": null,
            "grid_column": null,
            "grid_gap": null,
            "grid_row": null,
            "grid_template_areas": null,
            "grid_template_columns": null,
            "grid_template_rows": null,
            "height": null,
            "justify_content": null,
            "justify_items": null,
            "left": null,
            "margin": null,
            "max_height": null,
            "max_width": null,
            "min_height": null,
            "min_width": null,
            "object_fit": null,
            "object_position": null,
            "order": null,
            "overflow": null,
            "overflow_x": null,
            "overflow_y": null,
            "padding": null,
            "right": null,
            "top": null,
            "visibility": null,
            "width": null
          }
        },
        "90d77f9dbe7048a28320807e75adceef": {
          "model_module": "@jupyter-widgets/controls",
          "model_name": "DescriptionStyleModel",
          "model_module_version": "1.5.0",
          "state": {
            "_model_module": "@jupyter-widgets/controls",
            "_model_module_version": "1.5.0",
            "_model_name": "DescriptionStyleModel",
            "_view_count": null,
            "_view_module": "@jupyter-widgets/base",
            "_view_module_version": "1.2.0",
            "_view_name": "StyleView",
            "description_width": ""
          }
        },
        "a87f0a45ac374d37b79a235f0fa6daba": {
          "model_module": "@jupyter-widgets/base",
          "model_name": "LayoutModel",
          "model_module_version": "1.2.0",
          "state": {
            "_model_module": "@jupyter-widgets/base",
            "_model_module_version": "1.2.0",
            "_model_name": "LayoutModel",
            "_view_count": null,
            "_view_module": "@jupyter-widgets/base",
            "_view_module_version": "1.2.0",
            "_view_name": "LayoutView",
            "align_content": null,
            "align_items": null,
            "align_self": null,
            "border": null,
            "bottom": null,
            "display": null,
            "flex": null,
            "flex_flow": null,
            "grid_area": null,
            "grid_auto_columns": null,
            "grid_auto_flow": null,
            "grid_auto_rows": null,
            "grid_column": null,
            "grid_gap": null,
            "grid_row": null,
            "grid_template_areas": null,
            "grid_template_columns": null,
            "grid_template_rows": null,
            "height": null,
            "justify_content": null,
            "justify_items": null,
            "left": null,
            "margin": null,
            "max_height": null,
            "max_width": null,
            "min_height": null,
            "min_width": null,
            "object_fit": null,
            "object_position": null,
            "order": null,
            "overflow": null,
            "overflow_x": null,
            "overflow_y": null,
            "padding": null,
            "right": null,
            "top": null,
            "visibility": null,
            "width": null
          }
        },
        "f115802e8e0e4a9f9916f5c496ae5548": {
          "model_module": "@jupyter-widgets/controls",
          "model_name": "ProgressStyleModel",
          "model_module_version": "1.5.0",
          "state": {
            "_model_module": "@jupyter-widgets/controls",
            "_model_module_version": "1.5.0",
            "_model_name": "ProgressStyleModel",
            "_view_count": null,
            "_view_module": "@jupyter-widgets/base",
            "_view_module_version": "1.2.0",
            "_view_name": "StyleView",
            "bar_color": null,
            "description_width": ""
          }
        },
        "5c29456ee2f74706bd60094d91e8912e": {
          "model_module": "@jupyter-widgets/base",
          "model_name": "LayoutModel",
          "model_module_version": "1.2.0",
          "state": {
            "_model_module": "@jupyter-widgets/base",
            "_model_module_version": "1.2.0",
            "_model_name": "LayoutModel",
            "_view_count": null,
            "_view_module": "@jupyter-widgets/base",
            "_view_module_version": "1.2.0",
            "_view_name": "LayoutView",
            "align_content": null,
            "align_items": null,
            "align_self": null,
            "border": null,
            "bottom": null,
            "display": null,
            "flex": null,
            "flex_flow": null,
            "grid_area": null,
            "grid_auto_columns": null,
            "grid_auto_flow": null,
            "grid_auto_rows": null,
            "grid_column": null,
            "grid_gap": null,
            "grid_row": null,
            "grid_template_areas": null,
            "grid_template_columns": null,
            "grid_template_rows": null,
            "height": null,
            "justify_content": null,
            "justify_items": null,
            "left": null,
            "margin": null,
            "max_height": null,
            "max_width": null,
            "min_height": null,
            "min_width": null,
            "object_fit": null,
            "object_position": null,
            "order": null,
            "overflow": null,
            "overflow_x": null,
            "overflow_y": null,
            "padding": null,
            "right": null,
            "top": null,
            "visibility": null,
            "width": null
          }
        },
        "2d5fb21b3d384fdbb711b8d7de9e4e25": {
          "model_module": "@jupyter-widgets/controls",
          "model_name": "DescriptionStyleModel",
          "model_module_version": "1.5.0",
          "state": {
            "_model_module": "@jupyter-widgets/controls",
            "_model_module_version": "1.5.0",
            "_model_name": "DescriptionStyleModel",
            "_view_count": null,
            "_view_module": "@jupyter-widgets/base",
            "_view_module_version": "1.2.0",
            "_view_name": "StyleView",
            "description_width": ""
          }
        },
        "c9b6c928703a4ad988c1f79d6bd7d691": {
          "model_module": "@jupyter-widgets/controls",
          "model_name": "HBoxModel",
          "model_module_version": "1.5.0",
          "state": {
            "_dom_classes": [],
            "_model_module": "@jupyter-widgets/controls",
            "_model_module_version": "1.5.0",
            "_model_name": "HBoxModel",
            "_view_count": null,
            "_view_module": "@jupyter-widgets/controls",
            "_view_module_version": "1.5.0",
            "_view_name": "HBoxView",
            "box_style": "",
            "children": [
              "IPY_MODEL_95e4f50cf782412d866c298b620f7f67",
              "IPY_MODEL_4d425beb90204649a517f9f08a6d6e02",
              "IPY_MODEL_a650e57d54be4affa69777624edd77a9"
            ],
            "layout": "IPY_MODEL_740c70ab36e54891a733876f661b2a52"
          }
        },
        "95e4f50cf782412d866c298b620f7f67": {
          "model_module": "@jupyter-widgets/controls",
          "model_name": "HTMLModel",
          "model_module_version": "1.5.0",
          "state": {
            "_dom_classes": [],
            "_model_module": "@jupyter-widgets/controls",
            "_model_module_version": "1.5.0",
            "_model_name": "HTMLModel",
            "_view_count": null,
            "_view_module": "@jupyter-widgets/controls",
            "_view_module_version": "1.5.0",
            "_view_name": "HTMLView",
            "description": "",
            "description_tooltip": null,
            "layout": "IPY_MODEL_95a2e003bdb14d4abb13065ab68eed94",
            "placeholder": "​",
            "style": "IPY_MODEL_7e5f6a32879a4cd8b658098608e35aec",
            "value": "100%"
          }
        },
        "4d425beb90204649a517f9f08a6d6e02": {
          "model_module": "@jupyter-widgets/controls",
          "model_name": "FloatProgressModel",
          "model_module_version": "1.5.0",
          "state": {
            "_dom_classes": [],
            "_model_module": "@jupyter-widgets/controls",
            "_model_module_version": "1.5.0",
            "_model_name": "FloatProgressModel",
            "_view_count": null,
            "_view_module": "@jupyter-widgets/controls",
            "_view_module_version": "1.5.0",
            "_view_name": "ProgressView",
            "bar_style": "success",
            "description": "",
            "description_tooltip": null,
            "layout": "IPY_MODEL_6baa8e524b164193bfcff8d13c8e69cf",
            "max": 2500,
            "min": 0,
            "orientation": "horizontal",
            "style": "IPY_MODEL_9a25ff0323fc459997314c12e368e076",
            "value": 2500
          }
        },
        "a650e57d54be4affa69777624edd77a9": {
          "model_module": "@jupyter-widgets/controls",
          "model_name": "HTMLModel",
          "model_module_version": "1.5.0",
          "state": {
            "_dom_classes": [],
            "_model_module": "@jupyter-widgets/controls",
            "_model_module_version": "1.5.0",
            "_model_name": "HTMLModel",
            "_view_count": null,
            "_view_module": "@jupyter-widgets/controls",
            "_view_module_version": "1.5.0",
            "_view_name": "HTMLView",
            "description": "",
            "description_tooltip": null,
            "layout": "IPY_MODEL_a2dfd91d8fb9476c9123c9fc26be2a40",
            "placeholder": "​",
            "style": "IPY_MODEL_88108eea8dfa448a9bcc962b40c761a9",
            "value": " 2500/2500 [00:16&lt;00:00, 57.59it/s]"
          }
        },
        "740c70ab36e54891a733876f661b2a52": {
          "model_module": "@jupyter-widgets/base",
          "model_name": "LayoutModel",
          "model_module_version": "1.2.0",
          "state": {
            "_model_module": "@jupyter-widgets/base",
            "_model_module_version": "1.2.0",
            "_model_name": "LayoutModel",
            "_view_count": null,
            "_view_module": "@jupyter-widgets/base",
            "_view_module_version": "1.2.0",
            "_view_name": "LayoutView",
            "align_content": null,
            "align_items": null,
            "align_self": null,
            "border": null,
            "bottom": null,
            "display": null,
            "flex": null,
            "flex_flow": null,
            "grid_area": null,
            "grid_auto_columns": null,
            "grid_auto_flow": null,
            "grid_auto_rows": null,
            "grid_column": null,
            "grid_gap": null,
            "grid_row": null,
            "grid_template_areas": null,
            "grid_template_columns": null,
            "grid_template_rows": null,
            "height": null,
            "justify_content": null,
            "justify_items": null,
            "left": null,
            "margin": null,
            "max_height": null,
            "max_width": null,
            "min_height": null,
            "min_width": null,
            "object_fit": null,
            "object_position": null,
            "order": null,
            "overflow": null,
            "overflow_x": null,
            "overflow_y": null,
            "padding": null,
            "right": null,
            "top": null,
            "visibility": null,
            "width": null
          }
        },
        "95a2e003bdb14d4abb13065ab68eed94": {
          "model_module": "@jupyter-widgets/base",
          "model_name": "LayoutModel",
          "model_module_version": "1.2.0",
          "state": {
            "_model_module": "@jupyter-widgets/base",
            "_model_module_version": "1.2.0",
            "_model_name": "LayoutModel",
            "_view_count": null,
            "_view_module": "@jupyter-widgets/base",
            "_view_module_version": "1.2.0",
            "_view_name": "LayoutView",
            "align_content": null,
            "align_items": null,
            "align_self": null,
            "border": null,
            "bottom": null,
            "display": null,
            "flex": null,
            "flex_flow": null,
            "grid_area": null,
            "grid_auto_columns": null,
            "grid_auto_flow": null,
            "grid_auto_rows": null,
            "grid_column": null,
            "grid_gap": null,
            "grid_row": null,
            "grid_template_areas": null,
            "grid_template_columns": null,
            "grid_template_rows": null,
            "height": null,
            "justify_content": null,
            "justify_items": null,
            "left": null,
            "margin": null,
            "max_height": null,
            "max_width": null,
            "min_height": null,
            "min_width": null,
            "object_fit": null,
            "object_position": null,
            "order": null,
            "overflow": null,
            "overflow_x": null,
            "overflow_y": null,
            "padding": null,
            "right": null,
            "top": null,
            "visibility": null,
            "width": null
          }
        },
        "7e5f6a32879a4cd8b658098608e35aec": {
          "model_module": "@jupyter-widgets/controls",
          "model_name": "DescriptionStyleModel",
          "model_module_version": "1.5.0",
          "state": {
            "_model_module": "@jupyter-widgets/controls",
            "_model_module_version": "1.5.0",
            "_model_name": "DescriptionStyleModel",
            "_view_count": null,
            "_view_module": "@jupyter-widgets/base",
            "_view_module_version": "1.2.0",
            "_view_name": "StyleView",
            "description_width": ""
          }
        },
        "6baa8e524b164193bfcff8d13c8e69cf": {
          "model_module": "@jupyter-widgets/base",
          "model_name": "LayoutModel",
          "model_module_version": "1.2.0",
          "state": {
            "_model_module": "@jupyter-widgets/base",
            "_model_module_version": "1.2.0",
            "_model_name": "LayoutModel",
            "_view_count": null,
            "_view_module": "@jupyter-widgets/base",
            "_view_module_version": "1.2.0",
            "_view_name": "LayoutView",
            "align_content": null,
            "align_items": null,
            "align_self": null,
            "border": null,
            "bottom": null,
            "display": null,
            "flex": null,
            "flex_flow": null,
            "grid_area": null,
            "grid_auto_columns": null,
            "grid_auto_flow": null,
            "grid_auto_rows": null,
            "grid_column": null,
            "grid_gap": null,
            "grid_row": null,
            "grid_template_areas": null,
            "grid_template_columns": null,
            "grid_template_rows": null,
            "height": null,
            "justify_content": null,
            "justify_items": null,
            "left": null,
            "margin": null,
            "max_height": null,
            "max_width": null,
            "min_height": null,
            "min_width": null,
            "object_fit": null,
            "object_position": null,
            "order": null,
            "overflow": null,
            "overflow_x": null,
            "overflow_y": null,
            "padding": null,
            "right": null,
            "top": null,
            "visibility": null,
            "width": null
          }
        },
        "9a25ff0323fc459997314c12e368e076": {
          "model_module": "@jupyter-widgets/controls",
          "model_name": "ProgressStyleModel",
          "model_module_version": "1.5.0",
          "state": {
            "_model_module": "@jupyter-widgets/controls",
            "_model_module_version": "1.5.0",
            "_model_name": "ProgressStyleModel",
            "_view_count": null,
            "_view_module": "@jupyter-widgets/base",
            "_view_module_version": "1.2.0",
            "_view_name": "StyleView",
            "bar_color": null,
            "description_width": ""
          }
        },
        "a2dfd91d8fb9476c9123c9fc26be2a40": {
          "model_module": "@jupyter-widgets/base",
          "model_name": "LayoutModel",
          "model_module_version": "1.2.0",
          "state": {
            "_model_module": "@jupyter-widgets/base",
            "_model_module_version": "1.2.0",
            "_model_name": "LayoutModel",
            "_view_count": null,
            "_view_module": "@jupyter-widgets/base",
            "_view_module_version": "1.2.0",
            "_view_name": "LayoutView",
            "align_content": null,
            "align_items": null,
            "align_self": null,
            "border": null,
            "bottom": null,
            "display": null,
            "flex": null,
            "flex_flow": null,
            "grid_area": null,
            "grid_auto_columns": null,
            "grid_auto_flow": null,
            "grid_auto_rows": null,
            "grid_column": null,
            "grid_gap": null,
            "grid_row": null,
            "grid_template_areas": null,
            "grid_template_columns": null,
            "grid_template_rows": null,
            "height": null,
            "justify_content": null,
            "justify_items": null,
            "left": null,
            "margin": null,
            "max_height": null,
            "max_width": null,
            "min_height": null,
            "min_width": null,
            "object_fit": null,
            "object_position": null,
            "order": null,
            "overflow": null,
            "overflow_x": null,
            "overflow_y": null,
            "padding": null,
            "right": null,
            "top": null,
            "visibility": null,
            "width": null
          }
        },
        "88108eea8dfa448a9bcc962b40c761a9": {
          "model_module": "@jupyter-widgets/controls",
          "model_name": "DescriptionStyleModel",
          "model_module_version": "1.5.0",
          "state": {
            "_model_module": "@jupyter-widgets/controls",
            "_model_module_version": "1.5.0",
            "_model_name": "DescriptionStyleModel",
            "_view_count": null,
            "_view_module": "@jupyter-widgets/base",
            "_view_module_version": "1.2.0",
            "_view_name": "StyleView",
            "description_width": ""
          }
        }
      }
    }
  },
  "nbformat": 4,
  "nbformat_minor": 0
}